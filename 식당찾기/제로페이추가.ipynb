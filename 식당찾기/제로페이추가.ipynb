{
 "cells": [
  {
   "cell_type": "code",
   "execution_count": 5,
   "id": "b3747a05-76f1-4118-a33f-1cd50cef6935",
   "metadata": {},
   "outputs": [],
   "source": [
    "# 제로페이 등록여부"
   ]
  },
  {
   "cell_type": "code",
   "execution_count": 5,
   "id": "af93406f-775b-4895-bb6f-a5035f5a7648",
   "metadata": {},
   "outputs": [],
   "source": [
    "from selenium import webdriver\n",
    "from selenium.webdriver.common.by import By\n",
    "from selenium.webdriver.support.ui import WebDriverWait\n",
    "from selenium.webdriver.support import expected_conditions as EC\n",
    "import pyautogui\n",
    "import pandas as pd\n",
    "import copy\n",
    "import tqdm"
   ]
  },
  {
   "cell_type": "code",
   "execution_count": 6,
   "id": "0ec0c27c-b6a2-4332-9791-18309af6d09a",
   "metadata": {},
   "outputs": [],
   "source": [
    "load_lst = pd.read_excel(\"거리추가.xlsx\")"
   ]
  },
  {
   "cell_type": "code",
   "execution_count": 7,
   "id": "7a94ef81-3cef-4b3a-9fe1-65e412879d59",
   "metadata": {
    "scrolled": true
   },
   "outputs": [
    {
     "name": "stderr",
     "output_type": "stream",
     "text": [
      "  0%|          | 0/390 [00:00<?, ?it/s]"
     ]
    },
    {
     "name": "stdout",
     "output_type": "stream",
     "text": [
      "화사랑화로구이\n",
      "영등포구 선유로9가길\n"
     ]
    },
    {
     "name": "stderr",
     "output_type": "stream",
     "text": [
      "  0%|          | 1/390 [00:03<22:12,  3.43s/it]"
     ]
    },
    {
     "name": "stdout",
     "output_type": "stream",
     "text": [
      "한식 일반 음식점업\n",
      "라메흐꺄도\n",
      "영등포구 선유로17길\n"
     ]
    },
    {
     "name": "stderr",
     "output_type": "stream",
     "text": [
      "  1%|          | 2/390 [00:06<19:59,  3.09s/it]"
     ]
    },
    {
     "name": "stdout",
     "output_type": "stream",
     "text": [
      "한식 일반 음식점업\n",
      "화덕으로간고등어반상\n",
      "영등포구 선유로9길\n"
     ]
    },
    {
     "name": "stderr",
     "output_type": "stream",
     "text": [
      "  1%|          | 3/390 [00:09<19:09,  2.97s/it]"
     ]
    },
    {
     "name": "stdout",
     "output_type": "stream",
     "text": [
      "내역이 없습니다.\n",
      "쁘띠문래\n",
      "영등포구 선유로17길\n"
     ]
    },
    {
     "name": "stderr",
     "output_type": "stream",
     "text": [
      "  1%|          | 4/390 [00:11<18:47,  2.92s/it]"
     ]
    },
    {
     "name": "stdout",
     "output_type": "stream",
     "text": [
      "한식 해산물 요리 전문점\n",
      "문래옥\n",
      "영등포구 선유로17길\n"
     ]
    },
    {
     "name": "stderr",
     "output_type": "stream",
     "text": [
      "  1%|▏         | 5/390 [00:14<18:48,  2.93s/it]"
     ]
    },
    {
     "name": "stdout",
     "output_type": "stream",
     "text": [
      "한식 일반 음식점업\n",
      "타이산\n",
      "영등포구 선유로13길\n"
     ]
    },
    {
     "name": "stderr",
     "output_type": "stream",
     "text": [
      "  2%|▏         | 6/390 [00:17<18:38,  2.91s/it]"
     ]
    },
    {
     "name": "stdout",
     "output_type": "stream",
     "text": [
      "중식 음식점업\n",
      "샐러드박스\n",
      "영등포구 문래북로\n"
     ]
    },
    {
     "name": "stderr",
     "output_type": "stream",
     "text": [
      "  2%|▏         | 7/390 [00:20<18:33,  2.91s/it]"
     ]
    },
    {
     "name": "stdout",
     "output_type": "stream",
     "text": [
      "김밥 및 기타 간이 음식점업\n",
      "종로김밥\n",
      "영등포구 선유로13길\n"
     ]
    },
    {
     "name": "stderr",
     "output_type": "stream",
     "text": [
      "  2%|▏         | 8/390 [00:24<20:29,  3.22s/it]"
     ]
    },
    {
     "name": "stdout",
     "output_type": "stream",
     "text": [
      "김밥 및 기타 간이 음식점업\n",
      "치킨카페 문래\n",
      "영등포구 선유로17길\n"
     ]
    },
    {
     "name": "stderr",
     "output_type": "stream",
     "text": [
      "  2%|▏         | 9/390 [00:27<20:44,  3.27s/it]"
     ]
    },
    {
     "name": "stdout",
     "output_type": "stream",
     "text": [
      "치킨 전문점\n",
      "땅스부대찌개\n",
      "영등포구 선유서로\n"
     ]
    },
    {
     "name": "stderr",
     "output_type": "stream",
     "text": [
      "  3%|▎         | 10/390 [00:31<21:01,  3.32s/it]"
     ]
    },
    {
     "name": "stdout",
     "output_type": "stream",
     "text": [
      "간이 음식 포장 판매 전문점\n",
      "잭스패티\n",
      "영등포구 선유로9길\n"
     ]
    },
    {
     "name": "stderr",
     "output_type": "stream",
     "text": [
      "  3%|▎         | 11/390 [00:34<19:58,  3.16s/it]"
     ]
    },
    {
     "name": "stdout",
     "output_type": "stream",
     "text": [
      "서양식 음식점업\n",
      "제주올래국수\n",
      "영등포구 선유로13길\n"
     ]
    },
    {
     "name": "stderr",
     "output_type": "stream",
     "text": [
      "  3%|▎         | 12/390 [00:37<19:23,  3.08s/it]"
     ]
    },
    {
     "name": "stdout",
     "output_type": "stream",
     "text": [
      "김밥 및 기타 간이 음식점업\n",
      "본설렁탕\n",
      "영등포구 선유로13길\n"
     ]
    },
    {
     "name": "stderr",
     "output_type": "stream",
     "text": [
      "  3%|▎         | 13/390 [00:40<19:47,  3.15s/it]"
     ]
    },
    {
     "name": "stdout",
     "output_type": "stream",
     "text": [
      "한식 일반 음식점업\n",
      "60계치킨\n",
      "영등포구 문래로\n"
     ]
    },
    {
     "name": "stderr",
     "output_type": "stream",
     "text": [
      "  4%|▎         | 14/390 [00:42<18:20,  2.93s/it]"
     ]
    },
    {
     "name": "stdout",
     "output_type": "stream",
     "text": [
      "내역이 없습니다.\n",
      "커피사피엔스\n",
      "영등포구 문래북로\n"
     ]
    },
    {
     "name": "stderr",
     "output_type": "stream",
     "text": [
      "  4%|▍         | 15/390 [00:45<18:10,  2.91s/it]"
     ]
    },
    {
     "name": "stdout",
     "output_type": "stream",
     "text": [
      "커피 전문점\n",
      "3일한우국밥\n",
      "영등포구 선유로17길\n"
     ]
    },
    {
     "name": "stderr",
     "output_type": "stream",
     "text": [
      "  4%|▍         | 16/390 [00:48<18:01,  2.89s/it]"
     ]
    },
    {
     "name": "stdout",
     "output_type": "stream",
     "text": [
      "한식 일반 음식점업\n",
      "OEC통치킨\n",
      "영등포구 선유서로\n"
     ]
    },
    {
     "name": "stderr",
     "output_type": "stream",
     "text": [
      "  4%|▍         | 17/390 [00:57<29:33,  4.75s/it]"
     ]
    },
    {
     "name": "stdout",
     "output_type": "stream",
     "text": [
      "내역이 없습니다.\n",
      "커피랩스로스터리\n",
      "영등포구 선유로9길\n"
     ]
    },
    {
     "name": "stderr",
     "output_type": "stream",
     "text": [
      "  5%|▍         | 18/390 [01:00<26:53,  4.34s/it]"
     ]
    },
    {
     "name": "stdout",
     "output_type": "stream",
     "text": [
      "커피 전문점\n",
      "닭장\n",
      "영등포구 선유로17길\n"
     ]
    },
    {
     "name": "stderr",
     "output_type": "stream",
     "text": [
      "  5%|▍         | 19/390 [01:03<24:08,  3.90s/it]"
     ]
    },
    {
     "name": "stdout",
     "output_type": "stream",
     "text": [
      "한식 일반 음식점업\n",
      "육부장\n",
      "영등포구 선유로13길\n"
     ]
    },
    {
     "name": "stderr",
     "output_type": "stream",
     "text": [
      "  5%|▌         | 20/390 [01:06<22:05,  3.58s/it]"
     ]
    },
    {
     "name": "stdout",
     "output_type": "stream",
     "text": [
      "한식 일반 음식점업\n",
      "컴포즈커피\n",
      "영등포구 선유로9길\n"
     ]
    },
    {
     "name": "stderr",
     "output_type": "stream",
     "text": [
      "  5%|▌         | 21/390 [01:09<20:38,  3.36s/it]"
     ]
    },
    {
     "name": "stdout",
     "output_type": "stream",
     "text": [
      "커피 전문점\n",
      "한신장\n",
      "영등포구 선유서로\n"
     ]
    },
    {
     "name": "stderr",
     "output_type": "stream",
     "text": [
      "  6%|▌         | 22/390 [01:12<19:30,  3.18s/it]"
     ]
    },
    {
     "name": "stdout",
     "output_type": "stream",
     "text": [
      "내역이 없습니다.\n",
      "지코바\n",
      "영등포구 선유로13길\n"
     ]
    },
    {
     "name": "stderr",
     "output_type": "stream",
     "text": [
      "  6%|▌         | 23/390 [01:15<19:05,  3.12s/it]"
     ]
    },
    {
     "name": "stdout",
     "output_type": "stream",
     "text": [
      "치킨 전문점\n",
      "BHC치킨\n",
      "영등포구 선유로13길\n"
     ]
    },
    {
     "name": "stderr",
     "output_type": "stream",
     "text": [
      "  6%|▌         | 24/390 [01:18<18:37,  3.05s/it]"
     ]
    },
    {
     "name": "stdout",
     "output_type": "stream",
     "text": [
      "내역이 없습니다.\n",
      "타이문\n",
      "영등포구 선유로17길\n"
     ]
    },
    {
     "name": "stderr",
     "output_type": "stream",
     "text": [
      "  6%|▋         | 25/390 [01:21<18:11,  2.99s/it]"
     ]
    },
    {
     "name": "stdout",
     "output_type": "stream",
     "text": [
      "기타 외국식 음식점업\n",
      "다복\n",
      "영등포구 문래로\n"
     ]
    },
    {
     "name": "stderr",
     "output_type": "stream",
     "text": [
      "  7%|▋         | 26/390 [01:23<17:58,  2.96s/it]"
     ]
    },
    {
     "name": "stdout",
     "output_type": "stream",
     "text": [
      "한식 일반 음식점업\n",
      "꼬치피고\n",
      "영등포구 영등포로12길\n"
     ]
    },
    {
     "name": "stderr",
     "output_type": "stream",
     "text": [
      "  7%|▋         | 27/390 [01:26<17:50,  2.95s/it]"
     ]
    },
    {
     "name": "stdout",
     "output_type": "stream",
     "text": [
      "한식 일반 음식점업\n",
      "더리얼치킨\n",
      "영등포구 선유서로\n"
     ]
    },
    {
     "name": "stderr",
     "output_type": "stream",
     "text": [
      "  7%|▋         | 28/390 [01:29<17:30,  2.90s/it]"
     ]
    },
    {
     "name": "stdout",
     "output_type": "stream",
     "text": [
      "치킨 전문점\n",
      "담소소사골순대육개장\n",
      "영등포구 선유서로\n"
     ]
    },
    {
     "name": "stderr",
     "output_type": "stream",
     "text": [
      "  7%|▋         | 29/390 [01:32<17:23,  2.89s/it]"
     ]
    },
    {
     "name": "stdout",
     "output_type": "stream",
     "text": [
      "내역이 없습니다.\n",
      "파리바게뜨\n",
      "영등포구 선유로9길\n"
     ]
    },
    {
     "name": "stderr",
     "output_type": "stream",
     "text": [
      "  8%|▊         | 30/390 [01:35<17:15,  2.88s/it]"
     ]
    },
    {
     "name": "stdout",
     "output_type": "stream",
     "text": [
      "제과점업\n",
      "메가MGC커피\n",
      "영등포구 선유로9길\n"
     ]
    },
    {
     "name": "stderr",
     "output_type": "stream",
     "text": [
      "  8%|▊         | 31/390 [01:38<17:03,  2.85s/it]"
     ]
    },
    {
     "name": "stdout",
     "output_type": "stream",
     "text": [
      "내역이 없습니다.\n",
      "사각한줄\n",
      "영등포구 문래북로\n"
     ]
    },
    {
     "name": "stderr",
     "output_type": "stream",
     "text": [
      "  8%|▊         | 32/390 [01:41<17:58,  3.01s/it]"
     ]
    },
    {
     "name": "stdout",
     "output_type": "stream",
     "text": [
      "내역이 없습니다.\n",
      "훈카츠\n",
      "영등포구 선유로9길\n"
     ]
    },
    {
     "name": "stderr",
     "output_type": "stream",
     "text": [
      "  8%|▊         | 33/390 [01:44<17:34,  2.95s/it]"
     ]
    },
    {
     "name": "stdout",
     "output_type": "stream",
     "text": [
      "일식 음식점업\n",
      "오늘의밥상\n",
      "영등포구 선유로9길\n"
     ]
    },
    {
     "name": "stderr",
     "output_type": "stream",
     "text": [
      "  9%|▊         | 34/390 [01:47<17:15,  2.91s/it]"
     ]
    },
    {
     "name": "stdout",
     "output_type": "stream",
     "text": [
      "한식 일반 음식점업\n",
      "빽다방\n",
      "영등포구 선유로9길\n"
     ]
    },
    {
     "name": "stderr",
     "output_type": "stream",
     "text": [
      "  9%|▉         | 35/390 [01:50<17:16,  2.92s/it]"
     ]
    },
    {
     "name": "stdout",
     "output_type": "stream",
     "text": [
      "커피 전문점\n",
      "문래식당\n",
      "영등포구 문래로\n"
     ]
    },
    {
     "name": "stderr",
     "output_type": "stream",
     "text": [
      "  9%|▉         | 36/390 [01:52<16:59,  2.88s/it]"
     ]
    },
    {
     "name": "stdout",
     "output_type": "stream",
     "text": [
      "한식 일반 음식점업\n",
      "퀸 빅토리아 마켓\n",
      "영등포구 문래북로\n"
     ]
    },
    {
     "name": "stderr",
     "output_type": "stream",
     "text": [
      "  9%|▉         | 37/390 [01:56<17:49,  3.03s/it]"
     ]
    },
    {
     "name": "stdout",
     "output_type": "stream",
     "text": [
      "커피 전문점\n",
      "초밥마트\n",
      "영등포구 문래동6가\n"
     ]
    },
    {
     "name": "stderr",
     "output_type": "stream",
     "text": [
      " 10%|▉         | 38/390 [01:59<17:17,  2.95s/it]"
     ]
    },
    {
     "name": "stdout",
     "output_type": "stream",
     "text": [
      "내역이 없습니다.\n",
      "매머드익스프레스\n",
      "영등포구 문래북로\n"
     ]
    },
    {
     "name": "stderr",
     "output_type": "stream",
     "text": [
      " 10%|█         | 39/390 [02:01<16:58,  2.90s/it]"
     ]
    },
    {
     "name": "stdout",
     "output_type": "stream",
     "text": [
      "커피 전문점\n",
      "언니의식빵가게\n",
      "영등포구 선유서로\n"
     ]
    },
    {
     "name": "stderr",
     "output_type": "stream",
     "text": [
      " 10%|█         | 40/390 [02:04<16:52,  2.89s/it]"
     ]
    },
    {
     "name": "stdout",
     "output_type": "stream",
     "text": [
      "내역이 없습니다.\n",
      "신참떡볶이\n",
      "영등포구 선유로13길\n"
     ]
    },
    {
     "name": "stderr",
     "output_type": "stream",
     "text": [
      " 11%|█         | 41/390 [02:07<16:40,  2.87s/it]"
     ]
    },
    {
     "name": "stdout",
     "output_type": "stream",
     "text": [
      "일식 음식점업\n",
      "나이스카페인클럽\n",
      "영등포구 선유로9길\n"
     ]
    },
    {
     "name": "stderr",
     "output_type": "stream",
     "text": [
      " 11%|█         | 42/390 [02:10<16:47,  2.90s/it]"
     ]
    },
    {
     "name": "stdout",
     "output_type": "stream",
     "text": [
      "커피 전문점\n",
      "조아요거트아이스크림\n",
      "영등포구 선유서로\n"
     ]
    },
    {
     "name": "stderr",
     "output_type": "stream",
     "text": [
      " 11%|█         | 43/390 [02:13<16:35,  2.87s/it]"
     ]
    },
    {
     "name": "stdout",
     "output_type": "stream",
     "text": [
      "내역이 없습니다.\n",
      "역전할머니맥주\n",
      "영등포구 선유로13길\n"
     ]
    },
    {
     "name": "stderr",
     "output_type": "stream",
     "text": [
      " 11%|█▏        | 44/390 [02:16<16:28,  2.86s/it]"
     ]
    },
    {
     "name": "stdout",
     "output_type": "stream",
     "text": [
      "기타 주점업\n",
      "매머드익스프레스\n",
      "영등포구 선유로9길\n"
     ]
    },
    {
     "name": "stderr",
     "output_type": "stream",
     "text": [
      " 12%|█▏        | 45/390 [02:18<16:23,  2.85s/it]"
     ]
    },
    {
     "name": "stdout",
     "output_type": "stream",
     "text": [
      "커피 전문점\n",
      "오미커피\n",
      "영등포구 문래로4길\n"
     ]
    },
    {
     "name": "stderr",
     "output_type": "stream",
     "text": [
      " 12%|█▏        | 46/390 [02:21<16:20,  2.85s/it]"
     ]
    },
    {
     "name": "stdout",
     "output_type": "stream",
     "text": [
      "내역이 없습니다.\n",
      "이디야커피\n",
      "영등포구 선유로13길\n"
     ]
    },
    {
     "name": "stderr",
     "output_type": "stream",
     "text": [
      " 12%|█▏        | 47/390 [02:24<16:14,  2.84s/it]"
     ]
    },
    {
     "name": "stdout",
     "output_type": "stream",
     "text": [
      "내역이 없습니다.\n",
      "얼맥당\n",
      "영등포구 문래로\n"
     ]
    },
    {
     "name": "stderr",
     "output_type": "stream",
     "text": [
      " 12%|█▏        | 48/390 [02:27<16:06,  2.83s/it]"
     ]
    },
    {
     "name": "stdout",
     "output_type": "stream",
     "text": [
      "생맥주 전문점\n",
      "탐라순대국감자탕\n",
      "영등포구 선유로9길\n"
     ]
    },
    {
     "name": "stderr",
     "output_type": "stream",
     "text": [
      " 13%|█▎        | 49/390 [02:30<17:04,  3.00s/it]"
     ]
    },
    {
     "name": "stdout",
     "output_type": "stream",
     "text": [
      "한식 일반 음식점업\n",
      "육계식당\n",
      "영등포구 선유로9길\n"
     ]
    },
    {
     "name": "stderr",
     "output_type": "stream",
     "text": [
      " 13%|█▎        | 50/390 [02:33<16:43,  2.95s/it]"
     ]
    },
    {
     "name": "stdout",
     "output_type": "stream",
     "text": [
      "내역이 없습니다.\n",
      "박만배아리랑보쌈\n",
      "영등포구 선유로17길\n"
     ]
    },
    {
     "name": "stderr",
     "output_type": "stream",
     "text": [
      " 13%|█▎        | 51/390 [02:36<15:54,  2.82s/it]"
     ]
    },
    {
     "name": "stdout",
     "output_type": "stream",
     "text": [
      "내역이 없습니다.\n",
      "식주\n",
      "영등포구 선유로13길\n"
     ]
    },
    {
     "name": "stderr",
     "output_type": "stream",
     "text": [
      " 13%|█▎        | 52/390 [02:40<17:41,  3.14s/it]"
     ]
    },
    {
     "name": "stdout",
     "output_type": "stream",
     "text": [
      "한식 일반 음식점업\n",
      "부엉이돈가스\n",
      "영등포구 문래북로\n"
     ]
    },
    {
     "name": "stderr",
     "output_type": "stream",
     "text": [
      " 14%|█▎        | 53/390 [02:43<18:50,  3.36s/it]"
     ]
    },
    {
     "name": "stdout",
     "output_type": "stream",
     "text": [
      "일식 음식점업\n",
      "본도시락\n",
      "영등포구 선유로13길\n"
     ]
    },
    {
     "name": "stderr",
     "output_type": "stream",
     "text": [
      " 14%|█▍        | 54/390 [02:54<30:15,  5.40s/it]"
     ]
    },
    {
     "name": "stdout",
     "output_type": "stream",
     "text": [
      "한식 일반 음식점업\n",
      "육수당\n",
      "영등포구 선유로9길\n"
     ]
    },
    {
     "name": "stderr",
     "output_type": "stream",
     "text": [
      " 14%|█▍        | 55/390 [02:58<27:47,  4.98s/it]"
     ]
    },
    {
     "name": "stdout",
     "output_type": "stream",
     "text": [
      "한식 일반 음식점업\n",
      "풍년식당\n",
      "영등포구 선유서로\n"
     ]
    },
    {
     "name": "stderr",
     "output_type": "stream",
     "text": [
      " 14%|█▍        | 56/390 [03:01<25:50,  4.64s/it]"
     ]
    },
    {
     "name": "stdout",
     "output_type": "stream",
     "text": [
      "한식 일반 음식점업\n",
      "카페플러스\n",
      "영등포구 선유로11길\n"
     ]
    },
    {
     "name": "stderr",
     "output_type": "stream",
     "text": [
      " 15%|█▍        | 57/390 [03:05<23:37,  4.26s/it]"
     ]
    },
    {
     "name": "stdout",
     "output_type": "stream",
     "text": [
      "내역이 없습니다.\n",
      "노가리와 골뱅이 마을\n",
      "영등포구 선유로17길\n"
     ]
    },
    {
     "name": "stderr",
     "output_type": "stream",
     "text": [
      " 15%|█▍        | 58/390 [03:09<23:05,  4.17s/it]"
     ]
    },
    {
     "name": "stdout",
     "output_type": "stream",
     "text": [
      "내역이 없습니다.\n",
      "진주국시집\n",
      "영등포구 선유서로\n"
     ]
    },
    {
     "name": "stderr",
     "output_type": "stream",
     "text": [
      " 15%|█▌        | 59/390 [03:12<20:46,  3.77s/it]"
     ]
    },
    {
     "name": "stdout",
     "output_type": "stream",
     "text": [
      "내역이 없습니다.\n",
      "문래달빛식당\n",
      "영등포구 선유로9길\n"
     ]
    },
    {
     "name": "stderr",
     "output_type": "stream",
     "text": [
      " 15%|█▌        | 60/390 [03:14<19:13,  3.49s/it]"
     ]
    },
    {
     "name": "stdout",
     "output_type": "stream",
     "text": [
      "한식 일반 음식점업\n",
      "문래동슬라임\n",
      "영등포구 문래로8길\n"
     ]
    },
    {
     "name": "stderr",
     "output_type": "stream",
     "text": [
      " 16%|█▌        | 61/390 [03:19<20:51,  3.80s/it]"
     ]
    },
    {
     "name": "stdout",
     "output_type": "stream",
     "text": [
      "내역이 없습니다.\n",
      "어반파이어그릴드스테이크 파스타\n",
      "영등포구 선유로17길\n"
     ]
    },
    {
     "name": "stderr",
     "output_type": "stream",
     "text": [
      " 16%|█▌        | 62/390 [03:22<20:05,  3.67s/it]"
     ]
    },
    {
     "name": "stdout",
     "output_type": "stream",
     "text": [
      "내역이 없습니다.\n",
      "써니테라스\n",
      "영등포구 선유로9길\n"
     ]
    },
    {
     "name": "stderr",
     "output_type": "stream",
     "text": [
      " 16%|█▌        | 63/390 [03:25<18:46,  3.44s/it]"
     ]
    },
    {
     "name": "stdout",
     "output_type": "stream",
     "text": [
      "커피 전문점\n",
      "타코이찌타코야끼\n",
      "영등포구 선유서로\n"
     ]
    },
    {
     "name": "stderr",
     "output_type": "stream",
     "text": [
      " 16%|█▋        | 64/390 [03:28<17:47,  3.27s/it]"
     ]
    },
    {
     "name": "stdout",
     "output_type": "stream",
     "text": [
      "내역이 없습니다.\n",
      "아이스크림스토리\n",
      "영등포구 선유서로\n"
     ]
    },
    {
     "name": "stderr",
     "output_type": "stream",
     "text": [
      " 17%|█▋        | 65/390 [03:31<17:00,  3.14s/it]"
     ]
    },
    {
     "name": "stdout",
     "output_type": "stream",
     "text": [
      "내역이 없습니다.\n",
      "오프로앤커피\n",
      "영등포구 선유로9길\n"
     ]
    },
    {
     "name": "stderr",
     "output_type": "stream",
     "text": [
      " 17%|█▋        | 66/390 [03:34<16:35,  3.07s/it]"
     ]
    },
    {
     "name": "stdout",
     "output_type": "stream",
     "text": [
      "내역이 없습니다.\n",
      "초밥마트\n",
      "영등포구 선유서로\n"
     ]
    },
    {
     "name": "stderr",
     "output_type": "stream",
     "text": [
      " 17%|█▋        | 67/390 [03:37<16:10,  3.00s/it]"
     ]
    },
    {
     "name": "stdout",
     "output_type": "stream",
     "text": [
      "일식 음식점업\n",
      "샐러글 샐러드 베이글\n",
      "영등포구 선유로17길\n"
     ]
    },
    {
     "name": "stderr",
     "output_type": "stream",
     "text": [
      " 17%|█▋        | 68/390 [03:40<15:55,  2.97s/it]"
     ]
    },
    {
     "name": "stdout",
     "output_type": "stream",
     "text": [
      "내역이 없습니다.\n",
      "에이스굿푸드\n",
      "영등포구 선유로13길\n"
     ]
    },
    {
     "name": "stderr",
     "output_type": "stream",
     "text": [
      " 18%|█▊        | 69/390 [03:42<15:40,  2.93s/it]"
     ]
    },
    {
     "name": "stdout",
     "output_type": "stream",
     "text": [
      "한식 일반 음식점업\n",
      "주식회사 커피사피엔스\n",
      "영등포구 문래북로\n"
     ]
    },
    {
     "name": "stderr",
     "output_type": "stream",
     "text": [
      " 18%|█▊        | 70/390 [03:45<15:29,  2.91s/it]"
     ]
    },
    {
     "name": "stdout",
     "output_type": "stream",
     "text": [
      "커피 전문점\n",
      "조아가츠\n",
      "영등포구 선유로13길\n"
     ]
    },
    {
     "name": "stderr",
     "output_type": "stream",
     "text": [
      " 18%|█▊        | 71/390 [03:48<15:22,  2.89s/it]"
     ]
    },
    {
     "name": "stdout",
     "output_type": "stream",
     "text": [
      "내역이 없습니다.\n",
      "유미당\n",
      "영등포구 선유로9길\n"
     ]
    },
    {
     "name": "stderr",
     "output_type": "stream",
     "text": [
      " 18%|█▊        | 72/390 [03:51<15:08,  2.86s/it]"
     ]
    },
    {
     "name": "stdout",
     "output_type": "stream",
     "text": [
      "내역이 없습니다.\n",
      "세컨테이블\n",
      "영등포구 선유로9길\n"
     ]
    },
    {
     "name": "stderr",
     "output_type": "stream",
     "text": [
      " 19%|█▊        | 73/390 [03:54<15:03,  2.85s/it]"
     ]
    },
    {
     "name": "stdout",
     "output_type": "stream",
     "text": [
      "한식 일반 음식점업\n",
      "애드밀\n",
      "영등포구 선유서로9길\n"
     ]
    },
    {
     "name": "stderr",
     "output_type": "stream",
     "text": [
      " 19%|█▉        | 74/390 [03:57<15:08,  2.87s/it]"
     ]
    },
    {
     "name": "stdout",
     "output_type": "stream",
     "text": [
      "내역이 없습니다.\n",
      "이자카야락\n",
      "영등포구 선유로17길\n"
     ]
    },
    {
     "name": "stderr",
     "output_type": "stream",
     "text": [
      " 19%|█▉        | 75/390 [04:00<16:00,  3.05s/it]"
     ]
    },
    {
     "name": "stdout",
     "output_type": "stream",
     "text": [
      "내역이 없습니다.\n",
      "모두의식탁\n",
      "영등포구 선유서로\n"
     ]
    },
    {
     "name": "stderr",
     "output_type": "stream",
     "text": [
      " 19%|█▉        | 76/390 [04:03<15:31,  2.97s/it]"
     ]
    },
    {
     "name": "stdout",
     "output_type": "stream",
     "text": [
      "내역이 없습니다.\n",
      "수제쿠키주주\n",
      "영등포구 선유서로\n"
     ]
    },
    {
     "name": "stderr",
     "output_type": "stream",
     "text": [
      " 20%|█▉        | 77/390 [04:06<15:18,  2.93s/it]"
     ]
    },
    {
     "name": "stdout",
     "output_type": "stream",
     "text": [
      "내역이 없습니다.\n",
      "먹태&노가리\n",
      "영등포구 선유로13길\n"
     ]
    },
    {
     "name": "stderr",
     "output_type": "stream",
     "text": [
      " 20%|██        | 78/390 [04:09<15:09,  2.91s/it]"
     ]
    },
    {
     "name": "stdout",
     "output_type": "stream",
     "text": [
      "내역이 없습니다.\n",
      "로뎀분식카페\n",
      "영등포구 선유로17길\n"
     ]
    },
    {
     "name": "stderr",
     "output_type": "stream",
     "text": [
      " 20%|██        | 79/390 [04:11<14:58,  2.89s/it]"
     ]
    },
    {
     "name": "stdout",
     "output_type": "stream",
     "text": [
      "내역이 없습니다.\n",
      "보리밭가는길\n",
      "영등포구 선유로13길\n"
     ]
    },
    {
     "name": "stderr",
     "output_type": "stream",
     "text": [
      " 21%|██        | 80/390 [04:14<14:46,  2.86s/it]"
     ]
    },
    {
     "name": "stdout",
     "output_type": "stream",
     "text": [
      "내역이 없습니다.\n",
      "자연애에프엔티\n",
      "영등포구 선유로9길\n"
     ]
    },
    {
     "name": "stderr",
     "output_type": "stream",
     "text": [
      " 21%|██        | 81/390 [04:17<14:47,  2.87s/it]"
     ]
    },
    {
     "name": "stdout",
     "output_type": "stream",
     "text": [
      "내역이 없습니다.\n",
      "라크라센타\n",
      "영등포구 문래로\n"
     ]
    },
    {
     "name": "stderr",
     "output_type": "stream",
     "text": [
      " 21%|██        | 82/390 [04:20<14:46,  2.88s/it]"
     ]
    },
    {
     "name": "stdout",
     "output_type": "stream",
     "text": [
      "커피 전문점\n",
      "눈꽃을 나누다\n",
      "영등포구 영등포로20길\n"
     ]
    },
    {
     "name": "stderr",
     "output_type": "stream",
     "text": [
      " 21%|██▏       | 83/390 [04:23<14:39,  2.86s/it]"
     ]
    },
    {
     "name": "stdout",
     "output_type": "stream",
     "text": [
      "한식 일반 음식점업\n",
      "쉐프조\n",
      "영등포구 문래로\n"
     ]
    },
    {
     "name": "stderr",
     "output_type": "stream",
     "text": [
      " 22%|██▏       | 84/390 [04:26<14:32,  2.85s/it]"
     ]
    },
    {
     "name": "stdout",
     "output_type": "stream",
     "text": [
      "제과점업\n",
      "이북집찹쌀순대\n",
      "영등포구 영등포로18길\n"
     ]
    },
    {
     "name": "stderr",
     "output_type": "stream",
     "text": [
      " 22%|██▏       | 85/390 [04:29<14:29,  2.85s/it]"
     ]
    },
    {
     "name": "stdout",
     "output_type": "stream",
     "text": [
      "내역이 없습니다.\n",
      "스타벅스\n",
      "영등포구 선유로\n"
     ]
    },
    {
     "name": "stderr",
     "output_type": "stream",
     "text": [
      " 22%|██▏       | 86/390 [04:32<15:16,  3.02s/it]"
     ]
    },
    {
     "name": "stdout",
     "output_type": "stream",
     "text": [
      "내역이 없습니다.\n",
      "소고기땡기는날 값진식육\n",
      "영등포구 선유로\n"
     ]
    },
    {
     "name": "stderr",
     "output_type": "stream",
     "text": [
      " 22%|██▏       | 87/390 [04:35<15:43,  3.11s/it]"
     ]
    },
    {
     "name": "stdout",
     "output_type": "stream",
     "text": [
      "내역이 없습니다.\n",
      "천하해천탕\n",
      "영등포구 문래로\n"
     ]
    },
    {
     "name": "stderr",
     "output_type": "stream",
     "text": [
      " 23%|██▎       | 88/390 [04:39<16:56,  3.37s/it]"
     ]
    },
    {
     "name": "stdout",
     "output_type": "stream",
     "text": [
      "한식 일반 음식점업\n",
      "라고파스타\n",
      "영등포구 문래로\n"
     ]
    },
    {
     "name": "stderr",
     "output_type": "stream",
     "text": [
      " 23%|██▎       | 89/390 [04:42<16:09,  3.22s/it]"
     ]
    },
    {
     "name": "stdout",
     "output_type": "stream",
     "text": [
      "한식 해산물 요리 전문점\n",
      "화수목\n",
      "영등포구 선유로\n"
     ]
    },
    {
     "name": "stderr",
     "output_type": "stream",
     "text": [
      " 23%|██▎       | 90/390 [04:45<15:31,  3.11s/it]"
     ]
    },
    {
     "name": "stdout",
     "output_type": "stream",
     "text": [
      "한식 일반 음식점업\n",
      "옥상나들이\n",
      "영등포구 문래북로\n"
     ]
    },
    {
     "name": "stderr",
     "output_type": "stream",
     "text": [
      " 23%|██▎       | 91/390 [04:48<14:59,  3.01s/it]"
     ]
    },
    {
     "name": "stdout",
     "output_type": "stream",
     "text": [
      "서양식 음식점업\n",
      "태양정육식당\n",
      "영등포구 문래로\n"
     ]
    },
    {
     "name": "stderr",
     "output_type": "stream",
     "text": [
      " 24%|██▎       | 92/390 [04:51<14:48,  2.98s/it]"
     ]
    },
    {
     "name": "stdout",
     "output_type": "stream",
     "text": [
      "내역이 없습니다.\n",
      "텐진라멘\n",
      "영등포구 문래북로\n"
     ]
    },
    {
     "name": "stderr",
     "output_type": "stream",
     "text": [
      " 24%|██▍       | 93/390 [04:54<14:47,  2.99s/it]"
     ]
    },
    {
     "name": "stdout",
     "output_type": "stream",
     "text": [
      "내역이 없습니다.\n",
      "박찬숙순대국\n",
      "영등포구 문래로\n"
     ]
    },
    {
     "name": "stderr",
     "output_type": "stream",
     "text": [
      " 24%|██▍       | 94/390 [04:56<14:32,  2.95s/it]"
     ]
    },
    {
     "name": "stdout",
     "output_type": "stream",
     "text": [
      "한식 일반 음식점업\n",
      "개성손만두\n",
      "영등포구 선유로\n"
     ]
    },
    {
     "name": "stderr",
     "output_type": "stream",
     "text": [
      " 24%|██▍       | 95/390 [04:59<14:18,  2.91s/it]"
     ]
    },
    {
     "name": "stdout",
     "output_type": "stream",
     "text": [
      "한식 일반 음식점업\n",
      "메가MGC커피\n",
      "영등포구 선유로\n"
     ]
    },
    {
     "name": "stderr",
     "output_type": "stream",
     "text": [
      " 25%|██▍       | 96/390 [05:02<14:16,  2.91s/it]"
     ]
    },
    {
     "name": "stdout",
     "output_type": "stream",
     "text": [
      "커피 전문점\n",
      "아키야키\n",
      "영등포구 선유로\n"
     ]
    },
    {
     "name": "stderr",
     "output_type": "stream",
     "text": [
      " 25%|██▍       | 97/390 [05:05<14:21,  2.94s/it]"
     ]
    },
    {
     "name": "stdout",
     "output_type": "stream",
     "text": [
      "내역이 없습니다.\n",
      "펀비어킹\n",
      "영등포구 문래로\n"
     ]
    },
    {
     "name": "stderr",
     "output_type": "stream",
     "text": [
      " 25%|██▌       | 98/390 [05:08<14:18,  2.94s/it]"
     ]
    },
    {
     "name": "stdout",
     "output_type": "stream",
     "text": [
      "기타 주점업\n",
      "상아김밥\n",
      "영등포구 문래로\n"
     ]
    },
    {
     "name": "stderr",
     "output_type": "stream",
     "text": [
      " 25%|██▌       | 99/390 [05:11<14:23,  2.97s/it]"
     ]
    },
    {
     "name": "stdout",
     "output_type": "stream",
     "text": [
      "김밥 및 기타 간이 음식점업\n",
      "매머드익스프레스\n",
      "영등포구 선유로\n"
     ]
    },
    {
     "name": "stderr",
     "output_type": "stream",
     "text": [
      " 26%|██▌       | 100/390 [05:14<14:06,  2.92s/it]"
     ]
    },
    {
     "name": "stdout",
     "output_type": "stream",
     "text": [
      "커피 전문점\n",
      "동대문엽기떡볶이\n",
      "영등포구 선유로\n"
     ]
    },
    {
     "name": "stderr",
     "output_type": "stream",
     "text": [
      " 26%|██▌       | 101/390 [05:17<13:50,  2.88s/it]"
     ]
    },
    {
     "name": "stdout",
     "output_type": "stream",
     "text": [
      "내역이 없습니다.\n",
      "커피빈\n",
      "영등포구 선유로\n"
     ]
    },
    {
     "name": "stderr",
     "output_type": "stream",
     "text": [
      " 26%|██▌       | 102/390 [05:20<14:25,  3.00s/it]"
     ]
    },
    {
     "name": "stdout",
     "output_type": "stream",
     "text": [
      "내역이 없습니다.\n",
      "평안옥\n",
      "영등포구 영등포로18길\n"
     ]
    },
    {
     "name": "stderr",
     "output_type": "stream",
     "text": [
      " 26%|██▋       | 103/390 [05:23<14:13,  2.97s/it]"
     ]
    },
    {
     "name": "stdout",
     "output_type": "stream",
     "text": [
      "내역이 없습니다.\n",
      "돌풍장어\n",
      "영등포구 선유로\n"
     ]
    },
    {
     "name": "stderr",
     "output_type": "stream",
     "text": [
      " 27%|██▋       | 104/390 [05:26<13:52,  2.91s/it]"
     ]
    },
    {
     "name": "stdout",
     "output_type": "stream",
     "text": [
      "한식 일반 음식점업\n",
      "신룽푸마라탕\n",
      "영등포구 선유로\n"
     ]
    },
    {
     "name": "stderr",
     "output_type": "stream",
     "text": [
      " 27%|██▋       | 105/390 [05:29<13:40,  2.88s/it]"
     ]
    },
    {
     "name": "stdout",
     "output_type": "stream",
     "text": [
      "내역이 없습니다.\n",
      "하남돼지집\n",
      "영등포구 선유로\n"
     ]
    },
    {
     "name": "stderr",
     "output_type": "stream",
     "text": [
      " 27%|██▋       | 106/390 [05:31<13:29,  2.85s/it]"
     ]
    },
    {
     "name": "stdout",
     "output_type": "stream",
     "text": [
      "한식 일반 음식점업\n",
      "라부에노\n",
      "영등포구 선유로22길\n"
     ]
    },
    {
     "name": "stderr",
     "output_type": "stream",
     "text": [
      " 27%|██▋       | 107/390 [05:34<13:29,  2.86s/it]"
     ]
    },
    {
     "name": "stdout",
     "output_type": "stream",
     "text": [
      "커피 전문점\n",
      "보사노바커피로스터스\n",
      "영등포구 영등포로20길\n"
     ]
    },
    {
     "name": "stderr",
     "output_type": "stream",
     "text": [
      " 28%|██▊       | 108/390 [05:38<14:07,  3.00s/it]"
     ]
    },
    {
     "name": "stdout",
     "output_type": "stream",
     "text": [
      "내역이 없습니다.\n",
      "슬로우캘리\n",
      "영등포구 선유로\n"
     ]
    },
    {
     "name": "stderr",
     "output_type": "stream",
     "text": [
      " 28%|██▊       | 109/390 [05:41<14:33,  3.11s/it]"
     ]
    },
    {
     "name": "stdout",
     "output_type": "stream",
     "text": [
      "서양식 음식점업\n",
      "엉터리생고기\n",
      "영등포구 선유로\n"
     ]
    },
    {
     "name": "stderr",
     "output_type": "stream",
     "text": [
      " 28%|██▊       | 110/390 [05:45<15:33,  3.33s/it]"
     ]
    },
    {
     "name": "stdout",
     "output_type": "stream",
     "text": [
      "한식 일반 음식점업\n",
      "청자다방\n",
      "영등포구 문래로\n"
     ]
    },
    {
     "name": "stderr",
     "output_type": "stream",
     "text": [
      " 28%|██▊       | 111/390 [05:49<16:19,  3.51s/it]"
     ]
    },
    {
     "name": "stdout",
     "output_type": "stream",
     "text": [
      "내역이 없습니다.\n",
      "토마토김밥\n",
      "영등포구 문래로\n"
     ]
    },
    {
     "name": "stderr",
     "output_type": "stream",
     "text": [
      " 29%|██▊       | 112/390 [05:52<15:19,  3.31s/it]"
     ]
    },
    {
     "name": "stdout",
     "output_type": "stream",
     "text": [
      "김밥 및 기타 간이 음식점업\n",
      "써브웨이\n",
      "영등포구 선유로\n"
     ]
    },
    {
     "name": "stderr",
     "output_type": "stream",
     "text": [
      " 29%|██▉       | 113/390 [05:54<14:37,  3.17s/it]"
     ]
    },
    {
     "name": "stdout",
     "output_type": "stream",
     "text": [
      "일식 음식점업\n",
      "짬뽕지존\n",
      "영등포구 선유로\n"
     ]
    },
    {
     "name": "stderr",
     "output_type": "stream",
     "text": [
      " 29%|██▉       | 114/390 [05:57<14:11,  3.08s/it]"
     ]
    },
    {
     "name": "stdout",
     "output_type": "stream",
     "text": [
      "중식 음식점업\n",
      "연돈볼카츠\n",
      "영등포구 문래로\n"
     ]
    },
    {
     "name": "stderr",
     "output_type": "stream",
     "text": [
      " 29%|██▉       | 115/390 [06:03<18:01,  3.93s/it]"
     ]
    },
    {
     "name": "stdout",
     "output_type": "stream",
     "text": [
      "내역이 없습니다.\n",
      "봉명성\n",
      "영등포구 선유로\n"
     ]
    },
    {
     "name": "stderr",
     "output_type": "stream",
     "text": [
      " 30%|██▉       | 116/390 [06:06<16:23,  3.59s/it]"
     ]
    },
    {
     "name": "stdout",
     "output_type": "stream",
     "text": [
      "중식 음식점업\n",
      "미분당\n",
      "영등포구 문래로\n"
     ]
    },
    {
     "name": "stderr",
     "output_type": "stream",
     "text": [
      " 30%|███       | 117/390 [06:09<15:23,  3.38s/it]"
     ]
    },
    {
     "name": "stdout",
     "output_type": "stream",
     "text": [
      "기타 외국식 음식점업\n",
      "미태리\n",
      "영등포구 선유로\n"
     ]
    },
    {
     "name": "stderr",
     "output_type": "stream",
     "text": [
      " 30%|███       | 118/390 [06:12<14:39,  3.23s/it]"
     ]
    },
    {
     "name": "stdout",
     "output_type": "stream",
     "text": [
      "내역이 없습니다.\n",
      "홍대삭\n",
      "영등포구 선유로\n"
     ]
    },
    {
     "name": "stderr",
     "output_type": "stream",
     "text": [
      " 31%|███       | 119/390 [06:15<14:05,  3.12s/it]"
     ]
    },
    {
     "name": "stdout",
     "output_type": "stream",
     "text": [
      "한식 일반 음식점업\n",
      "공차\n",
      "영등포구 선유로\n"
     ]
    },
    {
     "name": "stderr",
     "output_type": "stream",
     "text": [
      " 31%|███       | 120/390 [06:17<13:37,  3.03s/it]"
     ]
    },
    {
     "name": "stdout",
     "output_type": "stream",
     "text": [
      "내역이 없습니다.\n",
      "스시타래\n",
      "영등포구 선유로\n"
     ]
    },
    {
     "name": "stderr",
     "output_type": "stream",
     "text": [
      " 31%|███       | 121/390 [06:22<16:11,  3.61s/it]"
     ]
    },
    {
     "name": "stdout",
     "output_type": "stream",
     "text": [
      "내역이 없습니다.\n",
      "본죽&비빔밥cafe\n",
      "영등포구 선유로\n"
     ]
    },
    {
     "name": "stderr",
     "output_type": "stream",
     "text": [
      " 31%|███▏      | 122/390 [06:26<15:46,  3.53s/it]"
     ]
    },
    {
     "name": "stdout",
     "output_type": "stream",
     "text": [
      "내역이 없습니다.\n",
      "오이삼계탕\n",
      "영등포구 영등포로\n"
     ]
    },
    {
     "name": "stderr",
     "output_type": "stream",
     "text": [
      " 32%|███▏      | 123/390 [06:29<14:50,  3.33s/it]"
     ]
    },
    {
     "name": "stdout",
     "output_type": "stream",
     "text": [
      "한식 일반 음식점업\n",
      "비저스트\n",
      "영등포구 선유로22길\n"
     ]
    },
    {
     "name": "stderr",
     "output_type": "stream",
     "text": [
      " 32%|███▏      | 124/390 [06:31<14:08,  3.19s/it]"
     ]
    },
    {
     "name": "stdout",
     "output_type": "stream",
     "text": [
      "커피 전문점\n",
      "카페모닝\n",
      "영등포구 선유로\n"
     ]
    },
    {
     "name": "stderr",
     "output_type": "stream",
     "text": [
      " 32%|███▏      | 125/390 [06:34<13:38,  3.09s/it]"
     ]
    },
    {
     "name": "stdout",
     "output_type": "stream",
     "text": [
      "내역이 없습니다.\n",
      "탕화쿵푸마라탕\n",
      "영등포구 문래로\n"
     ]
    },
    {
     "name": "stderr",
     "output_type": "stream",
     "text": [
      " 32%|███▏      | 126/390 [06:37<13:25,  3.05s/it]"
     ]
    },
    {
     "name": "stdout",
     "output_type": "stream",
     "text": [
      "중식 음식점업\n",
      "또똣온반\n",
      "영등포구 영등포로18길\n"
     ]
    },
    {
     "name": "stderr",
     "output_type": "stream",
     "text": [
      " 33%|███▎      | 127/390 [06:40<13:08,  3.00s/it]"
     ]
    },
    {
     "name": "stdout",
     "output_type": "stream",
     "text": [
      "한식 일반 음식점업\n",
      "서오릉피자\n",
      "영등포구 선유로\n"
     ]
    },
    {
     "name": "stderr",
     "output_type": "stream",
     "text": [
      " 33%|███▎      | 128/390 [06:44<13:38,  3.13s/it]"
     ]
    },
    {
     "name": "stdout",
     "output_type": "stream",
     "text": [
      "피자, 햄버거, 샌드위치 및 유사 음식점업\n",
      "푸르파파\n",
      "영등포구 선유로\n"
     ]
    },
    {
     "name": "stderr",
     "output_type": "stream",
     "text": [
      " 33%|███▎      | 129/390 [06:46<13:11,  3.03s/it]"
     ]
    },
    {
     "name": "stdout",
     "output_type": "stream",
     "text": [
      "커피 전문점\n",
      "북창동순두부\n",
      "영등포구 선유로\n"
     ]
    },
    {
     "name": "stderr",
     "output_type": "stream",
     "text": [
      " 33%|███▎      | 130/390 [06:49<12:49,  2.96s/it]"
     ]
    },
    {
     "name": "stdout",
     "output_type": "stream",
     "text": [
      "내역이 없습니다.\n",
      "죠샌드위치\n",
      "영등포구 선유로\n"
     ]
    },
    {
     "name": "stderr",
     "output_type": "stream",
     "text": [
      " 34%|███▎      | 131/390 [06:52<12:38,  2.93s/it]"
     ]
    },
    {
     "name": "stdout",
     "output_type": "stream",
     "text": [
      "내역이 없습니다.\n",
      "교촌치킨\n",
      "영등포구 선유로\n"
     ]
    },
    {
     "name": "stderr",
     "output_type": "stream",
     "text": [
      " 34%|███▍      | 132/390 [06:55<12:37,  2.94s/it]"
     ]
    },
    {
     "name": "stdout",
     "output_type": "stream",
     "text": [
      "치킨 전문점\n",
      "샤브향\n",
      "영등포구 문래로\n"
     ]
    },
    {
     "name": "stderr",
     "output_type": "stream",
     "text": [
      " 34%|███▍      | 133/390 [06:58<12:27,  2.91s/it]"
     ]
    },
    {
     "name": "stdout",
     "output_type": "stream",
     "text": [
      "한식 일반 음식점업\n",
      "온향집\n",
      "영등포구 문래북로\n"
     ]
    },
    {
     "name": "stderr",
     "output_type": "stream",
     "text": [
      " 34%|███▍      | 134/390 [07:01<12:58,  3.04s/it]"
     ]
    },
    {
     "name": "stdout",
     "output_type": "stream",
     "text": [
      "한식 일반 음식점업\n",
      "징기스칸\n",
      "영등포구 영등포로18길\n"
     ]
    },
    {
     "name": "stderr",
     "output_type": "stream",
     "text": [
      " 35%|███▍      | 135/390 [07:04<12:44,  3.00s/it]"
     ]
    },
    {
     "name": "stdout",
     "output_type": "stream",
     "text": [
      "치킨 전문점\n",
      "복고포차달동네\n",
      "영등포구 선유로\n"
     ]
    },
    {
     "name": "stderr",
     "output_type": "stream",
     "text": [
      " 35%|███▍      | 136/390 [07:07<12:33,  2.96s/it]"
     ]
    },
    {
     "name": "stdout",
     "output_type": "stream",
     "text": [
      "내역이 없습니다.\n",
      "제주은희네해장국\n",
      "영등포구 선유로\n"
     ]
    },
    {
     "name": "stderr",
     "output_type": "stream",
     "text": [
      " 35%|███▌      | 137/390 [07:10<12:28,  2.96s/it]"
     ]
    },
    {
     "name": "stdout",
     "output_type": "stream",
     "text": [
      "한식 일반 음식점업\n",
      "요거트월드\n",
      "영등포구 선유로\n"
     ]
    },
    {
     "name": "stderr",
     "output_type": "stream",
     "text": [
      " 35%|███▌      | 138/390 [07:13<12:23,  2.95s/it]"
     ]
    },
    {
     "name": "stdout",
     "output_type": "stream",
     "text": [
      "커피 전문점\n",
      "우리할매떡볶이\n",
      "영등포구 선유로\n"
     ]
    },
    {
     "name": "stderr",
     "output_type": "stream",
     "text": [
      " 36%|███▌      | 139/390 [07:16<12:10,  2.91s/it]"
     ]
    },
    {
     "name": "stdout",
     "output_type": "stream",
     "text": [
      "김밥 및 기타 간이 음식점업\n",
      "명랑핫도그\n",
      "영등포구 선유로\n"
     ]
    },
    {
     "name": "stderr",
     "output_type": "stream",
     "text": [
      " 36%|███▌      | 140/390 [07:19<12:05,  2.90s/it]"
     ]
    },
    {
     "name": "stdout",
     "output_type": "stream",
     "text": [
      "피자, 햄버거, 샌드위치 및 유사 음식점업\n",
      "바루감자탕뼈해장국\n",
      "영등포구 영등포로\n"
     ]
    },
    {
     "name": "stderr",
     "output_type": "stream",
     "text": [
      " 36%|███▌      | 141/390 [07:21<11:58,  2.89s/it]"
     ]
    },
    {
     "name": "stdout",
     "output_type": "stream",
     "text": [
      "내역이 없습니다.\n",
      "장보리\n",
      "영등포구 문래북로\n"
     ]
    },
    {
     "name": "stderr",
     "output_type": "stream",
     "text": [
      " 36%|███▋      | 142/390 [07:24<11:53,  2.88s/it]"
     ]
    },
    {
     "name": "stdout",
     "output_type": "stream",
     "text": [
      "내역이 없습니다.\n",
      "문래동튀김집\n",
      "영등포구 선유로\n"
     ]
    },
    {
     "name": "stderr",
     "output_type": "stream",
     "text": [
      " 37%|███▋      | 143/390 [07:27<11:47,  2.87s/it]"
     ]
    },
    {
     "name": "stdout",
     "output_type": "stream",
     "text": [
      "김밥 및 기타 간이 음식점업\n",
      "홍콩반점0410\n",
      "영등포구 선유로\n"
     ]
    },
    {
     "name": "stderr",
     "output_type": "stream",
     "text": [
      " 37%|███▋      | 144/390 [07:30<11:44,  2.86s/it]"
     ]
    },
    {
     "name": "stdout",
     "output_type": "stream",
     "text": [
      "중식 음식점업\n",
      "너와마실\n",
      "영등포구 문래북로\n"
     ]
    },
    {
     "name": "stderr",
     "output_type": "stream",
     "text": [
      " 37%|███▋      | 145/390 [07:33<11:44,  2.87s/it]"
     ]
    },
    {
     "name": "stdout",
     "output_type": "stream",
     "text": [
      "커피 전문점\n",
      "맘스터치\n",
      "영등포구 문래로\n"
     ]
    },
    {
     "name": "stderr",
     "output_type": "stream",
     "text": [
      " 37%|███▋      | 146/390 [07:36<12:13,  3.00s/it]"
     ]
    },
    {
     "name": "stdout",
     "output_type": "stream",
     "text": [
      "내역이 없습니다.\n",
      "신의주찹쌀순대\n",
      "영등포구 문래로\n"
     ]
    },
    {
     "name": "stderr",
     "output_type": "stream",
     "text": [
      " 38%|███▊      | 147/390 [07:40<13:12,  3.26s/it]"
     ]
    },
    {
     "name": "stdout",
     "output_type": "stream",
     "text": [
      "내역이 없습니다.\n",
      "키친인\n",
      "영등포구 선유로22길\n"
     ]
    },
    {
     "name": "stderr",
     "output_type": "stream",
     "text": [
      " 38%|███▊      | 148/390 [07:43<12:37,  3.13s/it]"
     ]
    },
    {
     "name": "stdout",
     "output_type": "stream",
     "text": [
      "한식 일반 음식점업\n",
      "단비떡\n",
      "영등포구 문래로\n"
     ]
    },
    {
     "name": "stderr",
     "output_type": "stream",
     "text": [
      " 38%|███▊      | 149/390 [07:46<12:47,  3.19s/it]"
     ]
    },
    {
     "name": "stdout",
     "output_type": "stream",
     "text": [
      "떡류 제조업\n",
      "지랄닭발\n",
      "영등포구 선유로22길\n"
     ]
    },
    {
     "name": "stderr",
     "output_type": "stream",
     "text": [
      " 38%|███▊      | 150/390 [07:49<12:18,  3.08s/it]"
     ]
    },
    {
     "name": "stdout",
     "output_type": "stream",
     "text": [
      "내역이 없습니다.\n",
      "파리바게뜨\n",
      "영등포구 선유로\n"
     ]
    },
    {
     "name": "stderr",
     "output_type": "stream",
     "text": [
      " 39%|███▊      | 151/390 [07:53<13:12,  3.31s/it]"
     ]
    },
    {
     "name": "stdout",
     "output_type": "stream",
     "text": [
      "제과점업\n",
      "배스킨라빈스\n",
      "영등포구 문래로\n"
     ]
    },
    {
     "name": "stderr",
     "output_type": "stream",
     "text": [
      " 39%|███▉      | 152/390 [07:56<12:38,  3.19s/it]"
     ]
    },
    {
     "name": "stdout",
     "output_type": "stream",
     "text": [
      "간이 음식 포장 판매 전문점\n",
      "스마일찹쌀꽈배기\n",
      "영등포구 선유로\n"
     ]
    },
    {
     "name": "stderr",
     "output_type": "stream",
     "text": [
      " 39%|███▉      | 153/390 [07:59<12:51,  3.25s/it]"
     ]
    },
    {
     "name": "stdout",
     "output_type": "stream",
     "text": [
      "김밥 및 기타 간이 음식점업\n",
      "수유리우동집\n",
      "영등포구 문래로\n"
     ]
    },
    {
     "name": "stderr",
     "output_type": "stream",
     "text": [
      " 39%|███▉      | 154/390 [08:02<12:23,  3.15s/it]"
     ]
    },
    {
     "name": "stdout",
     "output_type": "stream",
     "text": [
      "한식 일반 음식점업\n",
      "역전우동0410\n",
      "영등포구 문래로\n"
     ]
    },
    {
     "name": "stderr",
     "output_type": "stream",
     "text": [
      " 40%|███▉      | 155/390 [08:05<12:02,  3.07s/it]"
     ]
    },
    {
     "name": "stdout",
     "output_type": "stream",
     "text": [
      "간이 음식 포장 판매 전문점\n",
      "멀티카페 갤러리\n",
      "영등포구 선유로\n"
     ]
    },
    {
     "name": "stderr",
     "output_type": "stream",
     "text": [
      " 40%|████      | 156/390 [08:09<12:52,  3.30s/it]"
     ]
    },
    {
     "name": "stdout",
     "output_type": "stream",
     "text": [
      "내역이 없습니다.\n",
      "육회바른연어\n",
      "영등포구 선유로\n"
     ]
    },
    {
     "name": "stderr",
     "output_type": "stream",
     "text": [
      " 40%|████      | 157/390 [08:12<12:25,  3.20s/it]"
     ]
    },
    {
     "name": "stdout",
     "output_type": "stream",
     "text": [
      "일식 음식점업\n",
      "푸라닭치킨\n",
      "영등포구 영등포로\n"
     ]
    },
    {
     "name": "stderr",
     "output_type": "stream",
     "text": [
      " 41%|████      | 158/390 [08:15<12:32,  3.24s/it]"
     ]
    },
    {
     "name": "stdout",
     "output_type": "stream",
     "text": [
      "내역이 없습니다.\n",
      "오늘된장\n",
      "영등포구 선유로\n"
     ]
    },
    {
     "name": "stderr",
     "output_type": "stream",
     "text": [
      " 41%|████      | 159/390 [08:18<12:35,  3.27s/it]"
     ]
    },
    {
     "name": "stdout",
     "output_type": "stream",
     "text": [
      "내역이 없습니다.\n",
      "이층집\n",
      "영등포구 문래북로\n"
     ]
    },
    {
     "name": "stderr",
     "output_type": "stream",
     "text": [
      " 41%|████      | 160/390 [08:21<12:10,  3.18s/it]"
     ]
    },
    {
     "name": "stdout",
     "output_type": "stream",
     "text": [
      "한식 일반 음식점업\n",
      "토키\n",
      "영등포구 선유로\n"
     ]
    },
    {
     "name": "stderr",
     "output_type": "stream",
     "text": [
      " 41%|████▏     | 161/390 [08:24<11:45,  3.08s/it]"
     ]
    },
    {
     "name": "stdout",
     "output_type": "stream",
     "text": [
      "커피 전문점\n",
      "두번먹는명인김치찜\n",
      "영등포구 문래로\n"
     ]
    },
    {
     "name": "stderr",
     "output_type": "stream",
     "text": [
      " 42%|████▏     | 162/390 [08:27<11:28,  3.02s/it]"
     ]
    },
    {
     "name": "stdout",
     "output_type": "stream",
     "text": [
      "내역이 없습니다.\n",
      "컴포즈커피\n",
      "영등포구 문래로\n"
     ]
    },
    {
     "name": "stderr",
     "output_type": "stream",
     "text": [
      " 42%|████▏     | 163/390 [08:30<11:13,  2.97s/it]"
     ]
    },
    {
     "name": "stdout",
     "output_type": "stream",
     "text": [
      "커피 전문점\n",
      "문래동커피집\n",
      "영등포구 선유로\n"
     ]
    },
    {
     "name": "stderr",
     "output_type": "stream",
     "text": [
      " 42%|████▏     | 164/390 [08:33<11:05,  2.95s/it]"
     ]
    },
    {
     "name": "stdout",
     "output_type": "stream",
     "text": [
      "커피 전문점\n",
      "이삭토스트\n",
      "영등포구 문래로\n"
     ]
    },
    {
     "name": "stderr",
     "output_type": "stream",
     "text": [
      " 42%|████▏     | 165/390 [08:36<10:52,  2.90s/it]"
     ]
    },
    {
     "name": "stdout",
     "output_type": "stream",
     "text": [
      "피자, 햄버거, 샌드위치 및 유사 음식점업\n",
      "더벤티\n",
      "영등포구 선유로\n"
     ]
    },
    {
     "name": "stderr",
     "output_type": "stream",
     "text": [
      " 43%|████▎     | 166/390 [08:39<11:25,  3.06s/it]"
     ]
    },
    {
     "name": "stdout",
     "output_type": "stream",
     "text": [
      "커피 전문점\n",
      "에그드랍\n",
      "영등포구 선유로\n"
     ]
    },
    {
     "name": "stderr",
     "output_type": "stream",
     "text": [
      " 43%|████▎     | 167/390 [08:42<11:12,  3.02s/it]"
     ]
    },
    {
     "name": "stdout",
     "output_type": "stream",
     "text": [
      "피자, 햄버거, 샌드위치 및 유사 음식점업\n",
      "BBQ\n",
      "영등포구 선유로\n"
     ]
    },
    {
     "name": "stderr",
     "output_type": "stream",
     "text": [
      " 43%|████▎     | 168/390 [08:45<10:56,  2.96s/it]"
     ]
    },
    {
     "name": "stdout",
     "output_type": "stream",
     "text": [
      "내역이 없습니다.\n",
      "크라운호프\n",
      "영등포구 선유로\n"
     ]
    },
    {
     "name": "stderr",
     "output_type": "stream",
     "text": [
      " 43%|████▎     | 169/390 [08:48<10:48,  2.93s/it]"
     ]
    },
    {
     "name": "stdout",
     "output_type": "stream",
     "text": [
      "내역이 없습니다.\n",
      "프랭크버거\n",
      "영등포구 선유로\n"
     ]
    },
    {
     "name": "stderr",
     "output_type": "stream",
     "text": [
      " 44%|████▎     | 170/390 [08:51<10:39,  2.91s/it]"
     ]
    },
    {
     "name": "stdout",
     "output_type": "stream",
     "text": [
      "피자, 햄버거, 샌드위치 및 유사 음식점업\n",
      "두번먹는명인김치찜\n",
      "영등포구 문래로\n"
     ]
    },
    {
     "name": "stderr",
     "output_type": "stream",
     "text": [
      " 44%|████▍     | 171/390 [08:53<10:37,  2.91s/it]"
     ]
    },
    {
     "name": "stdout",
     "output_type": "stream",
     "text": [
      "내역이 없습니다.\n",
      "신야텐야\n",
      "영등포구 선유로\n"
     ]
    },
    {
     "name": "stderr",
     "output_type": "stream",
     "text": [
      " 44%|████▍     | 172/390 [08:56<10:28,  2.88s/it]"
     ]
    },
    {
     "name": "stdout",
     "output_type": "stream",
     "text": [
      "일식 음식점업\n",
      "파파존스\n",
      "영등포구 선유로\n"
     ]
    },
    {
     "name": "stderr",
     "output_type": "stream",
     "text": [
      " 44%|████▍     | 173/390 [08:59<10:23,  2.87s/it]"
     ]
    },
    {
     "name": "stdout",
     "output_type": "stream",
     "text": [
      "피자, 햄버거, 샌드위치 및 유사 음식점업\n",
      "뚝도양조장\n",
      "영등포구 선유로22길\n"
     ]
    },
    {
     "name": "stderr",
     "output_type": "stream",
     "text": [
      " 45%|████▍     | 174/390 [09:02<10:19,  2.87s/it]"
     ]
    },
    {
     "name": "stdout",
     "output_type": "stream",
     "text": [
      "내역이 없습니다.\n",
      "마노네\n",
      "영등포구 문래북로\n"
     ]
    },
    {
     "name": "stderr",
     "output_type": "stream",
     "text": [
      " 45%|████▍     | 175/390 [09:05<10:13,  2.85s/it]"
     ]
    },
    {
     "name": "stdout",
     "output_type": "stream",
     "text": [
      "내역이 없습니다.\n",
      "슬램피자\n",
      "영등포구 선유로\n"
     ]
    },
    {
     "name": "stderr",
     "output_type": "stream",
     "text": [
      " 45%|████▌     | 176/390 [09:08<10:13,  2.87s/it]"
     ]
    },
    {
     "name": "stdout",
     "output_type": "stream",
     "text": [
      "피자, 햄버거, 샌드위치 및 유사 음식점업\n",
      "원주추어탕\n",
      "영등포구 문래로\n"
     ]
    },
    {
     "name": "stderr",
     "output_type": "stream",
     "text": [
      " 45%|████▌     | 177/390 [09:11<10:14,  2.88s/it]"
     ]
    },
    {
     "name": "stdout",
     "output_type": "stream",
     "text": [
      "한식 일반 음식점업\n",
      "인생아구찜\n",
      "영등포구 영등포로\n"
     ]
    },
    {
     "name": "stderr",
     "output_type": "stream",
     "text": [
      " 46%|████▌     | 178/390 [09:13<10:07,  2.86s/it]"
     ]
    },
    {
     "name": "stdout",
     "output_type": "stream",
     "text": [
      "한식 일반 음식점업\n",
      "춘천원조닭갈비\n",
      "영등포구 선유로\n"
     ]
    },
    {
     "name": "stderr",
     "output_type": "stream",
     "text": [
      " 46%|████▌     | 179/390 [09:16<10:02,  2.85s/it]"
     ]
    },
    {
     "name": "stdout",
     "output_type": "stream",
     "text": [
      "한식 일반 음식점업\n",
      "진심을담다 그만두\n",
      "영등포구 선유로\n"
     ]
    },
    {
     "name": "stderr",
     "output_type": "stream",
     "text": [
      " 46%|████▌     | 180/390 [09:19<09:59,  2.85s/it]"
     ]
    },
    {
     "name": "stdout",
     "output_type": "stream",
     "text": [
      "내역이 없습니다.\n",
      "우리뷔페\n",
      "영등포구 선유로\n"
     ]
    },
    {
     "name": "stderr",
     "output_type": "stream",
     "text": [
      " 46%|████▋     | 181/390 [09:22<09:54,  2.84s/it]"
     ]
    },
    {
     "name": "stdout",
     "output_type": "stream",
     "text": [
      "내역이 없습니다.\n",
      "네네치킨\n",
      "영등포구 영등포로\n"
     ]
    },
    {
     "name": "stderr",
     "output_type": "stream",
     "text": [
      " 47%|████▋     | 182/390 [09:25<09:52,  2.85s/it]"
     ]
    },
    {
     "name": "stdout",
     "output_type": "stream",
     "text": [
      "내역이 없습니다.\n",
      "커피사피엔스\n",
      "영등포구 선유로\n"
     ]
    },
    {
     "name": "stderr",
     "output_type": "stream",
     "text": [
      " 47%|████▋     | 183/390 [09:31<13:10,  3.82s/it]"
     ]
    },
    {
     "name": "stdout",
     "output_type": "stream",
     "text": [
      "커피 전문점\n",
      "편식제육\n",
      "영등포구 영등포로\n"
     ]
    },
    {
     "name": "stderr",
     "output_type": "stream",
     "text": [
      " 47%|████▋     | 184/390 [09:34<12:05,  3.52s/it]"
     ]
    },
    {
     "name": "stdout",
     "output_type": "stream",
     "text": [
      "내역이 없습니다.\n",
      "마나피자\n",
      "영등포구 문래북로\n"
     ]
    },
    {
     "name": "stderr",
     "output_type": "stream",
     "text": [
      " 47%|████▋     | 185/390 [09:37<11:53,  3.48s/it]"
     ]
    },
    {
     "name": "stdout",
     "output_type": "stream",
     "text": [
      "피자, 햄버거, 샌드위치 및 유사 음식점업\n",
      "해성원\n",
      "영등포구 문래북로\n"
     ]
    },
    {
     "name": "stderr",
     "output_type": "stream",
     "text": [
      " 48%|████▊     | 186/390 [09:40<11:09,  3.28s/it]"
     ]
    },
    {
     "name": "stdout",
     "output_type": "stream",
     "text": [
      "내역이 없습니다.\n",
      "가츠몽\n",
      "영등포구 선유로\n"
     ]
    },
    {
     "name": "stderr",
     "output_type": "stream",
     "text": [
      " 48%|████▊     | 187/390 [09:43<10:41,  3.16s/it]"
     ]
    },
    {
     "name": "stdout",
     "output_type": "stream",
     "text": [
      "서양식 음식점업\n",
      "집으로간장게장\n",
      "영등포구 선유로\n"
     ]
    },
    {
     "name": "stderr",
     "output_type": "stream",
     "text": [
      " 48%|████▊     | 188/390 [09:46<10:18,  3.06s/it]"
     ]
    },
    {
     "name": "stdout",
     "output_type": "stream",
     "text": [
      "내역이 없습니다.\n",
      "미소식당\n",
      "영등포구 문래북로\n"
     ]
    },
    {
     "name": "stderr",
     "output_type": "stream",
     "text": [
      " 48%|████▊     | 189/390 [09:49<10:06,  3.02s/it]"
     ]
    },
    {
     "name": "stdout",
     "output_type": "stream",
     "text": [
      "내역이 없습니다.\n",
      "족발의장인족장\n",
      "영등포구 문래로\n"
     ]
    },
    {
     "name": "stderr",
     "output_type": "stream",
     "text": [
      " 49%|████▊     | 190/390 [09:51<09:52,  2.96s/it]"
     ]
    },
    {
     "name": "stdout",
     "output_type": "stream",
     "text": [
      "내역이 없습니다.\n",
      "넥스트커피랩\n",
      "영등포구 선유로\n"
     ]
    },
    {
     "name": "stderr",
     "output_type": "stream",
     "text": [
      " 49%|████▉     | 191/390 [09:54<09:42,  2.92s/it]"
     ]
    },
    {
     "name": "stdout",
     "output_type": "stream",
     "text": [
      "내역이 없습니다.\n",
      "문래차돌집\n",
      "영등포구 영등포로20길\n"
     ]
    },
    {
     "name": "stderr",
     "output_type": "stream",
     "text": [
      " 49%|████▉     | 192/390 [09:57<09:34,  2.90s/it]"
     ]
    },
    {
     "name": "stdout",
     "output_type": "stream",
     "text": [
      "내역이 없습니다.\n",
      "술로슬로우\n",
      "영등포구 선유로\n"
     ]
    },
    {
     "name": "stderr",
     "output_type": "stream",
     "text": [
      " 49%|████▉     | 193/390 [10:00<09:26,  2.88s/it]"
     ]
    },
    {
     "name": "stdout",
     "output_type": "stream",
     "text": [
      "한식 해산물 요리 전문점\n",
      "샐러드식당\n",
      "영등포구 선유로22길\n"
     ]
    },
    {
     "name": "stderr",
     "output_type": "stream",
     "text": [
      " 50%|████▉     | 194/390 [10:03<09:52,  3.03s/it]"
     ]
    },
    {
     "name": "stdout",
     "output_type": "stream",
     "text": [
      "내역이 없습니다.\n",
      "강적떡볶이\n",
      "영등포구 문래로\n"
     ]
    },
    {
     "name": "stderr",
     "output_type": "stream",
     "text": [
      " 50%|█████     | 195/390 [10:06<09:44,  3.00s/it]"
     ]
    },
    {
     "name": "stdout",
     "output_type": "stream",
     "text": [
      "내역이 없습니다.\n",
      "비플러스\n",
      "영등포구 문래북로\n"
     ]
    },
    {
     "name": "stderr",
     "output_type": "stream",
     "text": [
      " 50%|█████     | 196/390 [10:10<10:08,  3.14s/it]"
     ]
    },
    {
     "name": "stdout",
     "output_type": "stream",
     "text": [
      "내역이 없습니다.\n",
      "국향\n",
      "영등포구 문래북로\n"
     ]
    },
    {
     "name": "stderr",
     "output_type": "stream",
     "text": [
      " 51%|█████     | 197/390 [10:13<09:51,  3.07s/it]"
     ]
    },
    {
     "name": "stdout",
     "output_type": "stream",
     "text": [
      "내역이 없습니다.\n",
      "태영생막창\n",
      "영등포구 선유로\n"
     ]
    },
    {
     "name": "stderr",
     "output_type": "stream",
     "text": [
      " 51%|█████     | 198/390 [10:15<09:34,  2.99s/it]"
     ]
    },
    {
     "name": "stdout",
     "output_type": "stream",
     "text": [
      "내역이 없습니다.\n",
      "공화춘\n",
      "영등포구 선유로22길\n"
     ]
    },
    {
     "name": "stderr",
     "output_type": "stream",
     "text": [
      " 51%|█████     | 199/390 [10:19<09:57,  3.13s/it]"
     ]
    },
    {
     "name": "stdout",
     "output_type": "stream",
     "text": [
      "내역이 없습니다.\n",
      "육쌈화로\n",
      "영등포구 선유로\n"
     ]
    },
    {
     "name": "stderr",
     "output_type": "stream",
     "text": [
      " 51%|█████▏    | 200/390 [10:22<09:39,  3.05s/it]"
     ]
    },
    {
     "name": "stdout",
     "output_type": "stream",
     "text": [
      "한식 육류 요리 전문점\n",
      "벚꽃플러스\n",
      "영등포구 문래북로\n"
     ]
    },
    {
     "name": "stderr",
     "output_type": "stream",
     "text": [
      " 52%|█████▏    | 201/390 [10:25<09:30,  3.02s/it]"
     ]
    },
    {
     "name": "stdout",
     "output_type": "stream",
     "text": [
      "커피 전문점\n",
      "아메리칸팩토리\n",
      "영등포구 선유로\n"
     ]
    },
    {
     "name": "stderr",
     "output_type": "stream",
     "text": [
      " 52%|█████▏    | 202/390 [10:27<09:16,  2.96s/it]"
     ]
    },
    {
     "name": "stdout",
     "output_type": "stream",
     "text": [
      "내역이 없습니다.\n",
      "스카우트로스터커피\n",
      "영등포구 문래북로\n"
     ]
    },
    {
     "name": "stderr",
     "output_type": "stream",
     "text": [
      " 52%|█████▏    | 203/390 [10:30<09:12,  2.95s/it]"
     ]
    },
    {
     "name": "stdout",
     "output_type": "stream",
     "text": [
      "내역이 없습니다.\n",
      "우리들깨삼계탕\n",
      "영등포구 선유로\n"
     ]
    },
    {
     "name": "stderr",
     "output_type": "stream",
     "text": [
      " 52%|█████▏    | 204/390 [10:34<09:31,  3.07s/it]"
     ]
    },
    {
     "name": "stdout",
     "output_type": "stream",
     "text": [
      "내역이 없습니다.\n",
      "양평한식뷔폐\n",
      "영등포구 선유로22길\n"
     ]
    },
    {
     "name": "stderr",
     "output_type": "stream",
     "text": [
      " 53%|█████▎    | 205/390 [10:37<09:42,  3.15s/it]"
     ]
    },
    {
     "name": "stdout",
     "output_type": "stream",
     "text": [
      "내역이 없습니다.\n",
      "010 바\n",
      "영등포구 선유로\n"
     ]
    },
    {
     "name": "stderr",
     "output_type": "stream",
     "text": [
      " 53%|█████▎    | 206/390 [10:40<09:22,  3.06s/it]"
     ]
    },
    {
     "name": "stdout",
     "output_type": "stream",
     "text": [
      "내역이 없습니다.\n",
      "맘마\n",
      "영등포구 문래북로\n"
     ]
    },
    {
     "name": "stderr",
     "output_type": "stream",
     "text": [
      " 53%|█████▎    | 207/390 [10:50<16:00,  5.25s/it]"
     ]
    },
    {
     "name": "stdout",
     "output_type": "stream",
     "text": [
      "커피 전문점\n",
      "문래맛있는포차\n",
      "영등포구 문래로\n"
     ]
    },
    {
     "name": "stderr",
     "output_type": "stream",
     "text": [
      " 53%|█████▎    | 208/390 [10:53<13:43,  4.52s/it]"
     ]
    },
    {
     "name": "stdout",
     "output_type": "stream",
     "text": [
      "내역이 없습니다.\n",
      "다빈커피\n",
      "영등포구 영등포로\n"
     ]
    },
    {
     "name": "stderr",
     "output_type": "stream",
     "text": [
      " 54%|█████▎    | 209/390 [10:56<12:35,  4.18s/it]"
     ]
    },
    {
     "name": "stdout",
     "output_type": "stream",
     "text": [
      "내역이 없습니다.\n",
      "닭장\n",
      "영등포구 영등포로\n"
     ]
    },
    {
     "name": "stderr",
     "output_type": "stream",
     "text": [
      " 54%|█████▍    | 210/390 [10:59<11:27,  3.82s/it]"
     ]
    },
    {
     "name": "stdout",
     "output_type": "stream",
     "text": [
      "내역이 없습니다.\n",
      "달보드레24\n",
      "영등포구 문래로\n"
     ]
    },
    {
     "name": "stderr",
     "output_type": "stream",
     "text": [
      " 54%|█████▍    | 211/390 [11:02<10:31,  3.53s/it]"
     ]
    },
    {
     "name": "stdout",
     "output_type": "stream",
     "text": [
      "기타 음ㆍ식료품 위주 종합 소매업\n",
      "펀비어킹\n",
      "영등포구 문래로\n"
     ]
    },
    {
     "name": "stderr",
     "output_type": "stream",
     "text": [
      " 54%|█████▍    | 212/390 [11:06<10:21,  3.49s/it]"
     ]
    },
    {
     "name": "stdout",
     "output_type": "stream",
     "text": [
      "기타 주점업\n",
      "로디키친\n",
      "영등포구 영등포로\n"
     ]
    },
    {
     "name": "stderr",
     "output_type": "stream",
     "text": [
      " 55%|█████▍    | 213/390 [11:09<10:11,  3.46s/it]"
     ]
    },
    {
     "name": "stdout",
     "output_type": "stream",
     "text": [
      "내역이 없습니다.\n",
      "커피토리\n",
      "영등포구 영등포로\n"
     ]
    },
    {
     "name": "stderr",
     "output_type": "stream",
     "text": [
      " 55%|█████▍    | 214/390 [11:12<09:45,  3.33s/it]"
     ]
    },
    {
     "name": "stdout",
     "output_type": "stream",
     "text": [
      "내역이 없습니다.\n",
      "문밸리\n",
      "영등포구 문래북로\n"
     ]
    },
    {
     "name": "stderr",
     "output_type": "stream",
     "text": [
      " 55%|█████▌    | 215/390 [11:15<09:23,  3.22s/it]"
     ]
    },
    {
     "name": "stdout",
     "output_type": "stream",
     "text": [
      "내역이 없습니다.\n",
      "빅마마닭한마리\n",
      "영등포구 선유로\n"
     ]
    },
    {
     "name": "stderr",
     "output_type": "stream",
     "text": [
      " 55%|█████▌    | 216/390 [11:18<08:58,  3.10s/it]"
     ]
    },
    {
     "name": "stdout",
     "output_type": "stream",
     "text": [
      "내역이 없습니다.\n",
      "30년불멸의닭발\n",
      "영등포구 문래로\n"
     ]
    },
    {
     "name": "stderr",
     "output_type": "stream",
     "text": [
      " 56%|█████▌    | 217/390 [11:21<09:21,  3.24s/it]"
     ]
    },
    {
     "name": "stdout",
     "output_type": "stream",
     "text": [
      "내역이 없습니다.\n",
      "타미하우스\n",
      "영등포구 선유로\n"
     ]
    },
    {
     "name": "stderr",
     "output_type": "stream",
     "text": [
      " 56%|█████▌    | 218/390 [11:24<09:04,  3.16s/it]"
     ]
    },
    {
     "name": "stdout",
     "output_type": "stream",
     "text": [
      "내역이 없습니다.\n",
      "편식 공장\n",
      "영등포구 영등포로\n"
     ]
    },
    {
     "name": "stderr",
     "output_type": "stream",
     "text": [
      " 56%|█████▌    | 219/390 [11:27<08:44,  3.07s/it]"
     ]
    },
    {
     "name": "stdout",
     "output_type": "stream",
     "text": [
      "내역이 없습니다.\n",
      "와이앤케이에프앤비\n",
      "영등포구 문래로\n"
     ]
    },
    {
     "name": "stderr",
     "output_type": "stream",
     "text": [
      " 56%|█████▋    | 220/390 [11:31<09:01,  3.19s/it]"
     ]
    },
    {
     "name": "stdout",
     "output_type": "stream",
     "text": [
      "피자, 햄버거, 샌드위치 및 유사 음식점업\n",
      "리치앤펀\n",
      "영등포구 선유로\n"
     ]
    },
    {
     "name": "stderr",
     "output_type": "stream",
     "text": [
      " 57%|█████▋    | 221/390 [11:34<09:10,  3.26s/it]"
     ]
    },
    {
     "name": "stdout",
     "output_type": "stream",
     "text": [
      "내역이 없습니다.\n",
      "대마족발\n",
      "영등포구 문래로\n"
     ]
    },
    {
     "name": "stderr",
     "output_type": "stream",
     "text": [
      " 57%|█████▋    | 222/390 [11:37<08:45,  3.13s/it]"
     ]
    },
    {
     "name": "stdout",
     "output_type": "stream",
     "text": [
      "내역이 없습니다.\n",
      "킹스라이스버거\n",
      "영등포구 선유로\n"
     ]
    },
    {
     "name": "stderr",
     "output_type": "stream",
     "text": [
      " 57%|█████▋    | 223/390 [11:40<08:34,  3.08s/it]"
     ]
    },
    {
     "name": "stdout",
     "output_type": "stream",
     "text": [
      "내역이 없습니다.\n",
      "쿠레나이\n",
      "영등포구 선유로\n"
     ]
    },
    {
     "name": "stderr",
     "output_type": "stream",
     "text": [
      " 57%|█████▋    | 224/390 [11:43<08:25,  3.04s/it]"
     ]
    },
    {
     "name": "stdout",
     "output_type": "stream",
     "text": [
      "내역이 없습니다.\n",
      "창대한곱창\n",
      "영등포구 선유로\n"
     ]
    },
    {
     "name": "stderr",
     "output_type": "stream",
     "text": [
      " 58%|█████▊    | 225/390 [11:46<08:18,  3.02s/it]"
     ]
    },
    {
     "name": "stdout",
     "output_type": "stream",
     "text": [
      "내역이 없습니다.\n",
      "고려왕족발\n",
      "영등포구 선유로\n"
     ]
    },
    {
     "name": "stderr",
     "output_type": "stream",
     "text": [
      " 58%|█████▊    | 226/390 [11:49<08:09,  2.99s/it]"
     ]
    },
    {
     "name": "stdout",
     "output_type": "stream",
     "text": [
      "내역이 없습니다.\n",
      "진나식당\n",
      "영등포구 영등포로18길\n"
     ]
    },
    {
     "name": "stderr",
     "output_type": "stream",
     "text": [
      " 58%|█████▊    | 227/390 [11:52<08:23,  3.09s/it]"
     ]
    },
    {
     "name": "stdout",
     "output_type": "stream",
     "text": [
      "내역이 없습니다.\n",
      "3541602298\n",
      "영등포구 영등포로\n"
     ]
    },
    {
     "name": "stderr",
     "output_type": "stream",
     "text": [
      " 58%|█████▊    | 228/390 [11:55<08:13,  3.04s/it]"
     ]
    },
    {
     "name": "stdout",
     "output_type": "stream",
     "text": [
      "한식 일반 음식점업\n",
      "복천숯불갈비\n",
      "영등포구 선유로\n"
     ]
    },
    {
     "name": "stderr",
     "output_type": "stream",
     "text": [
      " 59%|█████▊    | 229/390 [11:58<08:03,  3.00s/it]"
     ]
    },
    {
     "name": "stdout",
     "output_type": "stream",
     "text": [
      "내역이 없습니다.\n",
      "하이라위해물\n",
      "영등포구 선유로\n"
     ]
    },
    {
     "name": "stderr",
     "output_type": "stream",
     "text": [
      " 59%|█████▉    | 230/390 [12:01<07:54,  2.97s/it]"
     ]
    },
    {
     "name": "stdout",
     "output_type": "stream",
     "text": [
      "내역이 없습니다.\n",
      "소문난식당\n",
      "영등포구 도림로141가길\n"
     ]
    },
    {
     "name": "stderr",
     "output_type": "stream",
     "text": [
      " 59%|█████▉    | 231/390 [12:04<07:47,  2.94s/it]"
     ]
    },
    {
     "name": "stdout",
     "output_type": "stream",
     "text": [
      "한식 일반 음식점업\n",
      "오복순대국\n",
      "영등포구 도림로\n"
     ]
    },
    {
     "name": "stderr",
     "output_type": "stream",
     "text": [
      " 59%|█████▉    | 232/390 [12:09<09:22,  3.56s/it]"
     ]
    },
    {
     "name": "stdout",
     "output_type": "stream",
     "text": [
      "내역이 없습니다.\n",
      "무정형\n",
      "영등포구 도림로139길\n"
     ]
    },
    {
     "name": "stderr",
     "output_type": "stream",
     "text": [
      " 60%|█████▉    | 233/390 [12:12<08:50,  3.38s/it]"
     ]
    },
    {
     "name": "stdout",
     "output_type": "stream",
     "text": [
      "내역이 없습니다.\n",
      "브라더매운갈비찜\n",
      "영등포구 선유로\n"
     ]
    },
    {
     "name": "stderr",
     "output_type": "stream",
     "text": [
      " 60%|██████    | 234/390 [12:15<08:27,  3.25s/it]"
     ]
    },
    {
     "name": "stdout",
     "output_type": "stream",
     "text": [
      "내역이 없습니다.\n",
      "오타루우동집\n",
      "영등포구 도림로\n"
     ]
    },
    {
     "name": "stderr",
     "output_type": "stream",
     "text": [
      " 60%|██████    | 235/390 [12:18<08:11,  3.17s/it]"
     ]
    },
    {
     "name": "stdout",
     "output_type": "stream",
     "text": [
      "김밥 및 기타 간이 음식점업\n",
      "조선부뚜막\n",
      "영등포구 도림로141길\n"
     ]
    },
    {
     "name": "stderr",
     "output_type": "stream",
     "text": [
      " 61%|██████    | 236/390 [12:21<07:56,  3.09s/it]"
     ]
    },
    {
     "name": "stdout",
     "output_type": "stream",
     "text": [
      "한식 일반 음식점업\n",
      "문래동 돈까스\n",
      "영등포구 도림로147길\n"
     ]
    },
    {
     "name": "stderr",
     "output_type": "stream",
     "text": [
      " 61%|██████    | 237/390 [12:23<07:45,  3.04s/it]"
     ]
    },
    {
     "name": "stdout",
     "output_type": "stream",
     "text": [
      "내역이 없습니다.\n",
      "화인\n",
      "영등포구 도림로\n"
     ]
    },
    {
     "name": "stderr",
     "output_type": "stream",
     "text": [
      " 61%|██████    | 238/390 [12:26<07:35,  3.00s/it]"
     ]
    },
    {
     "name": "stdout",
     "output_type": "stream",
     "text": [
      "내역이 없습니다.\n",
      "능이버섯백숙\n",
      "영등포구 선유로\n"
     ]
    },
    {
     "name": "stderr",
     "output_type": "stream",
     "text": [
      " 61%|██████▏   | 239/390 [12:29<07:26,  2.96s/it]"
     ]
    },
    {
     "name": "stdout",
     "output_type": "stream",
     "text": [
      "한식 일반 음식점업\n",
      "준무\n",
      "영등포구 도림로\n"
     ]
    },
    {
     "name": "stderr",
     "output_type": "stream",
     "text": [
      " 62%|██████▏   | 240/390 [12:32<07:18,  2.92s/it]"
     ]
    },
    {
     "name": "stdout",
     "output_type": "stream",
     "text": [
      "내역이 없습니다.\n",
      "영일분식\n",
      "영등포구 도림로141가길\n"
     ]
    },
    {
     "name": "stderr",
     "output_type": "stream",
     "text": [
      " 62%|██████▏   | 241/390 [12:36<07:37,  3.07s/it]"
     ]
    },
    {
     "name": "stdout",
     "output_type": "stream",
     "text": [
      "한식 일반 음식점업\n",
      "소소한날\n",
      "영등포구 도림로\n"
     ]
    },
    {
     "name": "stderr",
     "output_type": "stream",
     "text": [
      " 62%|██████▏   | 242/390 [12:39<08:11,  3.32s/it]"
     ]
    },
    {
     "name": "stdout",
     "output_type": "stream",
     "text": [
      "한식 일반 음식점업\n",
      "태기산더덕순대\n",
      "영등포구 선유로\n"
     ]
    },
    {
     "name": "stderr",
     "output_type": "stream",
     "text": [
      " 62%|██████▏   | 243/390 [12:43<08:11,  3.34s/it]"
     ]
    },
    {
     "name": "stdout",
     "output_type": "stream",
     "text": [
      "한식 일반 음식점업\n",
      "문래친친\n",
      "영등포구 도림로139길\n"
     ]
    },
    {
     "name": "stderr",
     "output_type": "stream",
     "text": [
      " 63%|██████▎   | 244/390 [12:46<07:47,  3.20s/it]"
     ]
    },
    {
     "name": "stdout",
     "output_type": "stream",
     "text": [
      "내역이 없습니다.\n",
      "로라멘\n",
      "영등포구 도림로131길\n"
     ]
    },
    {
     "name": "stderr",
     "output_type": "stream",
     "text": [
      " 63%|██████▎   | 245/390 [12:50<08:22,  3.46s/it]"
     ]
    },
    {
     "name": "stdout",
     "output_type": "stream",
     "text": [
      "내역이 없습니다.\n",
      "원조마늘통닭\n",
      "영등포구 도림로\n"
     ]
    },
    {
     "name": "stderr",
     "output_type": "stream",
     "text": [
      " 63%|██████▎   | 246/390 [12:53<07:54,  3.29s/it]"
     ]
    },
    {
     "name": "stdout",
     "output_type": "stream",
     "text": [
      "한식 일반 음식점업\n",
      "달떡볶이\n",
      "영등포구 문래로20길\n"
     ]
    },
    {
     "name": "stderr",
     "output_type": "stream",
     "text": [
      " 63%|██████▎   | 247/390 [12:56<07:36,  3.19s/it]"
     ]
    },
    {
     "name": "stdout",
     "output_type": "stream",
     "text": [
      "김밥 및 기타 간이 음식점업\n",
      "뚜레쥬르\n",
      "영등포구 문래로20길\n"
     ]
    },
    {
     "name": "stderr",
     "output_type": "stream",
     "text": [
      " 64%|██████▎   | 248/390 [12:59<07:46,  3.28s/it]"
     ]
    },
    {
     "name": "stdout",
     "output_type": "stream",
     "text": [
      "제과점업\n",
      "치소우다이닝\n",
      "영등포구 도림로139길\n"
     ]
    },
    {
     "name": "stderr",
     "output_type": "stream",
     "text": [
      " 64%|██████▍   | 249/390 [13:02<07:25,  3.16s/it]"
     ]
    },
    {
     "name": "stdout",
     "output_type": "stream",
     "text": [
      "내역이 없습니다.\n",
      "마리니에르\n",
      "영등포구 도림로141가길\n"
     ]
    },
    {
     "name": "stderr",
     "output_type": "stream",
     "text": [
      " 64%|██████▍   | 250/390 [13:05<07:12,  3.09s/it]"
     ]
    },
    {
     "name": "stdout",
     "output_type": "stream",
     "text": [
      "내역이 없습니다.\n",
      "원조부안집\n",
      "영등포구 선유로9길\n"
     ]
    },
    {
     "name": "stderr",
     "output_type": "stream",
     "text": [
      " 64%|██████▍   | 251/390 [13:08<07:00,  3.03s/it]"
     ]
    },
    {
     "name": "stdout",
     "output_type": "stream",
     "text": [
      "한식 일반 음식점업\n",
      "송원마포돼지갈비\n",
      "영등포구 도림로147길\n"
     ]
    },
    {
     "name": "stderr",
     "output_type": "stream",
     "text": [
      " 65%|██████▍   | 252/390 [13:11<06:50,  2.98s/it]"
     ]
    },
    {
     "name": "stdout",
     "output_type": "stream",
     "text": [
      "내역이 없습니다.\n",
      "리버타운버거\n",
      "영등포구 선유로3길\n"
     ]
    },
    {
     "name": "stderr",
     "output_type": "stream",
     "text": [
      " 65%|██████▍   | 253/390 [13:14<06:45,  2.96s/it]"
     ]
    },
    {
     "name": "stdout",
     "output_type": "stream",
     "text": [
      "서양식 음식점업\n",
      "문래소풍\n",
      "영등포구 도림로141길\n"
     ]
    },
    {
     "name": "stderr",
     "output_type": "stream",
     "text": [
      " 65%|██████▌   | 254/390 [13:16<06:38,  2.93s/it]"
     ]
    },
    {
     "name": "stdout",
     "output_type": "stream",
     "text": [
      "내역이 없습니다.\n",
      "이일사에이엠 (214AM)\n",
      "영등포구 도림로131길\n"
     ]
    },
    {
     "name": "stderr",
     "output_type": "stream",
     "text": [
      " 65%|██████▌   | 255/390 [13:19<06:35,  2.93s/it]"
     ]
    },
    {
     "name": "stdout",
     "output_type": "stream",
     "text": [
      "내역이 없습니다.\n",
      "마츠리\n",
      "영등포구 도림로141가길\n"
     ]
    },
    {
     "name": "stderr",
     "output_type": "stream",
     "text": [
      " 66%|██████▌   | 256/390 [13:22<06:32,  2.93s/it]"
     ]
    },
    {
     "name": "stdout",
     "output_type": "stream",
     "text": [
      "한식 일반 음식점업\n",
      "스멜팅커피\n",
      "영등포구 도림로141가길\n"
     ]
    },
    {
     "name": "stderr",
     "output_type": "stream",
     "text": [
      " 66%|██████▌   | 257/390 [13:25<06:26,  2.91s/it]"
     ]
    },
    {
     "name": "stdout",
     "output_type": "stream",
     "text": [
      "내역이 없습니다.\n",
      "제주바닷골\n",
      "영등포구 도림로139길\n"
     ]
    },
    {
     "name": "stderr",
     "output_type": "stream",
     "text": [
      " 66%|██████▌   | 258/390 [13:28<06:23,  2.90s/it]"
     ]
    },
    {
     "name": "stdout",
     "output_type": "stream",
     "text": [
      "내역이 없습니다.\n",
      "이가주루\n",
      "영등포구 도림로141길\n"
     ]
    },
    {
     "name": "stderr",
     "output_type": "stream",
     "text": [
      " 66%|██████▋   | 259/390 [13:31<06:19,  2.90s/it]"
     ]
    },
    {
     "name": "stdout",
     "output_type": "stream",
     "text": [
      "중식 음식점업\n",
      "등촌샤브칼국수\n",
      "영등포구 선유로\n"
     ]
    },
    {
     "name": "stderr",
     "output_type": "stream",
     "text": [
      " 67%|██████▋   | 260/390 [13:34<06:16,  2.90s/it]"
     ]
    },
    {
     "name": "stdout",
     "output_type": "stream",
     "text": [
      "한식 일반 음식점업\n",
      "MUSEUNCLUB 무슨클럽\n",
      "영등포구 도림로139길\n"
     ]
    },
    {
     "name": "stderr",
     "output_type": "stream",
     "text": [
      " 67%|██████▋   | 261/390 [13:37<06:14,  2.91s/it]"
     ]
    },
    {
     "name": "stdout",
     "output_type": "stream",
     "text": [
      "내역이 없습니다.\n",
      "문래밤아\n",
      "영등포구 도림로141가길\n"
     ]
    },
    {
     "name": "stderr",
     "output_type": "stream",
     "text": [
      " 67%|██████▋   | 262/390 [13:40<06:12,  2.91s/it]"
     ]
    },
    {
     "name": "stdout",
     "output_type": "stream",
     "text": [
      "내역이 없습니다.\n",
      "문래푸줏간\n",
      "영등포구 도림로\n"
     ]
    },
    {
     "name": "stderr",
     "output_type": "stream",
     "text": [
      " 67%|██████▋   | 263/390 [13:45<07:28,  3.53s/it]"
     ]
    },
    {
     "name": "stdout",
     "output_type": "stream",
     "text": [
      "한식 일반 음식점업\n",
      "냉철한삼겹\n",
      "영등포구 도림로\n"
     ]
    },
    {
     "name": "stderr",
     "output_type": "stream",
     "text": [
      " 68%|██████▊   | 264/390 [13:48<07:01,  3.35s/it]"
     ]
    },
    {
     "name": "stdout",
     "output_type": "stream",
     "text": [
      "한식 일반 음식점업\n",
      "문래동냉삼\n",
      "영등포구 도림로147길\n"
     ]
    },
    {
     "name": "stderr",
     "output_type": "stream",
     "text": [
      " 68%|██████▊   | 265/390 [13:51<07:06,  3.41s/it]"
     ]
    },
    {
     "name": "stdout",
     "output_type": "stream",
     "text": [
      "내역이 없습니다.\n",
      "웨스턴차이나\n",
      "영등포구 선유로9나길\n"
     ]
    },
    {
     "name": "stderr",
     "output_type": "stream",
     "text": [
      " 68%|██████▊   | 266/390 [13:55<07:03,  3.41s/it]"
     ]
    },
    {
     "name": "stdout",
     "output_type": "stream",
     "text": [
      "중식 음식점업\n",
      "비오피\n",
      "영등포구 도림로139길\n"
     ]
    },
    {
     "name": "stderr",
     "output_type": "stream",
     "text": [
      " 68%|██████▊   | 267/390 [13:57<06:40,  3.26s/it]"
     ]
    },
    {
     "name": "stdout",
     "output_type": "stream",
     "text": [
      "내역이 없습니다.\n",
      "병천 정순대\n",
      "영등포구 선유로3길\n"
     ]
    },
    {
     "name": "stderr",
     "output_type": "stream",
     "text": [
      " 69%|██████▊   | 268/390 [14:00<06:21,  3.13s/it]"
     ]
    },
    {
     "name": "stdout",
     "output_type": "stream",
     "text": [
      "내역이 없습니다.\n",
      "커피랩스로스터리\n",
      "영등포구 선유로3길\n"
     ]
    },
    {
     "name": "stderr",
     "output_type": "stream",
     "text": [
      " 69%|██████▉   | 269/390 [14:03<06:09,  3.06s/it]"
     ]
    },
    {
     "name": "stdout",
     "output_type": "stream",
     "text": [
      "커피 전문점\n",
      "뎅뎅주점\n",
      "영등포구 도림로\n"
     ]
    },
    {
     "name": "stderr",
     "output_type": "stream",
     "text": [
      " 69%|██████▉   | 270/390 [14:06<06:04,  3.04s/it]"
     ]
    },
    {
     "name": "stdout",
     "output_type": "stream",
     "text": [
      "내역이 없습니다.\n",
      "대추나무칼국수\n",
      "영등포구 도림로141가길\n"
     ]
    },
    {
     "name": "stderr",
     "output_type": "stream",
     "text": [
      " 69%|██████▉   | 271/390 [14:09<06:00,  3.03s/it]"
     ]
    },
    {
     "name": "stdout",
     "output_type": "stream",
     "text": [
      "한식 일반 음식점업\n",
      "다온맛집\n",
      "영등포구 선유로\n"
     ]
    },
    {
     "name": "stderr",
     "output_type": "stream",
     "text": [
      " 70%|██████▉   | 272/390 [14:12<05:54,  3.01s/it]"
     ]
    },
    {
     "name": "stdout",
     "output_type": "stream",
     "text": [
      "한식 일반 음식점업\n",
      "골방\n",
      "영등포구 도림로131길\n"
     ]
    },
    {
     "name": "stderr",
     "output_type": "stream",
     "text": [
      " 70%|███████   | 273/390 [14:15<05:47,  2.97s/it]"
     ]
    },
    {
     "name": "stdout",
     "output_type": "stream",
     "text": [
      "한식 일반 음식점업\n",
      "카드분식\n",
      "영등포구 도림로141길\n"
     ]
    },
    {
     "name": "stderr",
     "output_type": "stream",
     "text": [
      " 70%|███████   | 274/390 [14:18<05:42,  2.95s/it]"
     ]
    },
    {
     "name": "stdout",
     "output_type": "stream",
     "text": [
      "김밥 및 기타 간이 음식점업\n",
      "한옥집\n",
      "영등포구 도림로\n"
     ]
    },
    {
     "name": "stderr",
     "output_type": "stream",
     "text": [
      " 71%|███████   | 275/390 [14:21<05:43,  2.99s/it]"
     ]
    },
    {
     "name": "stdout",
     "output_type": "stream",
     "text": [
      "내역이 없습니다.\n",
      "차이훙\n",
      "영등포구 도림로\n"
     ]
    },
    {
     "name": "stderr",
     "output_type": "stream",
     "text": [
      " 71%|███████   | 276/390 [14:24<05:42,  3.00s/it]"
     ]
    },
    {
     "name": "stdout",
     "output_type": "stream",
     "text": [
      "중식 음식점업\n",
      "시골청국장된장찌개\n",
      "영등포구 선유로\n"
     ]
    },
    {
     "name": "stderr",
     "output_type": "stream",
     "text": [
      " 71%|███████   | 277/390 [14:27<05:38,  2.99s/it]"
     ]
    },
    {
     "name": "stdout",
     "output_type": "stream",
     "text": [
      "내역이 없습니다.\n",
      "포엣룸\n",
      "영등포구 도림로141가길\n"
     ]
    },
    {
     "name": "stderr",
     "output_type": "stream",
     "text": [
      " 71%|███████▏  | 278/390 [14:30<05:32,  2.97s/it]"
     ]
    },
    {
     "name": "stdout",
     "output_type": "stream",
     "text": [
      "커피 전문점\n",
      "남원추어탕\n",
      "영등포구 도림로\n"
     ]
    },
    {
     "name": "stderr",
     "output_type": "stream",
     "text": [
      " 72%|███████▏  | 279/390 [14:33<05:24,  2.93s/it]"
     ]
    },
    {
     "name": "stdout",
     "output_type": "stream",
     "text": [
      "내역이 없습니다.\n",
      "해월\n",
      "영등포구 도림로\n"
     ]
    },
    {
     "name": "stderr",
     "output_type": "stream",
     "text": [
      " 72%|███████▏  | 280/390 [14:36<05:23,  2.94s/it]"
     ]
    },
    {
     "name": "stdout",
     "output_type": "stream",
     "text": [
      "한식 일반 음식점업\n",
      "스페셜티스튜디오\n",
      "영등포구 도림로139길\n"
     ]
    },
    {
     "name": "stderr",
     "output_type": "stream",
     "text": [
      " 72%|███████▏  | 281/390 [14:39<05:35,  3.08s/it]"
     ]
    },
    {
     "name": "stdout",
     "output_type": "stream",
     "text": [
      "커피 가공업\n",
      "우드슬랩\n",
      "영등포구 선유로9나길\n"
     ]
    },
    {
     "name": "stderr",
     "output_type": "stream",
     "text": [
      " 72%|███████▏  | 282/390 [14:42<05:30,  3.06s/it]"
     ]
    },
    {
     "name": "stdout",
     "output_type": "stream",
     "text": [
      "커피 전문점\n",
      "선식당\n",
      "영등포구 선유로\n"
     ]
    },
    {
     "name": "stderr",
     "output_type": "stream",
     "text": [
      " 73%|███████▎  | 283/390 [14:45<05:25,  3.04s/it]"
     ]
    },
    {
     "name": "stdout",
     "output_type": "stream",
     "text": [
      "한식 일반 음식점업\n",
      "권가네식당\n",
      "영등포구 도림로\n"
     ]
    },
    {
     "name": "stderr",
     "output_type": "stream",
     "text": [
      " 73%|███████▎  | 284/390 [14:48<05:16,  2.99s/it]"
     ]
    },
    {
     "name": "stdout",
     "output_type": "stream",
     "text": [
      "내역이 없습니다.\n",
      "고쌈\n",
      "영등포구 도림로141가길\n"
     ]
    },
    {
     "name": "stderr",
     "output_type": "stream",
     "text": [
      " 73%|███████▎  | 285/390 [14:51<05:09,  2.95s/it]"
     ]
    },
    {
     "name": "stdout",
     "output_type": "stream",
     "text": [
      "내역이 없습니다.\n",
      "로프트하우스\n",
      "영등포구 도림로139길\n"
     ]
    },
    {
     "name": "stderr",
     "output_type": "stream",
     "text": [
      " 73%|███████▎  | 286/390 [14:54<05:04,  2.92s/it]"
     ]
    },
    {
     "name": "stdout",
     "output_type": "stream",
     "text": [
      "내역이 없습니다.\n",
      "진짜사나이을지로통큰골뱅이\n",
      "영등포구 도림로\n"
     ]
    },
    {
     "name": "stderr",
     "output_type": "stream",
     "text": [
      " 74%|███████▎  | 287/390 [14:57<05:00,  2.92s/it]"
     ]
    },
    {
     "name": "stdout",
     "output_type": "stream",
     "text": [
      "한식 일반 음식점업\n",
      "백채김치찌개\n",
      "영등포구 도림로\n"
     ]
    },
    {
     "name": "stderr",
     "output_type": "stream",
     "text": [
      " 74%|███████▍  | 288/390 [15:00<05:00,  2.94s/it]"
     ]
    },
    {
     "name": "stdout",
     "output_type": "stream",
     "text": [
      "한식 일반 음식점업\n",
      "훔친장어\n",
      "영등포구 경인로71길\n"
     ]
    },
    {
     "name": "stderr",
     "output_type": "stream",
     "text": [
      " 74%|███████▍  | 289/390 [15:02<04:56,  2.93s/it]"
     ]
    },
    {
     "name": "stdout",
     "output_type": "stream",
     "text": [
      "내역이 없습니다.\n",
      "호누커피\n",
      "영등포구 선유로\n"
     ]
    },
    {
     "name": "stderr",
     "output_type": "stream",
     "text": [
      " 74%|███████▍  | 290/390 [15:05<04:51,  2.91s/it]"
     ]
    },
    {
     "name": "stdout",
     "output_type": "stream",
     "text": [
      "내역이 없습니다.\n",
      "칼리프하우스\n",
      "영등포구 도림로139길\n"
     ]
    },
    {
     "name": "stderr",
     "output_type": "stream",
     "text": [
      " 75%|███████▍  | 291/390 [15:08<04:48,  2.91s/it]"
     ]
    },
    {
     "name": "stdout",
     "output_type": "stream",
     "text": [
      "내역이 없습니다.\n",
      "방춘자볶곱\n",
      "영등포구 도림로143길\n"
     ]
    },
    {
     "name": "stderr",
     "output_type": "stream",
     "text": [
      " 75%|███████▍  | 292/390 [15:11<04:43,  2.89s/it]"
     ]
    },
    {
     "name": "stdout",
     "output_type": "stream",
     "text": [
      "내역이 없습니다.\n",
      "오유부\n",
      "영등포구 선유로3길\n"
     ]
    },
    {
     "name": "stderr",
     "output_type": "stream",
     "text": [
      " 75%|███████▌  | 293/390 [15:14<04:42,  2.91s/it]"
     ]
    },
    {
     "name": "stdout",
     "output_type": "stream",
     "text": [
      "일식 음식점업\n",
      "망원소금구이\n",
      "영등포구 도림로\n"
     ]
    },
    {
     "name": "stderr",
     "output_type": "stream",
     "text": [
      " 75%|███████▌  | 294/390 [15:17<04:54,  3.06s/it]"
     ]
    },
    {
     "name": "stdout",
     "output_type": "stream",
     "text": [
      "한식 일반 음식점업\n",
      "가보자대패\n",
      "영등포구 도림로139길\n"
     ]
    },
    {
     "name": "stderr",
     "output_type": "stream",
     "text": [
      " 76%|███████▌  | 295/390 [15:20<04:45,  3.00s/it]"
     ]
    },
    {
     "name": "stdout",
     "output_type": "stream",
     "text": [
      "내역이 없습니다.\n",
      "꼬모 와인바\n",
      "영등포구 도림로145길\n"
     ]
    },
    {
     "name": "stderr",
     "output_type": "stream",
     "text": [
      " 76%|███████▌  | 296/390 [15:24<04:54,  3.13s/it]"
     ]
    },
    {
     "name": "stdout",
     "output_type": "stream",
     "text": [
      "내역이 없습니다.\n",
      "석구네주먹고기 문래\n",
      "영등포구 선유로\n"
     ]
    },
    {
     "name": "stderr",
     "output_type": "stream",
     "text": [
      " 76%|███████▌  | 297/390 [15:28<05:28,  3.53s/it]"
     ]
    },
    {
     "name": "stdout",
     "output_type": "stream",
     "text": [
      "내역이 없습니다.\n",
      "맛나명태감자탕\n",
      "영등포구 도림로\n"
     ]
    },
    {
     "name": "stderr",
     "output_type": "stream",
     "text": [
      " 76%|███████▋  | 298/390 [15:31<05:07,  3.34s/it]"
     ]
    },
    {
     "name": "stdout",
     "output_type": "stream",
     "text": [
      "한식 일반 음식점업\n",
      "양상블\n",
      "영등포구 도림로141가길\n"
     ]
    },
    {
     "name": "stderr",
     "output_type": "stream",
     "text": [
      " 77%|███████▋  | 299/390 [15:35<05:06,  3.37s/it]"
     ]
    },
    {
     "name": "stdout",
     "output_type": "stream",
     "text": [
      "한식 일반 음식점업\n",
      "카페드옥토브르\n",
      "영등포구 선유로\n"
     ]
    },
    {
     "name": "stderr",
     "output_type": "stream",
     "text": [
      " 77%|███████▋  | 300/390 [15:39<05:32,  3.69s/it]"
     ]
    },
    {
     "name": "stdout",
     "output_type": "stream",
     "text": [
      "커피 전문점\n",
      "막회해산물투성이\n",
      "영등포구 도림로\n"
     ]
    },
    {
     "name": "stderr",
     "output_type": "stream",
     "text": [
      " 77%|███████▋  | 301/390 [15:42<05:07,  3.45s/it]"
     ]
    },
    {
     "name": "stdout",
     "output_type": "stream",
     "text": [
      "내역이 없습니다.\n",
      "알롱지서울\n",
      "영등포구 도림로\n"
     ]
    },
    {
     "name": "stderr",
     "output_type": "stream",
     "text": [
      " 77%|███████▋  | 302/390 [15:46<05:32,  3.78s/it]"
     ]
    },
    {
     "name": "stdout",
     "output_type": "stream",
     "text": [
      "내역이 없습니다.\n",
      "우이락\n",
      "영등포구 도림로147길\n"
     ]
    },
    {
     "name": "stderr",
     "output_type": "stream",
     "text": [
      " 78%|███████▊  | 303/390 [15:50<05:20,  3.69s/it]"
     ]
    },
    {
     "name": "stdout",
     "output_type": "stream",
     "text": [
      "한식 일반 음식점업\n",
      "향미각\n",
      "영등포구 도림로143길\n"
     ]
    },
    {
     "name": "stderr",
     "output_type": "stream",
     "text": [
      " 78%|███████▊  | 304/390 [15:53<04:57,  3.47s/it]"
     ]
    },
    {
     "name": "stdout",
     "output_type": "stream",
     "text": [
      "중식 음식점업\n",
      "1981미나리동태탕\n",
      "영등포구 도림로\n"
     ]
    },
    {
     "name": "stderr",
     "output_type": "stream",
     "text": [
      " 78%|███████▊  | 305/390 [15:56<04:42,  3.33s/it]"
     ]
    },
    {
     "name": "stdout",
     "output_type": "stream",
     "text": [
      "일식 음식점업\n",
      "노벨로\n",
      "영등포구 도림로\n"
     ]
    },
    {
     "name": "stderr",
     "output_type": "stream",
     "text": [
      " 78%|███████▊  | 306/390 [15:59<04:28,  3.19s/it]"
     ]
    },
    {
     "name": "stdout",
     "output_type": "stream",
     "text": [
      "커피 전문점\n",
      "문래양꼬치\n",
      "영등포구 도림로\n"
     ]
    },
    {
     "name": "stderr",
     "output_type": "stream",
     "text": [
      " 79%|███████▊  | 307/390 [16:02<04:18,  3.11s/it]"
     ]
    },
    {
     "name": "stdout",
     "output_type": "stream",
     "text": [
      "한식 육류 요리 전문점\n",
      "냐옹지마\n",
      "영등포구 도림로141다길\n"
     ]
    },
    {
     "name": "stderr",
     "output_type": "stream",
     "text": [
      " 79%|███████▉  | 308/390 [16:05<04:09,  3.04s/it]"
     ]
    },
    {
     "name": "stdout",
     "output_type": "stream",
     "text": [
      "내역이 없습니다.\n",
      "족발예찬\n",
      "영등포구 도림로\n"
     ]
    },
    {
     "name": "stderr",
     "output_type": "stream",
     "text": [
      " 79%|███████▉  | 309/390 [16:07<04:02,  3.00s/it]"
     ]
    },
    {
     "name": "stdout",
     "output_type": "stream",
     "text": [
      "내역이 없습니다.\n",
      "방춘자볶곱\n",
      "영등포구 도림로141다길\n"
     ]
    },
    {
     "name": "stderr",
     "output_type": "stream",
     "text": [
      " 79%|███████▉  | 310/390 [16:10<03:57,  2.96s/it]"
     ]
    },
    {
     "name": "stdout",
     "output_type": "stream",
     "text": [
      "내역이 없습니다.\n",
      "솥고집\n",
      "영등포구 선유로9길\n"
     ]
    },
    {
     "name": "stderr",
     "output_type": "stream",
     "text": [
      " 80%|███████▉  | 311/390 [16:13<03:52,  2.94s/it]"
     ]
    },
    {
     "name": "stdout",
     "output_type": "stream",
     "text": [
      "한식 일반 음식점업\n",
      "천복집흑염소\n",
      "영등포구 도림로\n"
     ]
    },
    {
     "name": "stderr",
     "output_type": "stream",
     "text": [
      " 80%|████████  | 312/390 [16:16<03:48,  2.93s/it]"
     ]
    },
    {
     "name": "stdout",
     "output_type": "stream",
     "text": [
      "내역이 없습니다.\n",
      "24시전주명가콩나물국밥\n",
      "영등포구 선유로\n"
     ]
    },
    {
     "name": "stderr",
     "output_type": "stream",
     "text": [
      " 80%|████████  | 313/390 [16:19<03:45,  2.93s/it]"
     ]
    },
    {
     "name": "stdout",
     "output_type": "stream",
     "text": [
      "내역이 없습니다.\n",
      "홍대교동짬뽕\n",
      "영등포구 선유로\n"
     ]
    },
    {
     "name": "stderr",
     "output_type": "stream",
     "text": [
      " 81%|████████  | 314/390 [16:22<03:41,  2.92s/it]"
     ]
    },
    {
     "name": "stdout",
     "output_type": "stream",
     "text": [
      "중식 음식점업\n",
      "헤이커피\n",
      "영등포구 선유로9나길\n"
     ]
    },
    {
     "name": "stderr",
     "output_type": "stream",
     "text": [
      " 81%|████████  | 315/390 [16:24<03:28,  2.78s/it]"
     ]
    },
    {
     "name": "stdout",
     "output_type": "stream",
     "text": [
      "기타 음ㆍ식료품 위주 종합 소매업\n",
      "아트스뉴욕\n",
      "영등포구 도림로143길\n"
     ]
    },
    {
     "name": "stderr",
     "output_type": "stream",
     "text": [
      " 81%|████████  | 316/390 [16:27<03:28,  2.82s/it]"
     ]
    },
    {
     "name": "stdout",
     "output_type": "stream",
     "text": [
      "커피 전문점\n",
      "토리냥\n",
      "영등포구 도림로145길\n"
     ]
    },
    {
     "name": "stderr",
     "output_type": "stream",
     "text": [
      " 81%|████████▏ | 317/390 [16:30<03:28,  2.85s/it]"
     ]
    },
    {
     "name": "stdout",
     "output_type": "stream",
     "text": [
      "내역이 없습니다.\n",
      "이모네분식포차\n",
      "영등포구 도림로141길\n"
     ]
    },
    {
     "name": "stderr",
     "output_type": "stream",
     "text": [
      " 82%|████████▏ | 318/390 [16:33<03:27,  2.88s/it]"
     ]
    },
    {
     "name": "stdout",
     "output_type": "stream",
     "text": [
      "내역이 없습니다.\n",
      "대감대구탕\n",
      "영등포구 도림로\n"
     ]
    },
    {
     "name": "stderr",
     "output_type": "stream",
     "text": [
      " 82%|████████▏ | 319/390 [16:37<03:37,  3.06s/it]"
     ]
    },
    {
     "name": "stdout",
     "output_type": "stream",
     "text": [
      "한식 일반 음식점업\n",
      "신흥각\n",
      "영등포구 도림로147길\n"
     ]
    },
    {
     "name": "stderr",
     "output_type": "stream",
     "text": [
      " 82%|████████▏ | 320/390 [16:41<03:51,  3.31s/it]"
     ]
    },
    {
     "name": "stdout",
     "output_type": "stream",
     "text": [
      "중식 음식점업\n",
      "자수정\n",
      "영등포구 도림로\n"
     ]
    },
    {
     "name": "stderr",
     "output_type": "stream",
     "text": [
      " 82%|████████▏ | 321/390 [16:43<03:40,  3.20s/it]"
     ]
    },
    {
     "name": "stdout",
     "output_type": "stream",
     "text": [
      "내역이 없습니다.\n",
      "드림플러스샌드위치\n",
      "영등포구 선유로3길\n"
     ]
    },
    {
     "name": "stderr",
     "output_type": "stream",
     "text": [
      " 83%|████████▎ | 322/390 [16:46<03:33,  3.13s/it]"
     ]
    },
    {
     "name": "stdout",
     "output_type": "stream",
     "text": [
      "내역이 없습니다.\n",
      "복청집\n",
      "영등포구 도림로143길\n"
     ]
    },
    {
     "name": "stderr",
     "output_type": "stream",
     "text": [
      " 83%|████████▎ | 323/390 [16:49<03:25,  3.06s/it]"
     ]
    },
    {
     "name": "stdout",
     "output_type": "stream",
     "text": [
      "한식 일반 음식점업\n",
      "물래포차\n",
      "영등포구 도림로\n"
     ]
    },
    {
     "name": "stderr",
     "output_type": "stream",
     "text": [
      " 83%|████████▎ | 324/390 [16:52<03:20,  3.04s/it]"
     ]
    },
    {
     "name": "stdout",
     "output_type": "stream",
     "text": [
      "내역이 없습니다.\n",
      "카페앰핑\n",
      "영등포구 문래로20길\n"
     ]
    },
    {
     "name": "stderr",
     "output_type": "stream",
     "text": [
      " 83%|████████▎ | 325/390 [16:55<03:15,  3.01s/it]"
     ]
    },
    {
     "name": "stdout",
     "output_type": "stream",
     "text": [
      "내역이 없습니다.\n",
      "에이\n",
      "영등포구 도림로139길\n"
     ]
    },
    {
     "name": "stderr",
     "output_type": "stream",
     "text": [
      " 84%|████████▎ | 326/390 [16:59<03:19,  3.12s/it]"
     ]
    },
    {
     "name": "stdout",
     "output_type": "stream",
     "text": [
      "내역이 없습니다.\n",
      "오이시뎅\n",
      "영등포구 도림로\n"
     ]
    },
    {
     "name": "stderr",
     "output_type": "stream",
     "text": [
      " 84%|████████▍ | 327/390 [17:02<03:13,  3.06s/it]"
     ]
    },
    {
     "name": "stdout",
     "output_type": "stream",
     "text": [
      "내역이 없습니다.\n",
      "무목\n",
      "영등포구 도림로131길\n"
     ]
    },
    {
     "name": "stderr",
     "output_type": "stream",
     "text": [
      " 84%|████████▍ | 328/390 [17:05<03:11,  3.08s/it]"
     ]
    },
    {
     "name": "stdout",
     "output_type": "stream",
     "text": [
      "내역이 없습니다.\n",
      "무작정\n",
      "영등포구 도림로141길\n"
     ]
    },
    {
     "name": "stderr",
     "output_type": "stream",
     "text": [
      " 84%|████████▍ | 329/390 [17:08<03:14,  3.18s/it]"
     ]
    },
    {
     "name": "stdout",
     "output_type": "stream",
     "text": [
      "내역이 없습니다.\n",
      "카페비긴\n",
      "영등포구 도림로143길\n"
     ]
    },
    {
     "name": "stderr",
     "output_type": "stream",
     "text": [
      " 85%|████████▍ | 330/390 [17:11<03:05,  3.09s/it]"
     ]
    },
    {
     "name": "stdout",
     "output_type": "stream",
     "text": [
      "커피 전문점\n",
      "해피커피\n",
      "영등포구 도림로137길\n"
     ]
    },
    {
     "name": "stderr",
     "output_type": "stream",
     "text": [
      " 85%|████████▍ | 331/390 [17:14<02:59,  3.04s/it]"
     ]
    },
    {
     "name": "stdout",
     "output_type": "stream",
     "text": [
      "내역이 없습니다.\n",
      "더위저드\n",
      "영등포구 도림로131길\n"
     ]
    },
    {
     "name": "stderr",
     "output_type": "stream",
     "text": [
      " 85%|████████▌ | 332/390 [17:17<02:55,  3.03s/it]"
     ]
    },
    {
     "name": "stdout",
     "output_type": "stream",
     "text": [
      "내역이 없습니다.\n",
      "야키토리훈\n",
      "영등포구 도림로141다길\n"
     ]
    },
    {
     "name": "stderr",
     "output_type": "stream",
     "text": [
      " 85%|████████▌ | 333/390 [17:20<02:51,  3.00s/it]"
     ]
    },
    {
     "name": "stdout",
     "output_type": "stream",
     "text": [
      "내역이 없습니다.\n",
      "나이스호프\n",
      "영등포구 선유로\n"
     ]
    },
    {
     "name": "stderr",
     "output_type": "stream",
     "text": [
      " 86%|████████▌ | 334/390 [17:23<02:47,  2.99s/it]"
     ]
    },
    {
     "name": "stdout",
     "output_type": "stream",
     "text": [
      "한식 일반 음식점업\n",
      "오나규\n",
      "영등포구 도림로141길\n"
     ]
    },
    {
     "name": "stderr",
     "output_type": "stream",
     "text": [
      " 86%|████████▌ | 335/390 [17:27<03:00,  3.28s/it]"
     ]
    },
    {
     "name": "stdout",
     "output_type": "stream",
     "text": [
      "일식 음식점업\n",
      "야키토리훈\n",
      "영등포구 도림로141다길\n"
     ]
    },
    {
     "name": "stderr",
     "output_type": "stream",
     "text": [
      " 86%|████████▌ | 336/390 [17:30<03:00,  3.34s/it]"
     ]
    },
    {
     "name": "stdout",
     "output_type": "stream",
     "text": [
      "내역이 없습니다.\n",
      "하나양곱창\n",
      "영등포구 도림로137길\n"
     ]
    },
    {
     "name": "stderr",
     "output_type": "stream",
     "text": [
      " 86%|████████▋ | 337/390 [17:33<02:52,  3.26s/it]"
     ]
    },
    {
     "name": "stdout",
     "output_type": "stream",
     "text": [
      "내역이 없습니다.\n",
      "데일리푸드\n",
      "영등포구 선유로3길\n"
     ]
    },
    {
     "name": "stderr",
     "output_type": "stream",
     "text": [
      " 87%|████████▋ | 338/390 [17:37<02:53,  3.33s/it]"
     ]
    },
    {
     "name": "stdout",
     "output_type": "stream",
     "text": [
      "한식 일반 음식점업\n",
      "은정다방\n",
      "영등포구 도림로131길\n"
     ]
    },
    {
     "name": "stderr",
     "output_type": "stream",
     "text": [
      " 87%|████████▋ | 339/390 [17:40<02:45,  3.24s/it]"
     ]
    },
    {
     "name": "stdout",
     "output_type": "stream",
     "text": [
      "내역이 없습니다.\n",
      "투두보드게임카페\n",
      "영등포구 도림로139길\n"
     ]
    },
    {
     "name": "stderr",
     "output_type": "stream",
     "text": [
      " 87%|████████▋ | 340/390 [17:43<02:37,  3.15s/it]"
     ]
    },
    {
     "name": "stdout",
     "output_type": "stream",
     "text": [
      "내역이 없습니다.\n",
      "LLRP\n",
      "영등포구 도림로131길\n"
     ]
    },
    {
     "name": "stderr",
     "output_type": "stream",
     "text": [
      " 87%|████████▋ | 341/390 [17:46<02:32,  3.10s/it]"
     ]
    },
    {
     "name": "stdout",
     "output_type": "stream",
     "text": [
      "내역이 없습니다.\n",
      "흑돼지생고기\n",
      "영등포구 도림로147길\n"
     ]
    },
    {
     "name": "stderr",
     "output_type": "stream",
     "text": [
      " 88%|████████▊ | 342/390 [17:50<02:42,  3.39s/it]"
     ]
    },
    {
     "name": "stdout",
     "output_type": "stream",
     "text": [
      "내역이 없습니다.\n",
      "정라멘\n",
      "영등포구 도림로\n"
     ]
    },
    {
     "name": "stderr",
     "output_type": "stream",
     "text": [
      " 88%|████████▊ | 343/390 [17:53<02:39,  3.40s/it]"
     ]
    },
    {
     "name": "stdout",
     "output_type": "stream",
     "text": [
      "내역이 없습니다.\n",
      "점심시간\n",
      "영등포구 경인로71길\n"
     ]
    },
    {
     "name": "stderr",
     "output_type": "stream",
     "text": [
      " 88%|████████▊ | 344/390 [18:04<04:12,  5.50s/it]"
     ]
    },
    {
     "name": "stdout",
     "output_type": "stream",
     "text": [
      "내역이 없습니다.\n",
      "조선예가\n",
      "영등포구 선유로\n"
     ]
    },
    {
     "name": "stderr",
     "output_type": "stream",
     "text": [
      " 88%|████████▊ | 345/390 [18:08<03:55,  5.23s/it]"
     ]
    },
    {
     "name": "stdout",
     "output_type": "stream",
     "text": [
      "제과점업\n",
      "애육당\n",
      "영등포구 도림로141다길\n"
     ]
    },
    {
     "name": "stderr",
     "output_type": "stream",
     "text": [
      " 89%|████████▊ | 346/390 [18:12<03:28,  4.75s/it]"
     ]
    },
    {
     "name": "stdout",
     "output_type": "stream",
     "text": [
      "한식 일반 음식점업\n",
      "온오프로스터리\n",
      "영등포구 도림로145길\n"
     ]
    },
    {
     "name": "stderr",
     "output_type": "stream",
     "text": [
      " 89%|████████▉ | 347/390 [18:15<03:02,  4.25s/it]"
     ]
    },
    {
     "name": "stdout",
     "output_type": "stream",
     "text": [
      "내역이 없습니다.\n",
      "팔당오징어\n",
      "영등포구 도림로\n"
     ]
    },
    {
     "name": "stderr",
     "output_type": "stream",
     "text": [
      " 89%|████████▉ | 348/390 [18:19<02:49,  4.03s/it]"
     ]
    },
    {
     "name": "stdout",
     "output_type": "stream",
     "text": [
      "내역이 없습니다.\n",
      "삼오식당\n",
      "영등포구 도림로143길\n"
     ]
    },
    {
     "name": "stderr",
     "output_type": "stream",
     "text": [
      " 89%|████████▉ | 349/390 [18:22<02:38,  3.88s/it]"
     ]
    },
    {
     "name": "stdout",
     "output_type": "stream",
     "text": [
      "한식 일반 음식점업\n",
      "유국수카페\n",
      "영등포구 선유로\n"
     ]
    },
    {
     "name": "stderr",
     "output_type": "stream",
     "text": [
      " 90%|████████▉ | 350/390 [18:25<02:23,  3.58s/it]"
     ]
    },
    {
     "name": "stdout",
     "output_type": "stream",
     "text": [
      "내역이 없습니다.\n",
      "굽네치킨\n",
      "영등포구 선유로3길\n"
     ]
    },
    {
     "name": "stderr",
     "output_type": "stream",
     "text": [
      " 90%|█████████ | 351/390 [18:28<02:12,  3.39s/it]"
     ]
    },
    {
     "name": "stdout",
     "output_type": "stream",
     "text": [
      "치킨 전문점\n",
      "노나\n",
      "영등포구 도림로\n"
     ]
    },
    {
     "name": "stderr",
     "output_type": "stream",
     "text": [
      " 90%|█████████ | 352/390 [18:31<02:04,  3.26s/it]"
     ]
    },
    {
     "name": "stdout",
     "output_type": "stream",
     "text": [
      "한식 일반 음식점업\n",
      "구미호\n",
      "영등포구 선유로9나길\n"
     ]
    },
    {
     "name": "stderr",
     "output_type": "stream",
     "text": [
      " 91%|█████████ | 353/390 [18:34<01:57,  3.18s/it]"
     ]
    },
    {
     "name": "stdout",
     "output_type": "stream",
     "text": [
      "음료 소매업\n",
      "블루밍\n",
      "영등포구 도림로\n"
     ]
    },
    {
     "name": "stderr",
     "output_type": "stream",
     "text": [
      " 91%|█████████ | 354/390 [18:37<01:51,  3.11s/it]"
     ]
    },
    {
     "name": "stdout",
     "output_type": "stream",
     "text": [
      "레크리에이션 교육기관\n",
      "자매식당\n",
      "영등포구 도림로141나길\n"
     ]
    },
    {
     "name": "stderr",
     "output_type": "stream",
     "text": [
      " 91%|█████████ | 355/390 [18:41<01:59,  3.42s/it]"
     ]
    },
    {
     "name": "stdout",
     "output_type": "stream",
     "text": [
      "내역이 없습니다.\n",
      "픽미픽미\n",
      "영등포구 선유로9길\n"
     ]
    },
    {
     "name": "stderr",
     "output_type": "stream",
     "text": [
      " 91%|█████████▏| 356/390 [18:44<01:51,  3.28s/it]"
     ]
    },
    {
     "name": "stdout",
     "output_type": "stream",
     "text": [
      "내역이 없습니다.\n",
      "상전\n",
      "영등포구 도림로141가길\n"
     ]
    },
    {
     "name": "stderr",
     "output_type": "stream",
     "text": [
      " 92%|█████████▏| 357/390 [18:47<01:45,  3.20s/it]"
     ]
    },
    {
     "name": "stdout",
     "output_type": "stream",
     "text": [
      "한식 일반 음식점업\n",
      "우산집\n",
      "영등포구 도림로141길\n"
     ]
    },
    {
     "name": "stderr",
     "output_type": "stream",
     "text": [
      " 92%|█████████▏| 358/390 [18:50<01:39,  3.10s/it]"
     ]
    },
    {
     "name": "stdout",
     "output_type": "stream",
     "text": [
      "한식 일반 음식점업\n",
      "뵈뵈케이크팝\n",
      "영등포구 도림로\n"
     ]
    },
    {
     "name": "stderr",
     "output_type": "stream",
     "text": [
      " 92%|█████████▏| 359/390 [18:53<01:39,  3.20s/it]"
     ]
    },
    {
     "name": "stdout",
     "output_type": "stream",
     "text": [
      "제과점업\n",
      "별다방\n",
      "영등포구 도림로141나길\n"
     ]
    },
    {
     "name": "stderr",
     "output_type": "stream",
     "text": [
      " 92%|█████████▏| 360/390 [18:56<01:33,  3.11s/it]"
     ]
    },
    {
     "name": "stdout",
     "output_type": "stream",
     "text": [
      "내역이 없습니다.\n",
      "씨네메투\n",
      "영등포구 도림로143길\n"
     ]
    },
    {
     "name": "stderr",
     "output_type": "stream",
     "text": [
      " 93%|█████████▎| 361/390 [18:59<01:28,  3.05s/it]"
     ]
    },
    {
     "name": "stdout",
     "output_type": "stream",
     "text": [
      "기타 주점업\n",
      "경희네\n",
      "영등포구 도림로\n"
     ]
    },
    {
     "name": "stderr",
     "output_type": "stream",
     "text": [
      " 93%|█████████▎| 362/390 [19:02<01:24,  3.01s/it]"
     ]
    },
    {
     "name": "stdout",
     "output_type": "stream",
     "text": [
      "한식 일반 음식점업\n",
      "카페CAFE 4가13번지\n",
      "영등포구 도림로141가길\n"
     ]
    },
    {
     "name": "stderr",
     "output_type": "stream",
     "text": [
      " 93%|█████████▎| 363/390 [19:05<01:20,  2.99s/it]"
     ]
    },
    {
     "name": "stdout",
     "output_type": "stream",
     "text": [
      "내역이 없습니다.\n",
      "24전주명가콩나물국밥\n",
      "영등포구 선유로\n"
     ]
    },
    {
     "name": "stderr",
     "output_type": "stream",
     "text": [
      " 93%|█████████▎| 364/390 [19:10<01:33,  3.58s/it]"
     ]
    },
    {
     "name": "stdout",
     "output_type": "stream",
     "text": [
      "내역이 없습니다.\n",
      "쉬프림차이나\n",
      "영등포구 도림로\n"
     ]
    },
    {
     "name": "stderr",
     "output_type": "stream",
     "text": [
      " 94%|█████████▎| 365/390 [19:13<01:24,  3.36s/it]"
     ]
    },
    {
     "name": "stdout",
     "output_type": "stream",
     "text": [
      "내역이 없습니다.\n",
      "순천식당\n",
      "영등포구 도림로145길\n"
     ]
    },
    {
     "name": "stderr",
     "output_type": "stream",
     "text": [
      " 94%|█████████▍| 366/390 [19:31<03:11,  7.99s/it]"
     ]
    },
    {
     "name": "stdout",
     "output_type": "stream",
     "text": [
      "내역이 없습니다.\n",
      "시골집\n",
      "영등포구 도림로141다길\n"
     ]
    },
    {
     "name": "stderr",
     "output_type": "stream",
     "text": [
      " 94%|█████████▍| 367/390 [19:34<02:28,  6.48s/it]"
     ]
    },
    {
     "name": "stdout",
     "output_type": "stream",
     "text": [
      "내역이 없습니다.\n",
      "마마리카페&펍\n",
      "영등포구 도림로147길\n"
     ]
    },
    {
     "name": "stderr",
     "output_type": "stream",
     "text": [
      " 94%|█████████▍| 368/390 [19:37<01:58,  5.38s/it]"
     ]
    },
    {
     "name": "stdout",
     "output_type": "stream",
     "text": [
      "내역이 없습니다.\n",
      "구파삼\n",
      "영등포구 도림로\n"
     ]
    },
    {
     "name": "stderr",
     "output_type": "stream",
     "text": [
      " 95%|█████████▍| 369/390 [19:41<01:41,  4.81s/it]"
     ]
    },
    {
     "name": "stdout",
     "output_type": "stream",
     "text": [
      "내역이 없습니다.\n",
      "홍천한우마을\n",
      "영등포구 문래로20길\n"
     ]
    },
    {
     "name": "stderr",
     "output_type": "stream",
     "text": [
      " 95%|█████████▍| 370/390 [19:44<01:24,  4.23s/it]"
     ]
    },
    {
     "name": "stdout",
     "output_type": "stream",
     "text": [
      "육류 도매업\n",
      "역전대합실\n",
      "영등포구 도림로141길\n"
     ]
    },
    {
     "name": "stderr",
     "output_type": "stream",
     "text": [
      " 95%|█████████▌| 371/390 [19:46<01:12,  3.81s/it]"
     ]
    },
    {
     "name": "stdout",
     "output_type": "stream",
     "text": [
      "내역이 없습니다.\n",
      "바텐\n",
      "영등포구 선유로\n"
     ]
    },
    {
     "name": "stderr",
     "output_type": "stream",
     "text": [
      " 95%|█████████▌| 372/390 [19:50<01:06,  3.68s/it]"
     ]
    },
    {
     "name": "stdout",
     "output_type": "stream",
     "text": [
      "내역이 없습니다.\n",
      "문래동생고기\n",
      "영등포구 선유로3길\n"
     ]
    },
    {
     "name": "stderr",
     "output_type": "stream",
     "text": [
      " 96%|█████████▌| 373/390 [19:53<00:58,  3.42s/it]"
     ]
    },
    {
     "name": "stdout",
     "output_type": "stream",
     "text": [
      "한식 일반 음식점업\n",
      "썬\n",
      "영등포구 도림로147길\n"
     ]
    },
    {
     "name": "stderr",
     "output_type": "stream",
     "text": [
      " 96%|█████████▌| 374/390 [19:56<00:54,  3.42s/it]"
     ]
    },
    {
     "name": "stdout",
     "output_type": "stream",
     "text": [
      "내역이 없습니다.\n",
      "아우네 국수 숯불구이\n",
      "영등포구 도림로\n"
     ]
    },
    {
     "name": "stderr",
     "output_type": "stream",
     "text": [
      " 96%|█████████▌| 375/390 [19:59<00:48,  3.23s/it]"
     ]
    },
    {
     "name": "stdout",
     "output_type": "stream",
     "text": [
      "내역이 없습니다.\n",
      "문래중독\n",
      "영등포구 도림로\n"
     ]
    },
    {
     "name": "stderr",
     "output_type": "stream",
     "text": [
      " 96%|█████████▋| 376/390 [20:02<00:43,  3.13s/it]"
     ]
    },
    {
     "name": "stdout",
     "output_type": "stream",
     "text": [
      "한식 일반 음식점업\n",
      "뼈때리는짬뽕\n",
      "영등포구 도림로\n"
     ]
    },
    {
     "name": "stderr",
     "output_type": "stream",
     "text": [
      " 97%|█████████▋| 377/390 [20:05<00:39,  3.06s/it]"
     ]
    },
    {
     "name": "stdout",
     "output_type": "stream",
     "text": [
      "내역이 없습니다.\n",
      "개구쟁이7080\n",
      "영등포구 도림로\n"
     ]
    },
    {
     "name": "stderr",
     "output_type": "stream",
     "text": [
      " 97%|█████████▋| 378/390 [20:07<00:35,  2.98s/it]"
     ]
    },
    {
     "name": "stdout",
     "output_type": "stream",
     "text": [
      "내역이 없습니다.\n",
      "레버스서\n",
      "영등포구 문래로20길\n"
     ]
    },
    {
     "name": "stderr",
     "output_type": "stream",
     "text": [
      " 97%|█████████▋| 379/390 [20:10<00:32,  2.92s/it]"
     ]
    },
    {
     "name": "stdout",
     "output_type": "stream",
     "text": [
      "내역이 없습니다.\n",
      "냐옹월드\n",
      "영등포구 도림로145길\n"
     ]
    },
    {
     "name": "stderr",
     "output_type": "stream",
     "text": [
      " 97%|█████████▋| 380/390 [20:13<00:28,  2.88s/it]"
     ]
    },
    {
     "name": "stdout",
     "output_type": "stream",
     "text": [
      "내역이 없습니다.\n",
      "소담푸드\n",
      "영등포구 선유로3길\n"
     ]
    },
    {
     "name": "stderr",
     "output_type": "stream",
     "text": [
      " 98%|█████████▊| 381/390 [20:16<00:26,  2.89s/it]"
     ]
    },
    {
     "name": "stdout",
     "output_type": "stream",
     "text": [
      "내역이 없습니다.\n",
      "더문\n",
      "영등포구 선유로\n"
     ]
    },
    {
     "name": "stderr",
     "output_type": "stream",
     "text": [
      " 98%|█████████▊| 382/390 [20:19<00:23,  2.89s/it]"
     ]
    },
    {
     "name": "stdout",
     "output_type": "stream",
     "text": [
      "내역이 없습니다.\n",
      "그린스푼\n",
      "영등포구 선유로3길\n"
     ]
    },
    {
     "name": "stderr",
     "output_type": "stream",
     "text": [
      " 98%|█████████▊| 383/390 [20:22<00:20,  2.92s/it]"
     ]
    },
    {
     "name": "stdout",
     "output_type": "stream",
     "text": [
      "내역이 없습니다.\n",
      "먹태랑노가리\n",
      "영등포구 도림로\n"
     ]
    },
    {
     "name": "stderr",
     "output_type": "stream",
     "text": [
      " 98%|█████████▊| 384/390 [20:25<00:17,  2.93s/it]"
     ]
    },
    {
     "name": "stdout",
     "output_type": "stream",
     "text": [
      "내역이 없습니다.\n",
      "골든푸드코리아\n",
      "영등포구 도림로\n"
     ]
    },
    {
     "name": "stderr",
     "output_type": "stream",
     "text": [
      " 99%|█████████▊| 385/390 [20:28<00:14,  2.92s/it]"
     ]
    },
    {
     "name": "stdout",
     "output_type": "stream",
     "text": [
      "한식 일반 음식점업\n",
      "설봄\n",
      "영등포구 선유서로\n"
     ]
    },
    {
     "name": "stderr",
     "output_type": "stream",
     "text": [
      " 99%|█████████▉| 386/390 [20:30<00:11,  2.89s/it]"
     ]
    },
    {
     "name": "stdout",
     "output_type": "stream",
     "text": [
      "내역이 없습니다.\n",
      "김가네\n",
      "영등포구 선유로9길\n"
     ]
    },
    {
     "name": "stderr",
     "output_type": "stream",
     "text": [
      " 99%|█████████▉| 387/390 [20:33<00:08,  2.88s/it]"
     ]
    },
    {
     "name": "stdout",
     "output_type": "stream",
     "text": [
      "김밥 및 기타 간이 음식점업\n",
      "라라커피\n",
      "영등포구 선유로9나길\n"
     ]
    },
    {
     "name": "stderr",
     "output_type": "stream",
     "text": [
      " 99%|█████████▉| 388/390 [20:51<00:14,  7.46s/it]"
     ]
    },
    {
     "name": "stdout",
     "output_type": "stream",
     "text": [
      "커피 전문점\n",
      "피자알볼로\n",
      "영등포구 선유로3길\n"
     ]
    },
    {
     "name": "stderr",
     "output_type": "stream",
     "text": [
      "100%|█████████▉| 389/390 [20:54<00:06,  6.08s/it]"
     ]
    },
    {
     "name": "stdout",
     "output_type": "stream",
     "text": [
      "피자, 햄버거, 샌드위치 및 유사 음식점업\n",
      "쉬즈베이글\n",
      "영등포구 선유로9길\n"
     ]
    },
    {
     "name": "stderr",
     "output_type": "stream",
     "text": [
      "100%|██████████| 390/390 [20:57<00:00,  3.22s/it]"
     ]
    },
    {
     "name": "stdout",
     "output_type": "stream",
     "text": [
      "커피 전문점\n"
     ]
    },
    {
     "name": "stderr",
     "output_type": "stream",
     "text": [
      "\n"
     ]
    }
   ],
   "source": [
    "url = 'https://zeropay.or.kr/UI_HP_009_03.act'\n",
    "# driver = webdriver.Chrome('./chromedriver',chrome_options=options) # 크롬창 숨기기\n",
    "options = webdriver.ChromeOptions()\n",
    "driver = webdriver.Chrome(options=options)\n",
    "\n",
    "driver.get(url)\n",
    "\n",
    "# 추출된 요소에 직접 영향을 끼칠 수 없다면 그 위에 Label을 추출해보자\n",
    "search = driver.find_element(By.CSS_SELECTOR, 'body > div.subContainer > section > article > div.storeFind__search > div.storeFind__business > div.storeFind__title > div > label')\n",
    "search.click()\n",
    "\n",
    "for num in tqdm.tqdm(range(len(load_lst))):\n",
    "\n",
    "    name = ''\n",
    "    add = ''\n",
    "    temp_name = load_lst.loc[num,'가맹점명']\n",
    "    temp_add = load_lst.loc[num,'주소']\n",
    "\n",
    "    # print(\"-\"*10,temp_name,\"-\"*10)\n",
    "    # print(\"-\"*2,temp_add,\"-\"*2)\n",
    "    \n",
    "    # 이름처리\n",
    "    temp = temp_name.split()\n",
    "    if temp[-1].endswith(\"점\"):\n",
    "        if len(temp) == 1:\n",
    "            if len(temp[0]) > 4:\n",
    "                name = temp[0][:-3]\n",
    "            else:\n",
    "                name = temp[0]\n",
    "        else:\n",
    "            temp.remove(temp[-1])\n",
    "            name = \"\".join(temp)\n",
    "    else:\n",
    "        name = temp_name\n",
    "    \n",
    "    # 주소처리\n",
    "    add = temp_add.split()[1]+\" \"+temp_add.split()[2]\n",
    "\n",
    "    # print('wait')\n",
    "        \n",
    "    search = driver.find_element(By.CSS_SELECTOR, '#iptText')\n",
    "    search.clear()\n",
    "    search.send_keys(name)\n",
    "\n",
    "    search = driver.find_element(By.CSS_SELECTOR, '#iptText2')\n",
    "    search.clear()\n",
    "    search.send_keys(add)\n",
    "\n",
    "    print(name)\n",
    "    print(add)\n",
    "    key = 0\n",
    "    temp_num = 0\n",
    "    while key == 0:\n",
    "        # print('클릭 전')\n",
    "        try:\n",
    "            # wait = WebDriverWait(driver, 100)\n",
    "            # search = wait.until(EC.element_to_be_clickable((By.CSS_SELECTOR, 'body > div.subContainer > section > article > div.storeFind__search > div.btnbox.center')))\n",
    "            search = driver.find_element(By.CSS_SELECTOR, '#btnSearch')\n",
    "            search.click()\n",
    "            # pyautogui.sleep(0.5)\n",
    "            WebDriverWait(driver, 10).until(EC.invisibility_of_element_located((By.CSS_SELECTOR, \"[class$='loading__bar']\")))\n",
    "            key=1\n",
    "            # print('클릭 후')\n",
    "        except:\n",
    "            if temp_num == 100:\n",
    "                break\n",
    "            else:\n",
    "                pass\n",
    "\n",
    "    # wait = WebDriverWait(driver, 10)\n",
    "    # search = wait.until(EC.element_to_be_clickable((By.CSS_SELECTOR, '#tbTbody > tr > td')))\n",
    "    # WebDriverWait(driver, 10).until(EC.visibility_of_element_located((By.CSS_SELECTOR, \"#tbTbody > tr > td\")))\n",
    "    search = driver.find_element(By.CSS_SELECTOR, '#tbTbody > tr > td')\n",
    "    print(search.text)\n",
    "    if '없습니다' in search.text:\n",
    "        # print('X')\n",
    "        load_lst.loc[num,'제로페이'] = \"X\"\n",
    "    else:\n",
    "        # print('O')\n",
    "        load_lst.loc[num,'제로페이'] = \"O\"\n",
    "        load_lst.loc[num,'제로페이분류'] = search.text"
   ]
  },
  {
   "cell_type": "code",
   "execution_count": 8,
   "id": "229294d8-4b5b-452a-ac1b-4dac67e5d113",
   "metadata": {},
   "outputs": [
    {
     "data": {
      "text/html": [
       "<div>\n",
       "<style scoped>\n",
       "    .dataframe tbody tr th:only-of-type {\n",
       "        vertical-align: middle;\n",
       "    }\n",
       "\n",
       "    .dataframe tbody tr th {\n",
       "        vertical-align: top;\n",
       "    }\n",
       "\n",
       "    .dataframe thead th {\n",
       "        text-align: right;\n",
       "    }\n",
       "</style>\n",
       "<table border=\"1\" class=\"dataframe\">\n",
       "  <thead>\n",
       "    <tr style=\"text-align: right;\">\n",
       "      <th></th>\n",
       "      <th>가맹점명</th>\n",
       "      <th>주소</th>\n",
       "      <th>분류</th>\n",
       "      <th>점수</th>\n",
       "      <th>건수</th>\n",
       "      <th>거리</th>\n",
       "      <th>제로페이</th>\n",
       "      <th>제로페이분류</th>\n",
       "    </tr>\n",
       "  </thead>\n",
       "  <tbody>\n",
       "    <tr>\n",
       "      <th>0</th>\n",
       "      <td>화사랑화로구이 문래점</td>\n",
       "      <td>서울 영등포구 선유로9가길 16 광양림빌딩 1,2층</td>\n",
       "      <td>육류,고기</td>\n",
       "      <td>3.5</td>\n",
       "      <td>27.0</td>\n",
       "      <td>195.38</td>\n",
       "      <td>O</td>\n",
       "      <td>한식 일반 음식점업</td>\n",
       "    </tr>\n",
       "    <tr>\n",
       "      <th>1</th>\n",
       "      <td>라메흐꺄도</td>\n",
       "      <td>서울 영등포구 선유로17길 24 신일아르디세 1층 105~106호</td>\n",
       "      <td>해물,생선</td>\n",
       "      <td>4.1</td>\n",
       "      <td>43.0</td>\n",
       "      <td>354.80</td>\n",
       "      <td>O</td>\n",
       "      <td>한식 일반 음식점업</td>\n",
       "    </tr>\n",
       "    <tr>\n",
       "      <th>2</th>\n",
       "      <td>화덕으로간고등어반상</td>\n",
       "      <td>서울 영등포구 선유로9길 10 문래SKV1센터 1층 119호</td>\n",
       "      <td>해물,생선</td>\n",
       "      <td>4.5</td>\n",
       "      <td>2.0</td>\n",
       "      <td>57.62</td>\n",
       "      <td>X</td>\n",
       "      <td>NaN</td>\n",
       "    </tr>\n",
       "    <tr>\n",
       "      <th>3</th>\n",
       "      <td>쁘띠문래</td>\n",
       "      <td>서울 영등포구 선유로17길 24 신일아르디세 1층 109호</td>\n",
       "      <td>양식</td>\n",
       "      <td>4.1</td>\n",
       "      <td>23.0</td>\n",
       "      <td>354.80</td>\n",
       "      <td>O</td>\n",
       "      <td>한식 해산물 요리 전문점</td>\n",
       "    </tr>\n",
       "    <tr>\n",
       "      <th>4</th>\n",
       "      <td>문래옥</td>\n",
       "      <td>서울 영등포구 선유로17길 24 1층</td>\n",
       "      <td>육류,고기</td>\n",
       "      <td>4.1</td>\n",
       "      <td>16.0</td>\n",
       "      <td>354.80</td>\n",
       "      <td>O</td>\n",
       "      <td>한식 일반 음식점업</td>\n",
       "    </tr>\n",
       "    <tr>\n",
       "      <th>...</th>\n",
       "      <td>...</td>\n",
       "      <td>...</td>\n",
       "      <td>...</td>\n",
       "      <td>...</td>\n",
       "      <td>...</td>\n",
       "      <td>...</td>\n",
       "      <td>...</td>\n",
       "      <td>...</td>\n",
       "    </tr>\n",
       "    <tr>\n",
       "      <th>385</th>\n",
       "      <td>설봄</td>\n",
       "      <td>서울 영등포구 선유서로 17 1층 101호</td>\n",
       "      <td>떡,한과</td>\n",
       "      <td>4.3</td>\n",
       "      <td>10.0</td>\n",
       "      <td>224.20</td>\n",
       "      <td>X</td>\n",
       "      <td>NaN</td>\n",
       "    </tr>\n",
       "    <tr>\n",
       "      <th>386</th>\n",
       "      <td>김가네 문래SKV1점</td>\n",
       "      <td>서울 영등포구 선유로9길 10 1층 108호</td>\n",
       "      <td>분식</td>\n",
       "      <td>2.3</td>\n",
       "      <td>3.0</td>\n",
       "      <td>57.62</td>\n",
       "      <td>O</td>\n",
       "      <td>김밥 및 기타 간이 음식점업</td>\n",
       "    </tr>\n",
       "    <tr>\n",
       "      <th>387</th>\n",
       "      <td>라라커피</td>\n",
       "      <td>서울 영등포구 선유로9나길 12 문래 두산위브 상가동 1층 105호</td>\n",
       "      <td>카페</td>\n",
       "      <td>4.8</td>\n",
       "      <td>4.0</td>\n",
       "      <td>141.83</td>\n",
       "      <td>O</td>\n",
       "      <td>커피 전문점</td>\n",
       "    </tr>\n",
       "    <tr>\n",
       "      <th>388</th>\n",
       "      <td>피자알볼로 문래점</td>\n",
       "      <td>서울 영등포구 선유로3길 10 하우스디비즈 1층 101호</td>\n",
       "      <td>피자</td>\n",
       "      <td>3.8</td>\n",
       "      <td>4.0</td>\n",
       "      <td>166.52</td>\n",
       "      <td>O</td>\n",
       "      <td>피자, 햄버거, 샌드위치 및 유사 음식점업</td>\n",
       "    </tr>\n",
       "    <tr>\n",
       "      <th>389</th>\n",
       "      <td>쉬즈베이글 문래점</td>\n",
       "      <td>서울 영등포구 선유로9길 10</td>\n",
       "      <td>카페</td>\n",
       "      <td>5.0</td>\n",
       "      <td>1.0</td>\n",
       "      <td>57.62</td>\n",
       "      <td>O</td>\n",
       "      <td>커피 전문점</td>\n",
       "    </tr>\n",
       "  </tbody>\n",
       "</table>\n",
       "<p>390 rows × 8 columns</p>\n",
       "</div>"
      ],
      "text/plain": [
       "            가맹점명                                     주소     분류   점수    건수  \\\n",
       "0    화사랑화로구이 문래점           서울 영등포구 선유로9가길 16 광양림빌딩 1,2층  육류,고기  3.5  27.0   \n",
       "1          라메흐꺄도   서울 영등포구 선유로17길 24 신일아르디세 1층 105~106호  해물,생선  4.1  43.0   \n",
       "2     화덕으로간고등어반상      서울 영등포구 선유로9길 10 문래SKV1센터 1층 119호  해물,생선  4.5   2.0   \n",
       "3           쁘띠문래       서울 영등포구 선유로17길 24 신일아르디세 1층 109호     양식  4.1  23.0   \n",
       "4            문래옥                   서울 영등포구 선유로17길 24 1층  육류,고기  4.1  16.0   \n",
       "..           ...                                    ...    ...  ...   ...   \n",
       "385           설봄                서울 영등포구 선유서로 17 1층 101호   떡,한과  4.3  10.0   \n",
       "386  김가네 문래SKV1점               서울 영등포구 선유로9길 10 1층 108호     분식  2.3   3.0   \n",
       "387         라라커피  서울 영등포구 선유로9나길 12 문래 두산위브 상가동 1층 105호     카페  4.8   4.0   \n",
       "388    피자알볼로 문래점        서울 영등포구 선유로3길 10 하우스디비즈 1층 101호     피자  3.8   4.0   \n",
       "389    쉬즈베이글 문래점                       서울 영등포구 선유로9길 10     카페  5.0   1.0   \n",
       "\n",
       "         거리 제로페이                   제로페이분류  \n",
       "0    195.38    O               한식 일반 음식점업  \n",
       "1    354.80    O               한식 일반 음식점업  \n",
       "2     57.62    X                      NaN  \n",
       "3    354.80    O            한식 해산물 요리 전문점  \n",
       "4    354.80    O               한식 일반 음식점업  \n",
       "..      ...  ...                      ...  \n",
       "385  224.20    X                      NaN  \n",
       "386   57.62    O          김밥 및 기타 간이 음식점업  \n",
       "387  141.83    O                   커피 전문점  \n",
       "388  166.52    O  피자, 햄버거, 샌드위치 및 유사 음식점업  \n",
       "389   57.62    O                   커피 전문점  \n",
       "\n",
       "[390 rows x 8 columns]"
      ]
     },
     "execution_count": 8,
     "metadata": {},
     "output_type": "execute_result"
    }
   ],
   "source": [
    "load_lst"
   ]
  },
  {
   "cell_type": "code",
   "execution_count": 9,
   "id": "99777c1c-0992-4927-9cb0-c4dcd2b327d5",
   "metadata": {},
   "outputs": [],
   "source": [
    "load_lst.to_excel('제로페이.xlsx')"
   ]
  },
  {
   "cell_type": "code",
   "execution_count": null,
   "id": "c668ceaa-0e63-4202-8ad1-e23d130fad53",
   "metadata": {},
   "outputs": [],
   "source": []
  },
  {
   "cell_type": "code",
   "execution_count": null,
   "id": "a50f34c9-49df-4b46-a009-222b655bdeb0",
   "metadata": {},
   "outputs": [],
   "source": []
  },
  {
   "cell_type": "code",
   "execution_count": null,
   "id": "729c8f3e-7f97-4990-9b1e-f75f1b1c9ab9",
   "metadata": {},
   "outputs": [],
   "source": []
  },
  {
   "cell_type": "code",
   "execution_count": null,
   "id": "595ed471-fbff-472f-9e5b-662593cd2492",
   "metadata": {},
   "outputs": [],
   "source": []
  },
  {
   "cell_type": "code",
   "execution_count": null,
   "id": "45fa9f5d-80af-4719-9e25-23b38cc8f1b4",
   "metadata": {},
   "outputs": [],
   "source": []
  },
  {
   "cell_type": "code",
   "execution_count": 11,
   "id": "0118fd40-7940-4351-ae1b-e82f6e0f571d",
   "metadata": {},
   "outputs": [
    {
     "data": {
      "text/plain": [
       "'치킨 전문점'"
      ]
     },
     "execution_count": 11,
     "metadata": {},
     "output_type": "execute_result"
    }
   ],
   "source": [
    "wait = WebDriverWait(driver, 10)\n",
    "search = wait.until(EC.element_to_be_clickable((By.CSS_SELECTOR, '#tbTbody > tr > td')))\n",
    "search.text"
   ]
  },
  {
   "cell_type": "code",
   "execution_count": 115,
   "id": "8efee003-3fee-4c6c-b9cb-844bc1497f4f",
   "metadata": {},
   "outputs": [
    {
     "name": "stdout",
     "output_type": "stream",
     "text": [
      "True\n",
      "True\n",
      "asdf\n",
      "True\n",
      "asdf\n"
     ]
    }
   ],
   "source": [
    "search = driver.find_element(By.CSS_SELECTOR, '#iptText')\n",
    "search.clear()\n",
    "search.send_keys('asdf')\n",
    "\n",
    "print(WebDriverWait(driver, 10).until(EC.invisibility_of_element_located((By.CSS_SELECTOR, \"[class$='loading__bar']\"))))\n",
    "\n",
    "search = driver.find_element(By.CSS_SELECTOR, '#iptText2')\n",
    "search.clear()\n",
    "search.send_keys('asdfasdf')\n",
    "\n",
    "print(WebDriverWait(driver, 10).until(EC.invisibility_of_element_located((By.CSS_SELECTOR, \"[class$='loading__bar']\"))))\n",
    "print('asdf')\n",
    "\n",
    "search = driver.find_element(By.CSS_SELECTOR, '#btnSearch')\n",
    "search.click()\n",
    "\n",
    "print(WebDriverWait(driver, 10).until(EC.invisibility_of_element_located((By.CSS_SELECTOR, \"[class$='loading__bar']\"))))\n",
    "print('asdf')"
   ]
  },
  {
   "cell_type": "code",
   "execution_count": 7,
   "id": "b0aa6680-4e18-4729-9adb-8108449c7738",
   "metadata": {},
   "outputs": [
    {
     "data": {
      "text/html": [
       "<div>\n",
       "<style scoped>\n",
       "    .dataframe tbody tr th:only-of-type {\n",
       "        vertical-align: middle;\n",
       "    }\n",
       "\n",
       "    .dataframe tbody tr th {\n",
       "        vertical-align: top;\n",
       "    }\n",
       "\n",
       "    .dataframe thead th {\n",
       "        text-align: right;\n",
       "    }\n",
       "</style>\n",
       "<table border=\"1\" class=\"dataframe\">\n",
       "  <thead>\n",
       "    <tr style=\"text-align: right;\">\n",
       "      <th></th>\n",
       "      <th>Unnamed: 0</th>\n",
       "      <th>가맹점명</th>\n",
       "      <th>주소</th>\n",
       "      <th>분류</th>\n",
       "      <th>점수</th>\n",
       "      <th>건수</th>\n",
       "      <th>거리</th>\n",
       "      <th>제로페이</th>\n",
       "    </tr>\n",
       "  </thead>\n",
       "  <tbody>\n",
       "    <tr>\n",
       "      <th>4</th>\n",
       "      <td>4</td>\n",
       "      <td>쁘띠문래</td>\n",
       "      <td>서울 영등포구 선유로17길 24 신일아르디세 1층 109호</td>\n",
       "      <td>양식</td>\n",
       "      <td>4.1</td>\n",
       "      <td>22.0</td>\n",
       "      <td>354.80</td>\n",
       "      <td>X</td>\n",
       "    </tr>\n",
       "    <tr>\n",
       "      <th>9</th>\n",
       "      <td>9</td>\n",
       "      <td>60계치킨 문래점</td>\n",
       "      <td>서울 영등포구 문래로 33 문래크라운팰리스 101동 101호</td>\n",
       "      <td>치킨</td>\n",
       "      <td>3.1</td>\n",
       "      <td>17.0</td>\n",
       "      <td>313.50</td>\n",
       "      <td>X</td>\n",
       "    </tr>\n",
       "    <tr>\n",
       "      <th>10</th>\n",
       "      <td>10</td>\n",
       "      <td>어촌</td>\n",
       "      <td>서울 영등포구 영등포로 33 목동비즈타워 1층 101호</td>\n",
       "      <td>해물,생선</td>\n",
       "      <td>4.2</td>\n",
       "      <td>33.0</td>\n",
       "      <td>610.54</td>\n",
       "      <td>X</td>\n",
       "    </tr>\n",
       "    <tr>\n",
       "      <th>14</th>\n",
       "      <td>14</td>\n",
       "      <td>온리원갈비</td>\n",
       "      <td>서울 영등포구 영등포로 33 목동비즈타워 1층 115호</td>\n",
       "      <td>갈비</td>\n",
       "      <td>4.5</td>\n",
       "      <td>35.0</td>\n",
       "      <td>610.54</td>\n",
       "      <td>X</td>\n",
       "    </tr>\n",
       "    <tr>\n",
       "      <th>16</th>\n",
       "      <td>16</td>\n",
       "      <td>스시히비</td>\n",
       "      <td>서울 영등포구 선유서로24길 6 영등포중흥S-CLASS판매시설동 1층 110-01호</td>\n",
       "      <td>초밥,롤</td>\n",
       "      <td>5.0</td>\n",
       "      <td>8.0</td>\n",
       "      <td>636.43</td>\n",
       "      <td>X</td>\n",
       "    </tr>\n",
       "  </tbody>\n",
       "</table>\n",
       "</div>"
      ],
      "text/plain": [
       "    Unnamed: 0       가맹점명                                              주소  \\\n",
       "4            4       쁘띠문래                서울 영등포구 선유로17길 24 신일아르디세 1층 109호   \n",
       "9            9  60계치킨 문래점               서울 영등포구 문래로 33 문래크라운팰리스 101동 101호   \n",
       "10          10         어촌                  서울 영등포구 영등포로 33 목동비즈타워 1층 101호   \n",
       "14          14      온리원갈비                  서울 영등포구 영등포로 33 목동비즈타워 1층 115호   \n",
       "16          16       스시히비  서울 영등포구 선유서로24길 6 영등포중흥S-CLASS판매시설동 1층 110-01호   \n",
       "\n",
       "       분류   점수    건수      거리 제로페이  \n",
       "4      양식  4.1  22.0  354.80    X  \n",
       "9      치킨  3.1  17.0  313.50    X  \n",
       "10  해물,생선  4.2  33.0  610.54    X  \n",
       "14     갈비  4.5  35.0  610.54    X  \n",
       "16   초밥,롤  5.0   8.0  636.43    X  "
      ]
     },
     "execution_count": 7,
     "metadata": {},
     "output_type": "execute_result"
    }
   ],
   "source": [
    "load_lst.loc[load_lst['제로페이']=='X'][0:50]"
   ]
  },
  {
   "cell_type": "code",
   "execution_count": null,
   "id": "bee0d8bc-68ad-401e-9a1c-e99e2fe8c176",
   "metadata": {},
   "outputs": [],
   "source": [
    "loading__bar"
   ]
  },
  {
   "cell_type": "code",
   "execution_count": 109,
   "id": "a05219a1-9602-4102-8296-f6ff16e37abb",
   "metadata": {},
   "outputs": [
    {
     "data": {
      "text/plain": [
       "True"
      ]
     },
     "execution_count": 109,
     "metadata": {},
     "output_type": "execute_result"
    }
   ],
   "source": [
    "WebDriverWait(driver, 10).until(EC.invisibility_of_element_located((By.CSS_SELECTOR, \"[class$='loading__bar']\")))"
   ]
  },
  {
   "cell_type": "code",
   "execution_count": null,
   "id": "7690b2e6-1c9c-481c-a33b-d08230ca1193",
   "metadata": {},
   "outputs": [],
   "source": []
  },
  {
   "cell_type": "code",
   "execution_count": 216,
   "id": "6253cd0c-5c54-4c18-b82b-fd568f97aedf",
   "metadata": {},
   "outputs": [],
   "source": [
    "search = driver.find_element(By.CSS_SELECTOR, '#iptText')\n",
    "search.send_keys('소담촌')"
   ]
  },
  {
   "cell_type": "code",
   "execution_count": 218,
   "id": "efccab29-1dee-4498-9a42-c5fd19759eb6",
   "metadata": {},
   "outputs": [],
   "source": [
    "search = driver.find_element(By.CSS_SELECTOR, '#iptText2')\n",
    "search.send_keys('서울 영등포구 영등포로 21')"
   ]
  },
  {
   "cell_type": "code",
   "execution_count": 220,
   "id": "b49a5dce-aa45-467e-8974-d15678b5bbcb",
   "metadata": {},
   "outputs": [],
   "source": [
    "search = driver.find_element(By.CSS_SELECTOR, '#btnSearch')\n",
    "search.click()"
   ]
  },
  {
   "cell_type": "code",
   "execution_count": 232,
   "id": "29588443-aa19-4e86-b553-d5123a81c5ee",
   "metadata": {},
   "outputs": [
    {
     "data": {
      "text/plain": [
       "False"
      ]
     },
     "execution_count": 232,
     "metadata": {},
     "output_type": "execute_result"
    }
   ],
   "source": [
    "search = driver.find_element(By.CSS_SELECTOR, '#tbTbody > tr > td')\n",
    "'없습니다' in search.text"
   ]
  },
  {
   "cell_type": "code",
   "execution_count": null,
   "id": "259ec124-703e-4341-9e0e-7e7fee5c2868",
   "metadata": {},
   "outputs": [],
   "source": []
  },
  {
   "cell_type": "code",
   "execution_count": 226,
   "id": "9fbacd13-d4a0-41a0-ab3b-1a0d312d83f2",
   "metadata": {},
   "outputs": [],
   "source": [
    "search = driver.find_element(By.CSS_SELECTOR, '#iptText')\n",
    "search.send_keys('김가네')"
   ]
  },
  {
   "cell_type": "code",
   "execution_count": 228,
   "id": "2e836394-fecb-4bf5-b969-6efc62af0716",
   "metadata": {},
   "outputs": [],
   "source": [
    "search = driver.find_element(By.CSS_SELECTOR, '#iptText2')\n",
    "search.send_keys('서울 영등포구 선유로9길 10')"
   ]
  },
  {
   "cell_type": "code",
   "execution_count": 230,
   "id": "f727ded5-26b4-4f81-b2db-d18ce8692752",
   "metadata": {},
   "outputs": [],
   "source": [
    "search = driver.find_element(By.CSS_SELECTOR, '#btnSearch')\n",
    "search.click()"
   ]
  },
  {
   "cell_type": "code",
   "execution_count": null,
   "id": "9994ec74-8553-400b-b4f3-f0ed172ad47e",
   "metadata": {},
   "outputs": [],
   "source": [
    "for name in load_lst['가맹점명']:\n",
    "    temp = name.split()\n",
    "    if temp[-1].endswith(\"점\"):\n",
    "        if len(temp) == 1:\n",
    "            if len(temp[0]) > 4:\n",
    "                temp_str = temp[0][:-3]\n",
    "            else:\n",
    "                temp_str = temp[0]\n",
    "        else:\n",
    "            temp.remove(temp[-1])\n",
    "            temp_str = \"\".join(temp)\n",
    "    else:\n",
    "        temp_str = name\n",
    "    \n",
    "    print(temp_str)"
   ]
  },
  {
   "cell_type": "code",
   "execution_count": 212,
   "id": "6d04460b-464a-448e-a27b-892e5a339227",
   "metadata": {},
   "outputs": [
    {
     "name": "stdout",
     "output_type": "stream",
     "text": [
      "서울 영등포구 영등포로\n",
      "서울 영등포구 선유로17길\n",
      "서울 영등포구 선유로17길\n",
      "서울 영등포구 선유로\n",
      "서울 영등포구 선유로17길\n",
      "서울 영등포구 선유서로\n",
      "서울 영등포구 선유서로\n",
      "서울 영등포구 문래북로\n",
      "서울 영등포구 영등포로\n",
      "서울 영등포구 문래로\n",
      "서울 영등포구 영등포로\n",
      "서울 영등포구 선유로13길\n",
      "서울 영등포구 영등포로\n",
      "서울 영등포구 선유서로24길\n",
      "서울 영등포구 영등포로\n",
      "서울 영등포구 선유서로\n",
      "서울 영등포구 선유서로24길\n",
      "서울 영등포구 선유서로\n",
      "서울 영등포구 선유로13길\n",
      "서울 영등포구 선유로17길\n",
      "서울 영등포구 선유서로\n",
      "서울 영등포구 영등포로\n",
      "서울 영등포구 선유서로\n",
      "서울 영등포구 선유로9길\n",
      "서울 영등포구 선유로17길\n",
      "서울 영등포구 선유로13길\n",
      "서울 영등포구 선유로9길\n",
      "서울 영등포구 선유로17길\n",
      "서울 영등포구 선유서로\n",
      "서울 영등포구 선유서로\n",
      "서울 영등포구 선유로9길\n",
      "서울 영등포구 선유로17길\n",
      "서울 영등포구 문래로\n",
      "서울 영등포구 선유로13길\n",
      "서울 영등포구 문래북로\n",
      "서울 영등포구 문래북로\n",
      "서울 영등포구 선유로13길\n",
      "서울 영등포구 선유로9길\n",
      "서울 영등포구 선유로9길\n",
      "서울 영등포구 영등포로\n",
      "서울 영등포구 선유서로24길\n",
      "서울 영등포구 선유로13길\n",
      "서울 영등포구 선유로9길\n",
      "서울 영등포구 선유로13길\n",
      "서울 영등포구 선유서로\n",
      "서울 영등포구 문래로\n",
      "서울 영등포구 문래동6가\n",
      "서울 영등포구 영등포로\n",
      "서울 영등포구 선유서로24길\n",
      "서울 영등포구 선유로13길\n",
      "서울 영등포구 선유서로\n",
      "서울 영등포구 선유로13길\n",
      "서울 영등포구 선유서로24길\n",
      "서울 영등포구 선유로9길\n",
      "서울 영등포구 선유서로\n",
      "서울 영등포구 선유서로\n",
      "서울 영등포구 선유서로24길\n",
      "서울 영등포구 선유로9길\n",
      "서울 영등포구 문래로4길\n",
      "서울 영등포구 문래북로\n",
      "서울 영등포구 선유서로\n",
      "서울 영등포구 선유서로\n",
      "서울 영등포구 선유서로\n",
      "서울 영등포구 선유서로\n",
      "서울 영등포구 영등포로6길\n",
      "서울 영등포구 선유로9길\n",
      "서울 영등포구 문래북로\n",
      "서울 영등포구 선유서로\n",
      "서울 영등포구 영등포로5길\n",
      "서울 영등포구 선유서로\n",
      "서울 영등포구 선유로13길\n",
      "서울 영등포구 영등포로\n",
      "서울 영등포구 선유로9길\n",
      "서울 영등포구 문래로\n",
      "서울 영등포구 선유로9길\n",
      "서울 영등포구 선유서로24길\n",
      "서울 영등포구 선유로9길\n",
      "서울 영등포구 선유서로24길\n",
      "서울 영등포구 선유서로\n",
      "서울 영등포구 선유로9길\n",
      "서울 영등포구 선유서로\n",
      "서울 영등포구 영등포로12길\n",
      "서울 영등포구 선유로9길\n",
      "서울 영등포구 선유서로\n",
      "서울 영등포구 선유로13길\n",
      "서울 영등포구 선유서로24길\n",
      "서울 영등포구 선유로9나길\n",
      "서울 영등포구 선유서로\n",
      "서울 영등포구 선유서로\n",
      "서울 영등포구 선유서로24길\n",
      "서울 영등포구 선유로9길\n",
      "서울 영등포구 선유로13길\n",
      "서울 영등포구 선유로9길\n",
      "서울 영등포구 영등포로\n",
      "서울 영등포구 선유서로\n",
      "서울 영등포구 선유로9나길\n",
      "서울 영등포구 선유로9길\n",
      "서울 영등포구 선유서로\n",
      "서울 영등포구 영등포로\n",
      "서울 영등포구 선유로13길\n",
      "서울 영등포구 선유서로\n",
      "서울 영등포구 선유서로\n",
      "서울 영등포구 문래북로\n",
      "서울 영등포구 선유서로\n",
      "서울 영등포구 영등포로\n",
      "서울 영등포구 영등포로\n",
      "서울 영등포구 선유로17길\n",
      "서울 영등포구 선유로9길\n",
      "서울 영등포구 선유서로\n",
      "서울 영등포구 영등포로\n",
      "서울 영등포구 선유로9길\n",
      "서울 영등포구 문래로8길\n",
      "서울 영등포구 선유서로\n",
      "서울 영등포구 선유로9길\n",
      "서울 영등포구 선유서로\n",
      "서울 영등포구 선유서로\n",
      "서울 영등포구 선유서로\n",
      "서울 영등포구 선유로9길\n",
      "서울 영등포구 선유서로\n",
      "서울 영등포구 선유서로\n",
      "서울 영등포구 선유로11길\n",
      "서울 영등포구 선유서로\n",
      "서울 영등포구 선유로9길\n",
      "서울 영등포구 선유로17길\n",
      "서울 영등포구 영등포로\n",
      "서울 영등포구 영등포로\n",
      "서울 영등포구 선유서로\n",
      "서울 영등포구 선유서로\n",
      "서울 영등포구 영등포로\n",
      "서울 영등포구 선유로17길\n",
      "서울 영등포구 선유서로21길\n",
      "서울 영등포구 선유로17길\n",
      "서울 영등포구 영등포로\n",
      "서울 영등포구 영등포로\n",
      "서울 영등포구 영등포로\n",
      "서울 영등포구 문래북로\n",
      "서울 영등포구 선유로13길\n",
      "서울 영등포구 선유로13길\n",
      "서울 영등포구 선유서로\n",
      "서울 영등포구 선유서로\n",
      "서울 영등포구 영등포로\n",
      "서울 영등포구 문래로4길\n",
      "서울 영등포구 선유서로21길\n",
      "서울 영등포구 선유로9길\n",
      "서울 영등포구 영등포로\n",
      "서울 영등포구 선유서로9길\n",
      "서울 영등포구 선유서로\n",
      "서울 영등포구 선유로9길\n",
      "서울 영등포구 영등포로\n",
      "서울 영등포구 선유로17길\n",
      "서울 영등포구 선유서로24길\n",
      "서울 영등포구 선유서로\n",
      "서울 영등포구 영등포로\n",
      "서울 영등포구 선유로\n",
      "서울 영등포구 선유서로\n",
      "서울 영등포구 선유서로\n",
      "서울 영등포구 선유로13길\n",
      "서울 영등포구 영등포로\n",
      "서울 영등포구 문래로\n",
      "서울 영등포구 선유로13길\n",
      "서울 영등포구 영등포로\n",
      "서울 영등포구 영등포로\n",
      "서울 영등포구 선유로9길\n",
      "서울 영등포구 영등포로\n",
      "서울 영등포구 선유로\n",
      "서울 영등포구 선유로22길\n",
      "서울 영등포구 도림로147길\n",
      "서울 영등포구 선유로22길\n",
      "서울 영등포구 영등포로19길\n",
      "서울 영등포구 문래로\n",
      "서울 영등포구 선유로9가길\n",
      "서울 영등포구 영등포로19길\n",
      "서울 영등포구 도림로147길\n",
      "서울 영등포구 선유로23길\n",
      "서울 영등포구 문래북로\n",
      "서울 영등포구 도림로147길\n",
      "서울 영등포구 문래로\n",
      "서울 영등포구 문래로\n",
      "서울 영등포구 선유로\n",
      "서울 영등포구 선유로24길\n",
      "서울 영등포구 문래로\n",
      "서울 영등포구 도림로\n",
      "서울 영등포구 선유로\n",
      "서울 영등포구 선유로\n",
      "서울 영등포구 선유로\n",
      "서울 영등포구 문래로\n",
      "서울 영등포구 영등포로\n",
      "서울 영등포구 영등포로20길\n",
      "서울 영등포구 선유로\n",
      "서울 영등포구 영등포로18길\n",
      "서울 영등포구 도림로\n",
      "서울 영등포구 선유로\n",
      "서울 영등포구 영등포로\n",
      "서울 영등포구 선유동1로\n",
      "서울 영등포구 영등포로18길\n",
      "서울 영등포구 선유동1로2길\n",
      "서울 영등포구 선유동1로\n",
      "서울 영등포구 영등포로19길\n",
      "서울 영등포구 영등포로\n",
      "서울 영등포구 선유로\n",
      "서울 영등포구 선유로\n",
      "서울 영등포구 선유로\n",
      "서울 영등포구 선유로23길\n",
      "서울 영등포구 선유로\n",
      "서울 영등포구 영등포로\n",
      "서울 영등포구 문래로\n",
      "서울 영등포구 도림로141가길\n",
      "서울 영등포구 선유로\n",
      "서울 영등포구 도림로\n",
      "서울 영등포구 선유로\n",
      "서울 영등포구 선유로23길\n",
      "서울 영등포구 도림로\n",
      "서울 영등포구 선유로\n",
      "서울 영등포구 선유로22길\n",
      "서울 영등포구 문래로\n",
      "서울 영등포구 문래로\n",
      "서울 영등포구 문래로\n",
      "서울 영등포구 선유로\n",
      "서울 영등포구 선유로24길\n",
      "서울 영등포구 영등포로\n",
      "서울 영등포구 선유로\n",
      "서울 영등포구 선유로\n",
      "서울 영등포구 선유동1로\n",
      "서울 영등포구 선유로\n",
      "서울 영등포구 선유로\n",
      "서울 영등포구 선유로22길\n",
      "서울 영등포구 선유로\n",
      "서울 영등포구 선유로\n",
      "서울 영등포구 도림로147길\n",
      "서울 영등포구 선유동1로2길\n",
      "서울 영등포구 영등포로\n",
      "서울 영등포구 영등포로20길\n",
      "서울 영등포구 선유로\n",
      "서울 영등포구 선유로\n",
      "서울 영등포구 문래북로\n",
      "서울 영등포구 선유로\n",
      "서울 영등포구 선유동1로\n",
      "서울 영등포구 문래로20길\n",
      "서울 영등포구 문래로\n",
      "서울 영등포구 선유동1로\n",
      "서울 영등포구 영등포로19길\n",
      "서울 영등포구 선유로\n",
      "서울 영등포구 영등포로19길\n",
      "서울 영등포구 영등포로\n",
      "서울 영등포구 영등포로\n",
      "서울 영등포구 선유로\n",
      "서울 영등포구 문래로\n",
      "서울 영등포구 영등포로\n",
      "서울 영등포구 선유동1로2길\n",
      "서울 영등포구 선유로\n",
      "서울 영등포구 영등포로\n",
      "서울 영등포구 선유로\n",
      "서울 영등포구 도림로\n",
      "서울 영등포구 도림로\n",
      "서울 영등포구 선유로22길\n",
      "서울 영등포구 문래북로\n",
      "서울 영등포구 문래로20길\n",
      "서울 영등포구 선유로\n",
      "서울 영등포구 선유로\n",
      "서울 영등포구 선유로\n",
      "서울 영등포구 선유로23길\n",
      "서울 영등포구 선유로\n",
      "서울 영등포구 선유동1로\n",
      "서울 영등포구 선유로\n",
      "서울 영등포구 선유로23길\n",
      "서울 영등포구 선유로22길\n",
      "서울 영등포구 영등포로18길\n",
      "서울 영등포구 선유동1로\n",
      "서울 영등포구 선유로\n",
      "서울 영등포구 선유로\n",
      "서울 영등포구 문래로\n",
      "서울 영등포구 문래북로\n",
      "서울 영등포구 선유로\n",
      "서울 영등포구 문래로\n",
      "서울 영등포구 선유로\n",
      "서울 영등포구 선유로\n",
      "서울 영등포구 선유로\n",
      "서울 영등포구 선유동1로\n",
      "서울 영등포구 문래로\n",
      "서울 영등포구 문래로\n",
      "서울 영등포구 선유로\n",
      "서울 영등포구 문래로\n",
      "서울 영등포구 선유로\n",
      "서울 영등포구 선유로22길\n",
      "서울 영등포구 문래로\n",
      "서울 영등포구 문래북로\n",
      "서울 영등포구 선유로\n",
      "서울 영등포구 선유로\n",
      "서울 영등포구 선유로\n",
      "서울 영등포구 문래북로\n",
      "서울 영등포구 선유로\n",
      "서울 영등포구 선유로\n",
      "서울 영등포구 선유로25길\n",
      "서울 영등포구 선유동1로\n",
      "서울 영등포구 선유로\n",
      "서울 영등포구 선유로22길\n",
      "서울 영등포구 선유로\n",
      "서울 영등포구 문래로\n",
      "서울 영등포구 영등포로18길\n",
      "서울 영등포구 문래북로\n",
      "서울 영등포구 선유로23길\n",
      "서울 영등포구 영등포로\n",
      "서울 영등포구 선유로\n",
      "서울 영등포구 선유로\n",
      "서울 영등포구 도림로\n",
      "서울 영등포구 선유로\n",
      "서울 영등포구 영등포로\n",
      "서울 영등포구 문래로\n",
      "서울 영등포구 문래북로\n",
      "서울 영등포구 선유로\n",
      "서울 영등포구 선유동1로2길\n",
      "서울 영등포구 선유로\n",
      "서울 영등포구 영등포로19길\n",
      "서울 영등포구 문래로\n",
      "서울 영등포구 선유로\n",
      "서울 영등포구 영등포로\n",
      "서울 영등포구 선유로\n",
      "서울 영등포구 문래로\n",
      "서울 영등포구 선유로\n",
      "서울 영등포구 문래로\n",
      "서울 영등포구 선유동1로\n",
      "서울 영등포구 선유로\n",
      "서울 영등포구 선유동1로\n",
      "서울 영등포구 문래로20길\n",
      "서울 영등포구 도림로\n",
      "서울 영등포구 선유동1로2길\n",
      "서울 영등포구 선유로\n",
      "서울 영등포구 선유로\n",
      "서울 영등포구 선유로\n",
      "서울 영등포구 선유동1로\n",
      "서울 영등포구 선유로\n",
      "서울 영등포구 선유동1로\n",
      "서울 영등포구 선유로\n",
      "서울 영등포구 선유로\n",
      "서울 영등포구 문래로\n",
      "서울 영등포구 영등포로\n",
      "서울 영등포구 선유로\n",
      "서울 영등포구 선유로\n",
      "서울 영등포구 선유동1로\n",
      "서울 영등포구 문래로\n",
      "서울 영등포구 선유로\n",
      "서울 영등포구 선유로\n",
      "서울 영등포구 선유동1로\n",
      "서울 영등포구 선유로\n",
      "서울 영등포구 영등포로\n",
      "서울 영등포구 도림로\n",
      "서울 영등포구 문래로\n",
      "서울 영등포구 선유로\n",
      "서울 영등포구 선유동1로\n",
      "서울 영등포구 문래북로\n",
      "서울 영등포구 선유동1로2길\n",
      "서울 영등포구 선유로\n",
      "서울 영등포구 선유서로24길\n",
      "서울 영등포구 영등포로\n",
      "서울 영등포구 선유로\n",
      "서울 영등포구 선유로\n",
      "서울 영등포구 선유로\n",
      "서울 영등포구 영등포로\n",
      "서울 영등포구 선유로\n",
      "서울 영등포구 선유로\n",
      "서울 영등포구 영등포로\n",
      "서울 영등포구 도림로\n",
      "서울 영등포구 문래로\n",
      "서울 영등포구 선유로\n",
      "서울 영등포구 도림로\n",
      "서울 영등포구 선유동1로\n",
      "서울 영등포구 선유동1로\n",
      "서울 영등포구 도림로147길\n",
      "서울 영등포구 선유로\n",
      "서울 영등포구 도림로\n",
      "서울 영등포구 영등포로\n",
      "서울 영등포구 선유동1로\n",
      "서울 영등포구 선유로\n",
      "서울 영등포구 선유동1로\n",
      "서울 영등포구 선유로\n",
      "서울 영등포구 선유동1로\n",
      "서울 영등포구 선유로\n",
      "서울 영등포구 영등포로\n",
      "서울 영등포구 선유동1로\n",
      "서울 영등포구 선유로\n",
      "서울 영등포구 영등포로\n",
      "서울 영등포구 영등포로\n",
      "서울 영등포구 선유동1로\n",
      "서울 영등포구 문래북로\n",
      "서울 영등포구 영등포로20길\n",
      "서울 영등포구 선유동1로\n",
      "서울 영등포구 도림로\n",
      "서울 영등포구 선유로\n",
      "서울 영등포구 도림로147길\n",
      "서울 영등포구 영등포로\n",
      "서울 영등포구 선유로\n",
      "서울 영등포구 영등포로13길\n",
      "서울 영등포구 영등포로\n",
      "서울 영등포구 선유로\n",
      "서울 영등포구 선유동1로2길\n",
      "서울 영등포구 문래북로\n",
      "서울 영등포구 선유로\n",
      "서울 영등포구 도림로\n",
      "서울 영등포구 선유로\n",
      "서울 영등포구 문래로\n",
      "서울 영등포구 선유동1로\n",
      "서울 영등포구 문래북로\n",
      "서울 영등포구 선유동1로2길\n",
      "서울 영등포구 선유로22길\n",
      "서울 영등포구 영등포로\n",
      "서울 영등포구 선유동1로\n",
      "서울 영등포구 선유동1로\n",
      "서울 영등포구 선유로\n",
      "서울 영등포구 영등포로13길\n",
      "서울 영등포구 문래북로\n",
      "서울 영등포구 선유로\n",
      "서울 영등포구 영등포로\n",
      "서울 영등포구 영등포로\n",
      "서울 영등포구 선유로22길\n",
      "서울 영등포구 선유로22길\n",
      "서울 영등포구 선유로22길\n",
      "서울 영등포구 영등포로\n",
      "서울 영등포구 선유로\n",
      "서울 영등포구 문래북로\n",
      "서울 영등포구 영등포로18길\n",
      "서울 영등포구 문래로\n",
      "서울 영등포구 선유로\n",
      "서울 영등포구 선유로22길\n",
      "서울 영등포구 영등포로\n",
      "서울 영등포구 영등포로\n",
      "서울 영등포구 선유동1로\n",
      "서울 영등포구 선유로\n",
      "서울 영등포구 선유로23길\n",
      "서울 영등포구 영등포로\n",
      "서울 영등포구 선유동1로\n",
      "서울 영등포구 영등포로13길\n",
      "서울 영등포구 문래로\n",
      "서울 영등포구 영등포로\n",
      "서울 영등포구 영등포로\n",
      "서울 영등포구 영등포로\n",
      "서울 영등포구 선유동1로\n",
      "서울 영등포구 영등포로\n",
      "서울 영등포구 선유동1로\n",
      "서울 영등포구 영등포로\n",
      "서울 영등포구 선유로\n",
      "서울 영등포구 선유로\n",
      "서울 영등포구 선유로\n",
      "서울 영등포구 선유로\n",
      "서울 영등포구 선유로\n",
      "서울 영등포구 문래로20길\n",
      "서울 영등포구 문래로\n",
      "서울 영등포구 선유로\n",
      "서울 영등포구 영등포로\n",
      "서울 영등포구 선유동1로\n",
      "서울 영등포구 영등포로\n",
      "서울 영등포구 선유로\n",
      "서울 영등포구 문래로\n",
      "서울 영등포구 선유로\n",
      "서울 영등포구 문래로\n",
      "서울 영등포구 영등포로13길\n",
      "서울 영등포구 선유로\n",
      "서울 영등포구 문래로\n",
      "서울 영등포구 문래로20길\n",
      "서울 영등포구 영등포로\n",
      "서울 영등포구 영등포로19길\n",
      "서울 영등포구 도림로\n",
      "서울 영등포구 선유동1로\n",
      "서울 영등포구 선유로\n",
      "서울 영등포구 선유로\n",
      "서울 영등포구 영등포로20길\n",
      "서울 영등포구 영등포로\n",
      "서울 영등포구 도림로\n",
      "서울 영등포구 문래로\n",
      "서울 영등포구 영등포로\n",
      "서울 영등포구 영등포로\n",
      "서울 영등포구 문래로\n",
      "서울 영등포구 선유로\n",
      "서울 영등포구 영등포로13길\n",
      "서울 영등포구 선유로\n",
      "서울 영등포구 선유동1로2길\n",
      "서울 영등포구 선유동1로2길\n",
      "서울 영등포구 선유로24길\n",
      "서울 영등포구 선유로\n",
      "서울 영등포구 영등포로18길\n",
      "서울 영등포구 영등포로13길\n",
      "서울 영등포구 선유로\n",
      "서울 영등포구 도림로\n",
      "서울 영등포구 선유로\n",
      "서울 영등포구 선유로\n",
      "서울 영등포구 선유로\n",
      "서울 영등포구 선유로\n",
      "서울 영등포구 도림로\n",
      "서울 영등포구 문래로\n",
      "서울 영등포구 영등포로\n",
      "서울 영등포구 선유동1로2길\n",
      "서울 영등포구 영등포로19길\n",
      "서울 영등포구 선유로\n",
      "서울 영등포구 선유동1로\n",
      "서울 영등포구 영등포로13길\n",
      "서울 영등포구 영등포로\n",
      "서울 영등포구 문래북로\n",
      "서울 영등포구 선유로\n",
      "서울 영등포구 도림로\n",
      "서울 영등포구 도림로141가길\n",
      "서울 구로구 경인로67길\n",
      "서울 영등포구 경인로77가길\n",
      "서울 영등포구 도림로139길\n",
      "서울 영등포구 도림로\n",
      "서울 영등포구 도림로141가길\n",
      "서울 영등포구 도림로125길\n",
      "서울 영등포구 도림로139가길\n",
      "서울 영등포구 경인로77가길\n",
      "서울 영등포구 경인로77길\n",
      "서울 영등포구 도림로133길\n",
      "서울 영등포구 도림로131길\n",
      "서울 영등포구 도림로139길\n",
      "서울 영등포구 경인로77길\n",
      "서울 영등포구 경인로79길\n",
      "서울 영등포구 도림로139길\n",
      "서울 영등포구 경인로79길\n",
      "서울 구로구 경인로67길\n",
      "서울 구로구 경인로\n",
      "서울 구로구 경인로67길\n",
      "서울 영등포구 도림로139길\n",
      "서울 영등포구 도림로139길\n",
      "서울 영등포구 도림로\n",
      "서울 영등포구 도림로\n",
      "서울 영등포구 도림로141길\n",
      "서울 영등포구 도림로125길\n",
      "서울 구로구 경인로\n",
      "서울 영등포구 도림로139길\n",
      "서울 구로구 경인로\n",
      "서울 영등포구 경인로79길\n",
      "서울 영등포구 도림로141가길\n",
      "서울 영등포구 경인로79길\n",
      "서울 영등포구 경인로\n",
      "서울 구로구 경인로67길\n",
      "서울 구로구 경인로67길\n",
      "서울 구로구 경인로\n",
      "서울 영등포구 도림로141길\n",
      "서울 구로구 경인로\n",
      "서울 영등포구 도림로\n",
      "서울 영등포구 경인로77가길\n",
      "서울 구로구 경인로\n",
      "서울 구로구 경인로\n",
      "서울 영등포구 도림로139가길\n",
      "서울 영등포구 도림로141길\n",
      "서울 영등포구 도림로141길\n",
      "서울 구로구 경인로\n",
      "서울 영등포구 도림로139가길\n",
      "서울 구로구 경인로\n",
      "서울 영등포구 도림로139길\n",
      "서울 영등포구 도림로139길\n",
      "서울 구로구 경인로67길\n",
      "서울 구로구 경인로67길\n",
      "서울 구로구 경인로\n",
      "서울 영등포구 경인로79길\n",
      "서울 영등포구 도림로139길\n",
      "서울 영등포구 도림로139길\n",
      "서울 영등포구 도림로141가길\n",
      "서울 영등포구 도림로\n",
      "서울 영등포구 도림로131길\n",
      "서울 영등포구 경인로79길\n",
      "서울 구로구 경인로\n",
      "서울 구로구 경인로\n",
      "서울 영등포구 도림로139길\n",
      "서울 영등포구 도림로125길\n",
      "서울 영등포구 경인로77길\n",
      "서울 영등포구 도림로\n",
      "서울 영등포구 도림로147길\n",
      "서울 영등포구 도림로\n",
      "서울 구로구 경인로67길\n",
      "서울 영등포구 경인로77길\n",
      "서울 영등포구 경인로77길\n",
      "서울 영등포구 경인로71길\n",
      "서울 영등포구 도림로\n",
      "서울 영등포구 경인로72길\n",
      "서울 영등포구 도림로139가길\n",
      "서울 영등포구 도림로139가길\n",
      "서울 영등포구 도림로139가길\n",
      "서울 영등포구 도림로139길\n",
      "서울 영등포구 도림로141길\n",
      "서울 영등포구 도림로\n",
      "서울 영등포구 도림로141길\n",
      "서울 영등포구 도림로\n",
      "서울 영등포구 도림로141가길\n",
      "서울 영등포구 도림로139길\n",
      "서울 영등포구 도림로139가길\n",
      "서울 구로구 경인로67길\n",
      "서울 영등포구 도림로\n",
      "서울 구로구 경인로67길\n",
      "서울 구로구 경인로67길\n",
      "서울 영등포구 경인로79길\n",
      "서울 영등포구 도림로141길\n",
      "서울 구로구 경인로67길\n",
      "서울 영등포구 도림로143길\n",
      "서울 영등포구 경인로77길\n",
      "서울 구로구 경인로\n",
      "서울 구로구 경인로67길\n",
      "서울 영등포구 도림로139길\n",
      "서울 영등포구 도림로147길\n",
      "서울 영등포구 경인로77길\n",
      "서울 구로구 경인로67길\n",
      "서울 영등포구 경인로77가길\n",
      "서울 영등포구 도림로143길\n",
      "서울 구로구 경인로67길\n",
      "서울 구로구 경인로67길\n",
      "서울 영등포구 도림로139길\n",
      "서울 영등포구 도림로139길\n",
      "서울 영등포구 경인로77길\n",
      "서울 영등포구 도림로141다길\n",
      "서울 영등포구 도림로139길\n",
      "서울 영등포구 도림로141길\n",
      "서울 영등포구 선유로\n",
      "서울 영등포구 도림로141다길\n",
      "서울 영등포구 도림로139길\n",
      "서울 영등포구 도림로\n",
      "서울 영등포구 도림로145길\n",
      "서울 영등포구 도림로143길\n",
      "서울 영등포구 도림로125가길\n",
      "서울 구로구 경인로\n",
      "서울 구로구 경인로67길\n",
      "서울 구로구 경인로67길\n",
      "서울 영등포구 경인로\n",
      "서울 영등포구 도림로\n",
      "서울 영등포구 도림로139가길\n",
      "서울 영등포구 선유로\n",
      "서울 구로구 경인로\n",
      "서울 영등포구 경인로77길\n",
      "서울 구로구 경인로67길\n",
      "서울 영등포구 도림로125가길\n",
      "서울 구로구 경인로\n",
      "서울 구로구 경인로\n",
      "서울 영등포구 선유로\n",
      "서울 영등포구 경인로79길\n",
      "서울 구로구 경인로67길\n",
      "서울 영등포구 도림로139길\n",
      "서울 영등포구 경인로79길\n",
      "서울 영등포구 도림로\n",
      "서울 영등포구 경인로\n",
      "서울 구로구 경인로\n",
      "서울 영등포구 선유로\n",
      "서울 구로구 경인로67길\n",
      "서울 영등포구 도림로143길\n",
      "서울 영등포구 경인로\n",
      "서울 영등포구 도림로139길\n",
      "서울 영등포구 도림로135길\n",
      "서울 영등포구 도림로135길\n",
      "서울 영등포구 도림로\n",
      "서울 영등포구 도림로143길\n",
      "서울 영등포구 도림로133길\n",
      "서울 구로구 경인로67길\n",
      "서울 구로구 경인로67길\n",
      "서울 구로구 경인로\n",
      "서울 구로구 경인로\n",
      "서울 영등포구 도림로141길\n",
      "서울 구로구 경인로\n",
      "서울 구로구 경인로67길\n",
      "서울 구로구 경인로\n",
      "서울 영등포구 도림로139길\n",
      "서울 영등포구 도림로137길\n",
      "서울 구로구 경인로67길\n",
      "서울 영등포구 경인로77길\n",
      "서울 구로구 경인로\n",
      "서울 영등포구 도림로141길\n",
      "서울 구로구 경인로\n",
      "서울 영등포구 도림로\n",
      "서울 영등포구 도림로\n",
      "서울 영등포구 도림로125가길\n",
      "서울 영등포구 경인로\n",
      "서울 영등포구 경인로\n",
      "서울 영등포구 도림로141다길\n",
      "서울 영등포구 경인로77길\n",
      "서울 영등포구 경인로\n",
      "서울 영등포구 도림로141가길\n",
      "서울 영등포구 도림로141라길\n",
      "서울 영등포구 경인로\n",
      "서울 영등포구 도림로139길\n",
      "서울 영등포구 도림로125길\n",
      "서울 영등포구 도림로125가길\n",
      "서울 구로구 경인로\n",
      "서울 구로구 경인로67길\n",
      "서울 영등포구 도림로141가길\n",
      "서울 영등포구 도림로139길\n",
      "서울 구로구 경인로\n",
      "서울 영등포구 도림로\n",
      "서울 영등포구 도림로131길\n",
      "서울 영등포구 도림로141다길\n",
      "서울 영등포구 도림로141길\n",
      "서울 영등포구 도림로\n",
      "서울 구로구 경인로67길\n",
      "서울 영등포구 도림로143길\n",
      "서울 영등포구 경인로72길\n",
      "서울 영등포구 도림로\n",
      "서울 구로구 경인로\n",
      "서울 영등포구 경인로77가길\n",
      "서울 영등포구 도림로141다길\n",
      "서울 영등포구 도림로143길\n",
      "서울 영등포구 도림로\n",
      "서울 구로구 경인로67길\n",
      "서울 영등포구 도림로131길\n",
      "서울 영등포구 도림로\n",
      "서울 영등포구 경인로79길\n",
      "서울 영등포구 경인로77길\n",
      "서울 구로구 경인로\n",
      "서울 영등포구 도림로141가길\n",
      "서울 영등포구 도림로139가길\n",
      "서울 영등포구 도림로139길\n",
      "서울 영등포구 도림로\n",
      "서울 영등포구 도림로\n",
      "서울 영등포구 도림로131길\n",
      "서울 영등포구 경인로77길\n",
      "서울 영등포구 도림로143길\n",
      "서울 구로구 경인로\n",
      "서울 영등포구 도림로139길\n",
      "서울 영등포구 도림로141가길\n",
      "서울 영등포구 도림로131길\n",
      "서울 영등포구 도림로141길\n",
      "서울 영등포구 도림로\n",
      "서울 영등포구 도림로131길\n",
      "서울 영등포구 도림로137길\n",
      "서울 영등포구 도림로\n",
      "서울 영등포구 도림로\n",
      "서울 영등포구 경인로74길\n",
      "서울 구로구 경인로\n",
      "서울 구로구 경인로67길\n",
      "서울 영등포구 선유로\n",
      "서울 영등포구 도림로\n",
      "서울 영등포구 경인로77길\n",
      "서울 영등포구 도림로145길\n",
      "서울 영등포구 경인로79길\n",
      "서울 영등포구 경인로76길\n",
      "서울 영등포구 도림로\n",
      "서울 영등포구 경인로\n",
      "서울 구로구 경인로\n",
      "서울 영등포구 도림로147길\n",
      "서울 영등포구 도림로139길\n",
      "서울 영등포구 도림로141가길\n",
      "서울 구로구 경인로67길\n",
      "서울 구로구 경인로67길\n",
      "서울 영등포구 도림로\n",
      "서울 영등포구 도림로139길\n",
      "서울 영등포구 도림로141나길\n",
      "서울 영등포구 도림로143길\n",
      "서울 영등포구 도림로145길\n",
      "서울 영등포구 도림로147길\n",
      "서울 영등포구 도림로125가길\n",
      "서울 영등포구 도림로143길\n",
      "서울 영등포구 경인로74길\n",
      "서울 구로구 경인로67길\n",
      "서울 영등포구 도림로143길\n",
      "서울 구로구 경인로\n",
      "서울 영등포구 도림로139길\n",
      "서울 영등포구 경인로\n",
      "서울 영등포구 도림로139길\n",
      "서울 영등포구 도림로141길\n",
      "서울 구로구 경인로67길\n",
      "서울 영등포구 경인로\n",
      "서울 영등포구 도림로141가길\n",
      "서울 영등포구 도림로141다길\n",
      "서울 영등포구 도림로139가길\n",
      "서울 영등포구 도림로139길\n",
      "서울 영등포구 경인로77길\n",
      "서울 구로구 경인로67길\n",
      "서울 영등포구 경인로\n",
      "서울 구로구 경인로67길\n",
      "서울 영등포구 도림로\n",
      "서울 영등포구 경인로79길\n",
      "서울 구로구 경인로67길\n",
      "서울 영등포구 도림로\n",
      "서울 영등포구 도림로139길\n",
      "서울 영등포구 경인로74길\n",
      "서울 영등포구 도림로\n",
      "서울 영등포구 도림로139길\n",
      "서울 영등포구 도림로141길\n",
      "서울 영등포구 도림로145길\n",
      "서울 영등포구 도림로141나길\n",
      "서울 영등포구 도림로\n",
      "서울 구로구 경인로67길\n",
      "서울 구로구 경인로\n",
      "서울 구로구 경인로\n",
      "서울 영등포구 도림로147길\n",
      "서울 영등포구 도림로131길\n",
      "서울 구로구 경인로67길\n",
      "서울 영등포구 경인로77길\n",
      "서울 영등포구 도림로139가길\n",
      "서울 구로구 경인로\n",
      "서울 구로구 경인로\n",
      "서울 구로구 경인로67길\n",
      "서울 구로구 경인로67길\n",
      "서울 구로구 경인로67길\n",
      "서울 구로구 경인로\n",
      "서울 영등포구 도림로141길\n",
      "서울 영등포구 도림로125가길\n",
      "서울 구로구 경인로\n",
      "서울 영등포구 도림로\n",
      "서울 영등포구 도림로\n",
      "서울 영등포구 도림로141길\n",
      "서울 영등포구 도림로131길\n",
      "서울 영등포구 경인로77길\n",
      "서울 영등포구 도림로135길\n",
      "서울 구로구 경인로67길\n",
      "서울 구로구 경인로\n",
      "서울 구로구 경인로\n",
      "서울 구로구 경인로67길\n",
      "서울 구로구 경인로\n",
      "서울 구로구 경인로\n",
      "서울 구로구 경인로\n",
      "서울 구로구 경인로\n",
      "서울 구로구 경인로\n",
      "서울 구로구 경인로\n",
      "서울 구로구 경인로\n",
      "서울 구로구 경인로\n",
      "서울 구로구 신도림로\n",
      "서울 구로구 경인로\n",
      "서울 영등포구 선유로9나길\n",
      "서울 구로구 신도림로19길\n",
      "서울 영등포구 선유로3길\n",
      "서울 구로구 경인로\n",
      "서울 구로구 경인로\n",
      "서울 구로구 신도림로\n",
      "서울 영등포구 선유로3길\n",
      "서울 구로구 신도림로21길\n",
      "서울 구로구 경인로\n",
      "서울 구로구 경인로\n",
      "서울 구로구 경인로\n",
      "서울 영등포구 선유로3길\n",
      "서울 구로구 경인로\n",
      "서울 구로구 신도림로19길\n",
      "서울 구로구 경인로\n",
      "서울 구로구 경인로\n",
      "서울 구로구 경인로\n",
      "서울 구로구 신도림로\n",
      "서울 영등포구 선유로3길\n",
      "서울 구로구 경인로67길\n",
      "서울 영등포구 선유로3길\n",
      "서울 구로구 경인로\n",
      "서울 영등포구 선유로9나길\n",
      "서울 구로구 경인로\n",
      "서울 구로구 경인로\n",
      "서울 영등포구 선유로3길\n",
      "서울 구로구 신도림로19길\n",
      "서울 영등포구 선유로3길\n",
      "서울 구로구 신도림로19길\n",
      "서울 영등포구 선유로9나길\n",
      "서울 구로구 경인로65길\n",
      "서울 구로구 신도림로21길\n",
      "서울 구로구 경인로\n",
      "서울 구로구 경인로67길\n",
      "서울 구로구 경인로\n",
      "서울 영등포구 선유로3길\n",
      "서울 구로구 신도림로\n",
      "서울 영등포구 선유로9나길\n",
      "서울 구로구 신도림로\n",
      "서울 구로구 신도림로\n",
      "서울 구로구 경인로67길\n",
      "서울 구로구 경인로\n",
      "서울 구로구 경인로\n",
      "서울 구로구 신도림로\n",
      "서울 영등포구 경인로71길\n",
      "서울 구로구 경인로\n",
      "서울 구로구 경인로65길\n",
      "서울 구로구 신도림로\n",
      "서울 구로구 신도림로\n",
      "서울 구로구 경인로\n",
      "서울 구로구 신도림로19길\n",
      "서울 영등포구 선유로9나길\n",
      "서울 구로구 신도림로19길\n",
      "서울 구로구 경인로\n",
      "서울 구로구 경인로\n",
      "서울 영등포구 선유로3길\n",
      "서울 영등포구 선유로3길\n",
      "서울 구로구 경인로\n",
      "서울 구로구 경인로\n",
      "서울 구로구 경인로\n",
      "서울 구로구 신도림로\n",
      "서울 구로구 신도림로\n",
      "서울 구로구 경인로\n",
      "서울 구로구 신도림로\n",
      "서울 구로구 신도림로21길\n",
      "서울 구로구 경인로\n",
      "서울 구로구 신도림로\n",
      "서울 구로구 경인로\n",
      "서울 구로구 경인로\n",
      "서울 영등포구 선유로3길\n",
      "서울 구로구 경인로\n",
      "서울 구로구 경인로\n",
      "서울 구로구 신도림로19길\n"
     ]
    }
   ],
   "source": [
    "for add in load_lst['주소']:\n",
    "    temp_add = add.split()[0]+\" \"+add.split()[1]+\" \"+add.split()[2]\n",
    "    print(temp_add)"
   ]
  },
  {
   "cell_type": "code",
   "execution_count": null,
   "id": "280b6b36-382e-4cef-845c-ece6613dcbab",
   "metadata": {},
   "outputs": [],
   "source": []
  },
  {
   "cell_type": "code",
   "execution_count": null,
   "id": "0a0decad-96a0-465c-be3f-b266ef7cfdc5",
   "metadata": {},
   "outputs": [],
   "source": [
    "# 매장이름 / split() 후 맨뒤에 점이 붙은 묶음은 제거 후 검색\n",
    "# 주소 / 도로명까지만 검색"
   ]
  }
 ],
 "metadata": {
  "kernelspec": {
   "display_name": "base",
   "language": "python",
   "name": "python3"
  },
  "language_info": {
   "codemirror_mode": {
    "name": "ipython",
    "version": 3
   },
   "file_extension": ".py",
   "mimetype": "text/x-python",
   "name": "python",
   "nbconvert_exporter": "python",
   "pygments_lexer": "ipython3",
   "version": "3.12.7"
  }
 },
 "nbformat": 4,
 "nbformat_minor": 5
}
